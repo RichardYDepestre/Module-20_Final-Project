{
 "metadata": {
  "language_info": {
   "codemirror_mode": {
    "name": "ipython",
    "version": 3
   },
   "file_extension": ".py",
   "mimetype": "text/x-python",
   "name": "python",
   "nbconvert_exporter": "python",
   "pygments_lexer": "ipython3",
   "version": "3.9.5"
  },
  "orig_nbformat": 4,
  "kernelspec": {
   "name": "python3",
   "display_name": "Python 3.9.5 64-bit ('mlenv': conda)"
  },
  "interpreter": {
   "hash": "c8664c37d20d1a667b792eed6f68d26a151ec74784f499ac31579ebbdd16e46a"
  }
 },
 "nbformat": 4,
 "nbformat_minor": 2,
 "cells": [
  {
   "source": [
    "## Pre-processing\n",
    "### Purpose:"
   ],
   "cell_type": "markdown",
   "metadata": {}
  },
  {
   "source": [
    "## download datasets"
   ],
   "cell_type": "markdown",
   "metadata": {}
  },
  {
   "cell_type": "code",
   "execution_count": 1,
   "metadata": {},
   "outputs": [],
   "source": [
    "%run fifa_players_functions.ipynb\n",
    "\n",
    "from pathlib import Path\n",
    "import os"
   ]
  },
  {
   "cell_type": "code",
   "execution_count": 2,
   "metadata": {
    "tags": []
   },
   "outputs": [
    {
     "output_type": "stream",
     "name": "stderr",
     "text": [
      "  % Total    % Received % Xferd  Average Speed   Time    Time     Time  Current\n",
      "                                 Dload  Upload   Total   Spent    Left  Speed\n",
      "\n",
      "  0     0    0     0    0     0      0      0 --:--:-- --:--:-- --:--:--     0Warning: Failed to create the file fifa_players_git.csv: Permission denied\n",
      "\n",
      "  0 4592k    0  1371    0     0   8568      0  0:09:08 --:--:--  0:09:08  8622\n",
      "curl: (23) Failure writing output to destination\n",
      "  % Total    % Received % Xferd  Average Speed   Time    Time     Time  Current\n",
      "                                 Dload  Upload   Total   Spent    Left  Speed\n",
      "\n",
      "  0     0    0     0    0     0      0      0 --:--:-- --:--:-- --:--:--     0\n",
      "100  334k  100  334k    0     0  1616k      0 --:--:-- --:--:-- --:--:-- 1616k\n"
     ]
    }
   ],
   "source": [
    "os.chdir('E:\\\\data-engineering@ColumbiaUnv\\\\Module-20_final_project\\\\resources')\n",
    "!curl -L https://raw.githubusercontent.com/ponda614/Data-Science-Final-Project-/main/resources/players.csv  -o fifa_players_git.csv\n",
    "!curl -L https://raw.githubusercontent.com/ponda614/Data-Science-Final-Project-/main/resources/goal_keepers.csv -o fifa_goal_keepers_git.csv\n",
    "\n",
    "os.chdir('E:\\\\data-engineering@ColumbiaUnv\\\\Module-20_final_project\\\\notebooks')"
   ]
  },
  {
   "source": [
    "## build dataframes"
   ],
   "cell_type": "markdown",
   "metadata": {}
  },
  {
   "source": [
    "players_dataset_loc = os.path.join('../resources', 'fifa_players_git.csv')\n",
    "players_df = create_fifa_players_dataframe(players_dataset_loc)\n",
    "goal_keepers_dataset_loc= os.path.join('../resources', 'fifa_goal_keepers_git.csv')\n",
    "goal_keepers_df = create_fifa_players_dataframe(goal_keepers_dataset_loc)"
   ],
   "cell_type": "code",
   "metadata": {},
   "execution_count": 13,
   "outputs": []
  },
  {
   "cell_type": "code",
   "execution_count": 18,
   "metadata": {},
   "outputs": [],
   "source": [
    "goalkeepers_columns = [\n",
    "    'rating'\n",
    "    , 'movement_agility', 'movement_reactions', 'movement_balance'  #, 'movement_acceleration', 'movement_sprint_speed'\n",
    "    , 'power_shot_power', 'power_jumping', 'power_stamina', 'power_strength', 'power_long_shots'\n",
    "    , 'mental_aggression', 'mental_interceptions', 'mental_vision', 'mental_penalties', 'mental_composure' #, 'mental_reflexes'\n",
    "    , 'defending_diving', 'defending_handling', 'defending_positioning'\n",
    "]\n",
    "\n",
    "import pandas\n",
    "goalkeepers_stats_df = pandas.DataFrame(columns=[goalkeepers_columns])\n",
    "\n",
    "goalkeepers_stats_df['rating'] = goal_keepers_df['Rating']\n",
    "# goalkeepers_stats_df['movement_acceleration'] = goal_keepers_df['']\n",
    "# goalkeepers_stats_df['movement_sprint_speed'] = goal_keepers_df['']\n",
    "goalkeepers_stats_df['movement_agility'] = goal_keepers_df['Agility']\n",
    "goalkeepers_stats_df['movement_reactions'] = goal_keepers_df['Reactions']\n",
    "goalkeepers_stats_df['movement_balance'] = goal_keepers_df['Balance']\n",
    "goalkeepers_stats_df['power_shot_power'] = goal_keepers_df['ShotPower']\n",
    "goalkeepers_stats_df['power_jumping'] = goal_keepers_df['Jumping']\n",
    "goalkeepers_stats_df['power_stamina'] = goal_keepers_df['Stamina']\n",
    "goalkeepers_stats_df['power_strength'] = goal_keepers_df['Strength']\n",
    "goalkeepers_stats_df['power_long_shots'] = goal_keepers_df['LongShots']\n",
    "goalkeepers_stats_df['mental_aggression'] = goal_keepers_df['Aggression']\n",
    "goalkeepers_stats_df['mental_interceptions'] = goal_keepers_df['Interceptions']\n",
    "# goalkeepers_stats_df['mental_positioning'] = goal_keepers_df['']\n",
    "goalkeepers_stats_df['mental_vision'] = goal_keepers_df['Vision']\n",
    "goalkeepers_stats_df['mental_penalties'] = goal_keepers_df['Penalties']\n",
    "goalkeepers_stats_df['mental_composure'] = goal_keepers_df['Composure']\n",
    "goalkeepers_stats_df['defending_diving'] = goal_keepers_df['GKDiving']\n",
    "goalkeepers_stats_df['defending_handling'] = goal_keepers_df['GKHandling']\n",
    "goalkeepers_stats_df['defending_positioning'] = goal_keepers_df['GKPositioning']\n",
    "goalkeepers_stats_df['defending_reflexes'] = goal_keepers_df['GKReflexes']\n",
    "\n",
    "# import numpy\n",
    "# goalkeepers_stats_df['isElite'] = numpy.where(goalkeepers_stats_df['rating'] >= 85, 1, 0)\n",
    "# goalkeepers_stats_df['status'] = pandas.Categorical(goalkeepers_stats_df['rating'], categories=['isElite', 'Medium''], ordered=True)\n",
    "# goalkeepers_stats_df['Value'] = goalkeepers_stats_df.groupby('Item')['Status'].apply(lambda x: (x == x.max()).astype(int))"
   ]
  },
  {
   "cell_type": "code",
   "execution_count": 35,
   "metadata": {},
   "outputs": [
    {
     "output_type": "stream",
     "name": "stdout",
     "text": [
      "     rating\n",
      "0      92.0\n",
      "1      91.5\n",
      "2      90.5\n",
      "3      89.5\n",
      "4      89.0\n",
      "...     ...\n",
      "1987   56.5\n",
      "1988   53.0\n",
      "1989   48.0\n",
      "1990   56.0\n",
      "1991   58.5\n",
      "\n",
      "[1992 rows x 1 columns]\n",
      "C:\\Users\\albat\\anaconda3\\envs\\mlenv\\lib\\site-packages\\pandas\\core\\generic.py:4153: PerformanceWarning: dropping on a non-lexsorted multi-index without a level parameter may impact performance.\n",
      "  obj = obj._drop_axis(labels, axis, level=level, errors=errors)\n"
     ]
    },
    {
     "output_type": "error",
     "ename": "ValueError",
     "evalue": "The least populated class in y has only 1 member, which is too few. The minimum number of groups for any class cannot be less than 2.",
     "traceback": [
      "\u001b[1;31m---------------------------------------------------------------------------\u001b[0m",
      "\u001b[1;31mValueError\u001b[0m                                Traceback (most recent call last)",
      "\u001b[1;32m<ipython-input-35-41c1017dc55a>\u001b[0m in \u001b[0;36m<module>\u001b[1;34m\u001b[0m\n\u001b[0;32m      6\u001b[0m \u001b[1;32mfrom\u001b[0m \u001b[0msklearn\u001b[0m\u001b[1;33m.\u001b[0m\u001b[0mmodel_selection\u001b[0m \u001b[1;32mimport\u001b[0m \u001b[0mtrain_test_split\u001b[0m\u001b[1;33m\u001b[0m\u001b[1;33m\u001b[0m\u001b[0m\n\u001b[0;32m      7\u001b[0m \u001b[1;33m\u001b[0m\u001b[0m\n\u001b[1;32m----> 8\u001b[1;33m X_train, X_test, y_train, y_test = train_test_split(X, \n\u001b[0m\u001b[0;32m      9\u001b[0m                                                     \u001b[0my\u001b[0m\u001b[1;33m,\u001b[0m\u001b[1;33m\u001b[0m\u001b[1;33m\u001b[0m\u001b[0m\n\u001b[0;32m     10\u001b[0m                                                     \u001b[0mrandom_state\u001b[0m\u001b[1;33m=\u001b[0m\u001b[1;36m1\u001b[0m\u001b[1;33m,\u001b[0m\u001b[1;33m\u001b[0m\u001b[1;33m\u001b[0m\u001b[0m\n",
      "\u001b[1;32m~\\anaconda3\\envs\\mlenv\\lib\\site-packages\\sklearn\\model_selection\\_split.py\u001b[0m in \u001b[0;36mtrain_test_split\u001b[1;34m(test_size, train_size, random_state, shuffle, stratify, *arrays)\u001b[0m\n\u001b[0;32m   2195\u001b[0m                      random_state=random_state)\n\u001b[0;32m   2196\u001b[0m \u001b[1;33m\u001b[0m\u001b[0m\n\u001b[1;32m-> 2197\u001b[1;33m         \u001b[0mtrain\u001b[0m\u001b[1;33m,\u001b[0m \u001b[0mtest\u001b[0m \u001b[1;33m=\u001b[0m \u001b[0mnext\u001b[0m\u001b[1;33m(\u001b[0m\u001b[0mcv\u001b[0m\u001b[1;33m.\u001b[0m\u001b[0msplit\u001b[0m\u001b[1;33m(\u001b[0m\u001b[0mX\u001b[0m\u001b[1;33m=\u001b[0m\u001b[0marrays\u001b[0m\u001b[1;33m[\u001b[0m\u001b[1;36m0\u001b[0m\u001b[1;33m]\u001b[0m\u001b[1;33m,\u001b[0m \u001b[0my\u001b[0m\u001b[1;33m=\u001b[0m\u001b[0mstratify\u001b[0m\u001b[1;33m)\u001b[0m\u001b[1;33m)\u001b[0m\u001b[1;33m\u001b[0m\u001b[1;33m\u001b[0m\u001b[0m\n\u001b[0m\u001b[0;32m   2198\u001b[0m \u001b[1;33m\u001b[0m\u001b[0m\n\u001b[0;32m   2199\u001b[0m     return list(chain.from_iterable((_safe_indexing(a, train),\n",
      "\u001b[1;32m~\\anaconda3\\envs\\mlenv\\lib\\site-packages\\sklearn\\model_selection\\_split.py\u001b[0m in \u001b[0;36msplit\u001b[1;34m(self, X, y, groups)\u001b[0m\n\u001b[0;32m   1385\u001b[0m         \"\"\"\n\u001b[0;32m   1386\u001b[0m         \u001b[0mX\u001b[0m\u001b[1;33m,\u001b[0m \u001b[0my\u001b[0m\u001b[1;33m,\u001b[0m \u001b[0mgroups\u001b[0m \u001b[1;33m=\u001b[0m \u001b[0mindexable\u001b[0m\u001b[1;33m(\u001b[0m\u001b[0mX\u001b[0m\u001b[1;33m,\u001b[0m \u001b[0my\u001b[0m\u001b[1;33m,\u001b[0m \u001b[0mgroups\u001b[0m\u001b[1;33m)\u001b[0m\u001b[1;33m\u001b[0m\u001b[1;33m\u001b[0m\u001b[0m\n\u001b[1;32m-> 1387\u001b[1;33m         \u001b[1;32mfor\u001b[0m \u001b[0mtrain\u001b[0m\u001b[1;33m,\u001b[0m \u001b[0mtest\u001b[0m \u001b[1;32min\u001b[0m \u001b[0mself\u001b[0m\u001b[1;33m.\u001b[0m\u001b[0m_iter_indices\u001b[0m\u001b[1;33m(\u001b[0m\u001b[0mX\u001b[0m\u001b[1;33m,\u001b[0m \u001b[0my\u001b[0m\u001b[1;33m,\u001b[0m \u001b[0mgroups\u001b[0m\u001b[1;33m)\u001b[0m\u001b[1;33m:\u001b[0m\u001b[1;33m\u001b[0m\u001b[1;33m\u001b[0m\u001b[0m\n\u001b[0m\u001b[0;32m   1388\u001b[0m             \u001b[1;32myield\u001b[0m \u001b[0mtrain\u001b[0m\u001b[1;33m,\u001b[0m \u001b[0mtest\u001b[0m\u001b[1;33m\u001b[0m\u001b[1;33m\u001b[0m\u001b[0m\n\u001b[0;32m   1389\u001b[0m \u001b[1;33m\u001b[0m\u001b[0m\n",
      "\u001b[1;32m~\\anaconda3\\envs\\mlenv\\lib\\site-packages\\sklearn\\model_selection\\_split.py\u001b[0m in \u001b[0;36m_iter_indices\u001b[1;34m(self, X, y, groups)\u001b[0m\n\u001b[0;32m   1713\u001b[0m         \u001b[0mclass_counts\u001b[0m \u001b[1;33m=\u001b[0m \u001b[0mnp\u001b[0m\u001b[1;33m.\u001b[0m\u001b[0mbincount\u001b[0m\u001b[1;33m(\u001b[0m\u001b[0my_indices\u001b[0m\u001b[1;33m)\u001b[0m\u001b[1;33m\u001b[0m\u001b[1;33m\u001b[0m\u001b[0m\n\u001b[0;32m   1714\u001b[0m         \u001b[1;32mif\u001b[0m \u001b[0mnp\u001b[0m\u001b[1;33m.\u001b[0m\u001b[0mmin\u001b[0m\u001b[1;33m(\u001b[0m\u001b[0mclass_counts\u001b[0m\u001b[1;33m)\u001b[0m \u001b[1;33m<\u001b[0m \u001b[1;36m2\u001b[0m\u001b[1;33m:\u001b[0m\u001b[1;33m\u001b[0m\u001b[1;33m\u001b[0m\u001b[0m\n\u001b[1;32m-> 1715\u001b[1;33m             raise ValueError(\"The least populated class in y has only 1\"\n\u001b[0m\u001b[0;32m   1716\u001b[0m                              \u001b[1;34m\" member, which is too few. The minimum\"\u001b[0m\u001b[1;33m\u001b[0m\u001b[1;33m\u001b[0m\u001b[0m\n\u001b[0;32m   1717\u001b[0m                              \u001b[1;34m\" number of groups for any class cannot\"\u001b[0m\u001b[1;33m\u001b[0m\u001b[1;33m\u001b[0m\u001b[0m\n",
      "\u001b[1;31mValueError\u001b[0m: The least populated class in y has only 1 member, which is too few. The minimum number of groups for any class cannot be less than 2."
     ]
    }
   ],
   "source": [
    "# Segment the features from the target\n",
    "y = goalkeepers_stats_df[\"rating\"]\n",
    "X = goalkeepers_stats_df.drop(columns=\"rating\", axis=1)\n",
    "X.head()\n",
    "print(y)\n",
    "from sklearn.model_selection import train_test_split\n",
    "\n",
    "X_train, X_test, y_train, y_test = train_test_split(X, \n",
    "                                                    y, \n",
    "                                                    random_state=1)\n",
    "X_train.shape()\n",
    "# print(X_train)\n",
    "# print(y_train)"
   ]
  },
  {
   "source": [
    "from sklearn.svm import SVC\n",
    "model = SVC(kernel='linear')\n",
    "model.fit(X_train, y_train)"
   ],
   "cell_type": "code",
   "metadata": {},
   "execution_count": 29,
   "outputs": [
    {
     "output_type": "stream",
     "name": "stderr",
     "text": [
      "C:\\Users\\albat\\anaconda3\\envs\\mlenv\\lib\\site-packages\\sklearn\\utils\\validation.py:63: DataConversionWarning: A column-vector y was passed when a 1d array was expected. Please change the shape of y to (n_samples, ), for example using ravel().\n  return f(*args, **kwargs)\n"
     ]
    },
    {
     "output_type": "error",
     "ename": "ValueError",
     "evalue": "Unknown label type: 'continuous'",
     "traceback": [
      "\u001b[1;31m---------------------------------------------------------------------------\u001b[0m",
      "\u001b[1;31mValueError\u001b[0m                                Traceback (most recent call last)",
      "\u001b[1;32m<ipython-input-29-e22946b839bb>\u001b[0m in \u001b[0;36m<module>\u001b[1;34m\u001b[0m\n\u001b[0;32m      1\u001b[0m \u001b[1;32mfrom\u001b[0m \u001b[0msklearn\u001b[0m\u001b[1;33m.\u001b[0m\u001b[0msvm\u001b[0m \u001b[1;32mimport\u001b[0m \u001b[0mSVC\u001b[0m\u001b[1;33m\u001b[0m\u001b[1;33m\u001b[0m\u001b[0m\n\u001b[0;32m      2\u001b[0m \u001b[0mmodel\u001b[0m \u001b[1;33m=\u001b[0m \u001b[0mSVC\u001b[0m\u001b[1;33m(\u001b[0m\u001b[0mkernel\u001b[0m\u001b[1;33m=\u001b[0m\u001b[1;34m'linear'\u001b[0m\u001b[1;33m)\u001b[0m\u001b[1;33m\u001b[0m\u001b[1;33m\u001b[0m\u001b[0m\n\u001b[1;32m----> 3\u001b[1;33m \u001b[0mmodel\u001b[0m\u001b[1;33m.\u001b[0m\u001b[0mfit\u001b[0m\u001b[1;33m(\u001b[0m\u001b[0mX_train\u001b[0m\u001b[1;33m,\u001b[0m \u001b[0my_train\u001b[0m\u001b[1;33m)\u001b[0m\u001b[1;33m\u001b[0m\u001b[1;33m\u001b[0m\u001b[0m\n\u001b[0m",
      "\u001b[1;32m~\\anaconda3\\envs\\mlenv\\lib\\site-packages\\sklearn\\svm\\_base.py\u001b[0m in \u001b[0;36mfit\u001b[1;34m(self, X, y, sample_weight)\u001b[0m\n\u001b[0;32m    171\u001b[0m                                        accept_large_sparse=False)\n\u001b[0;32m    172\u001b[0m \u001b[1;33m\u001b[0m\u001b[0m\n\u001b[1;32m--> 173\u001b[1;33m         \u001b[0my\u001b[0m \u001b[1;33m=\u001b[0m \u001b[0mself\u001b[0m\u001b[1;33m.\u001b[0m\u001b[0m_validate_targets\u001b[0m\u001b[1;33m(\u001b[0m\u001b[0my\u001b[0m\u001b[1;33m)\u001b[0m\u001b[1;33m\u001b[0m\u001b[1;33m\u001b[0m\u001b[0m\n\u001b[0m\u001b[0;32m    174\u001b[0m \u001b[1;33m\u001b[0m\u001b[0m\n\u001b[0;32m    175\u001b[0m         sample_weight = np.asarray([]\n",
      "\u001b[1;32m~\\anaconda3\\envs\\mlenv\\lib\\site-packages\\sklearn\\svm\\_base.py\u001b[0m in \u001b[0;36m_validate_targets\u001b[1;34m(self, y)\u001b[0m\n\u001b[0;32m    551\u001b[0m     \u001b[1;32mdef\u001b[0m \u001b[0m_validate_targets\u001b[0m\u001b[1;33m(\u001b[0m\u001b[0mself\u001b[0m\u001b[1;33m,\u001b[0m \u001b[0my\u001b[0m\u001b[1;33m)\u001b[0m\u001b[1;33m:\u001b[0m\u001b[1;33m\u001b[0m\u001b[1;33m\u001b[0m\u001b[0m\n\u001b[0;32m    552\u001b[0m         \u001b[0my_\u001b[0m \u001b[1;33m=\u001b[0m \u001b[0mcolumn_or_1d\u001b[0m\u001b[1;33m(\u001b[0m\u001b[0my\u001b[0m\u001b[1;33m,\u001b[0m \u001b[0mwarn\u001b[0m\u001b[1;33m=\u001b[0m\u001b[1;32mTrue\u001b[0m\u001b[1;33m)\u001b[0m\u001b[1;33m\u001b[0m\u001b[1;33m\u001b[0m\u001b[0m\n\u001b[1;32m--> 553\u001b[1;33m         \u001b[0mcheck_classification_targets\u001b[0m\u001b[1;33m(\u001b[0m\u001b[0my\u001b[0m\u001b[1;33m)\u001b[0m\u001b[1;33m\u001b[0m\u001b[1;33m\u001b[0m\u001b[0m\n\u001b[0m\u001b[0;32m    554\u001b[0m         \u001b[0mcls\u001b[0m\u001b[1;33m,\u001b[0m \u001b[0my\u001b[0m \u001b[1;33m=\u001b[0m \u001b[0mnp\u001b[0m\u001b[1;33m.\u001b[0m\u001b[0munique\u001b[0m\u001b[1;33m(\u001b[0m\u001b[0my_\u001b[0m\u001b[1;33m,\u001b[0m \u001b[0mreturn_inverse\u001b[0m\u001b[1;33m=\u001b[0m\u001b[1;32mTrue\u001b[0m\u001b[1;33m)\u001b[0m\u001b[1;33m\u001b[0m\u001b[1;33m\u001b[0m\u001b[0m\n\u001b[0;32m    555\u001b[0m         self.class_weight_ = compute_class_weight(self.class_weight,\n",
      "\u001b[1;32m~\\anaconda3\\envs\\mlenv\\lib\\site-packages\\sklearn\\utils\\multiclass.py\u001b[0m in \u001b[0;36mcheck_classification_targets\u001b[1;34m(y)\u001b[0m\n\u001b[0;32m    181\u001b[0m     if y_type not in ['binary', 'multiclass', 'multiclass-multioutput',\n\u001b[0;32m    182\u001b[0m                       'multilabel-indicator', 'multilabel-sequences']:\n\u001b[1;32m--> 183\u001b[1;33m         \u001b[1;32mraise\u001b[0m \u001b[0mValueError\u001b[0m\u001b[1;33m(\u001b[0m\u001b[1;34m\"Unknown label type: %r\"\u001b[0m \u001b[1;33m%\u001b[0m \u001b[0my_type\u001b[0m\u001b[1;33m)\u001b[0m\u001b[1;33m\u001b[0m\u001b[1;33m\u001b[0m\u001b[0m\n\u001b[0m\u001b[0;32m    184\u001b[0m \u001b[1;33m\u001b[0m\u001b[0m\n\u001b[0;32m    185\u001b[0m \u001b[1;33m\u001b[0m\u001b[0m\n",
      "\u001b[1;31mValueError\u001b[0m: Unknown label type: 'continuous'"
     ]
    }
   ]
  },
  {
   "cell_type": "code",
   "execution_count": 1272,
   "metadata": {},
   "outputs": [],
   "source": [
    "# display(goal_keepers_df.info())\n",
    "# display(players_df.info())"
   ]
  },
  {
   "cell_type": "code",
   "execution_count": 1273,
   "metadata": {},
   "outputs": [],
   "source": [
    "# display(goal_keepers_df.describe())\n",
    "# display(players_df.describe())"
   ]
  },
  {
   "cell_type": "code",
   "execution_count": 1274,
   "metadata": {},
   "outputs": [],
   "source": [
    "# %matplotlib inline\n",
    "# import matplotlib as mpl\n",
    "# import matplotlib.pyplot as plt\n",
    "# from matplotlib import style\n",
    "\n",
    "# %time players_df.hist(bins=40, figsize=(27,17))\n",
    "# plt.show()\n",
    "\n",
    "# %time goal_keepers_df.hist(bins=40, figsize=(27,17))\n",
    "# plt.show()"
   ]
  },
  {
   "cell_type": "code",
   "execution_count": 1275,
   "metadata": {},
   "outputs": [],
   "source": [
    "# print(f\"{goal_keepers_df.isna().any()}\\n\")\n",
    "# print(f\"\\n{players_df.isna().any()}\")"
   ]
  },
  {
   "cell_type": "code",
   "execution_count": 1276,
   "metadata": {},
   "outputs": [],
   "source": [
    "#player stat features\n",
    "players_columns = [\n",
    "    'rating'\n",
    "    , 'attacking_crossing', 'attacking_finishing', 'attacking_heading_accuracy', 'attacking_short_passing', 'attacking_volleys'\n",
    "    , 'skill_dribbling', 'skill_curve', 'skill_fk_accuracy', 'skill_long_passing', 'skill_ball_control'\n",
    "    , 'movement_acceleration', 'movement_sprint_speed', 'movement_agility', 'movement_reactions', 'movement_balance'\n",
    "    , 'power_shot_power', 'power_jumping', 'power_stamina', 'power_strength', 'power_long_shots'\n",
    "    , 'mental_aggression', 'mental_interceptions', 'mental_positioning', 'mental_vision', 'mental_penalties', 'mental_composure'\n",
    "    , 'defending_marking', 'defending_standing_tackle', 'defending_sliding_tackle']\n",
    "\n",
    "import pandas\n",
    "players_stats_df = pandas.DataFrame(columns=[players_columns])\n",
    "\n",
    "players_stats_df['rating'] = players_df['Rating']\n",
    "players_stats_df['attacking_crossing'] = players_df['Crossing']\n",
    "players_stats_df['attacking_finishing'] = players_df['Finishing']\n",
    "players_stats_df['attacking_heading_accuracy'] = players_df['HeadingAccuracy']\n",
    "players_stats_df['attacking_short_passing'] = players_df['ShortPassing']\n",
    "players_stats_df['attacking_volleys'] = players_df['Volleys']\n",
    "players_stats_df['skill_dribbling'] = players_df['Dribbling']\n",
    "players_stats_df['skill_curve'] = players_df['Curve']\n",
    "players_stats_df['skill_fk_accuracy'] = players_df['FKAccuracy']\n",
    "players_stats_df['skill_long_passing'] = players_df['LongPassing']\n",
    "players_stats_df['skill_ball_control'] = players_df['BallControl']\n",
    "players_stats_df['movement_acceleration'] = players_df['Acceleration']\n",
    "players_stats_df['movement_sprint_speed'] = players_df['SprintSpeed']\n",
    "players_stats_df['movement_agility'] = players_df['Agility']\n",
    "players_stats_df['movement_reactions'] = players_df['Reactions']\n",
    "players_stats_df['movement_balance'] = players_df['Balance']\n",
    "players_stats_df['power_shot_power'] = players_df['ShotPower']\n",
    "players_stats_df['power_jumping'] = players_df['Jumping']\n",
    "players_stats_df['power_stamina'] = players_df['Stamina']\n",
    "players_stats_df['power_strength'] = players_df['Strength']\n",
    "players_stats_df['power_long_shots'] = players_df['LongShots']\n",
    "players_stats_df['mental_aggression'] = players_df['Aggression']\n",
    "players_stats_df['mental_interceptions'] = players_df['Interceptions']\n",
    "players_stats_df['mental_positioning'] = players_df['Positioning']\n",
    "players_stats_df['mental_vision'] = players_df['Vision']\n",
    "players_stats_df['mental_penalties'] = players_df['Penalties']\n",
    "players_stats_df['mental_composure'] = players_df['Composure']\n",
    "players_stats_df['defending_marking'] = players_df['Marking']\n",
    "players_stats_df['defending_standing_tackle'] = players_df['StandingTackle']\n",
    "players_stats_df['defending_sliding_tackle'] = players_df['SlidingTackle']"
   ]
  },
  {
   "cell_type": "code",
   "execution_count": 1277,
   "metadata": {},
   "outputs": [
    {
     "output_type": "display_data",
     "data": {
      "text/plain": "  rating attacking_crossing attacking_finishing attacking_heading_accuracy  \\\n0   94.0               84.0                95.0                       70.0   \n1   94.0               84.0                94.0                       89.0   \n2   92.5               79.0                87.0                       62.0   \n\n  attacking_short_passing attacking_volleys skill_dribbling skill_curve  \\\n0                    90.0              86.0            97.0        93.0   \n1                    81.0              87.0            88.0        81.0   \n2                    84.0              84.0            96.0        88.0   \n\n  skill_fk_accuracy skill_long_passing  ... power_long_shots  \\\n0              94.0               87.0  ...             94.0   \n1              76.0               77.0  ...             93.0   \n2              87.0               78.0  ...             82.0   \n\n  mental_aggression mental_interceptions mental_positioning mental_vision  \\\n0              48.0                 22.0               94.0          94.0   \n1              63.0                 29.0               95.0          82.0   \n2              56.0                 36.0               89.0          87.0   \n\n  mental_penalties mental_composure defending_marking  \\\n0             75.0             96.0              33.0   \n1             85.0             95.0              28.0   \n2             81.0             94.0              27.0   \n\n  defending_standing_tackle defending_sliding_tackle  \n0                      28.0                     26.0  \n1                      31.0                     23.0  \n2                      24.0                     33.0  \n\n[3 rows x 30 columns]",
      "text/html": "<div>\n<style scoped>\n    .dataframe tbody tr th:only-of-type {\n        vertical-align: middle;\n    }\n\n    .dataframe tbody tr th {\n        vertical-align: top;\n    }\n\n    .dataframe thead tr th {\n        text-align: left;\n    }\n</style>\n<table border=\"1\" class=\"dataframe\">\n  <thead>\n    <tr>\n      <th></th>\n      <th>rating</th>\n      <th>attacking_crossing</th>\n      <th>attacking_finishing</th>\n      <th>attacking_heading_accuracy</th>\n      <th>attacking_short_passing</th>\n      <th>attacking_volleys</th>\n      <th>skill_dribbling</th>\n      <th>skill_curve</th>\n      <th>skill_fk_accuracy</th>\n      <th>skill_long_passing</th>\n      <th>...</th>\n      <th>power_long_shots</th>\n      <th>mental_aggression</th>\n      <th>mental_interceptions</th>\n      <th>mental_positioning</th>\n      <th>mental_vision</th>\n      <th>mental_penalties</th>\n      <th>mental_composure</th>\n      <th>defending_marking</th>\n      <th>defending_standing_tackle</th>\n      <th>defending_sliding_tackle</th>\n    </tr>\n  </thead>\n  <tbody>\n    <tr>\n      <th>0</th>\n      <td>94.0</td>\n      <td>84.0</td>\n      <td>95.0</td>\n      <td>70.0</td>\n      <td>90.0</td>\n      <td>86.0</td>\n      <td>97.0</td>\n      <td>93.0</td>\n      <td>94.0</td>\n      <td>87.0</td>\n      <td>...</td>\n      <td>94.0</td>\n      <td>48.0</td>\n      <td>22.0</td>\n      <td>94.0</td>\n      <td>94.0</td>\n      <td>75.0</td>\n      <td>96.0</td>\n      <td>33.0</td>\n      <td>28.0</td>\n      <td>26.0</td>\n    </tr>\n    <tr>\n      <th>1</th>\n      <td>94.0</td>\n      <td>84.0</td>\n      <td>94.0</td>\n      <td>89.0</td>\n      <td>81.0</td>\n      <td>87.0</td>\n      <td>88.0</td>\n      <td>81.0</td>\n      <td>76.0</td>\n      <td>77.0</td>\n      <td>...</td>\n      <td>93.0</td>\n      <td>63.0</td>\n      <td>29.0</td>\n      <td>95.0</td>\n      <td>82.0</td>\n      <td>85.0</td>\n      <td>95.0</td>\n      <td>28.0</td>\n      <td>31.0</td>\n      <td>23.0</td>\n    </tr>\n    <tr>\n      <th>2</th>\n      <td>92.5</td>\n      <td>79.0</td>\n      <td>87.0</td>\n      <td>62.0</td>\n      <td>84.0</td>\n      <td>84.0</td>\n      <td>96.0</td>\n      <td>88.0</td>\n      <td>87.0</td>\n      <td>78.0</td>\n      <td>...</td>\n      <td>82.0</td>\n      <td>56.0</td>\n      <td>36.0</td>\n      <td>89.0</td>\n      <td>87.0</td>\n      <td>81.0</td>\n      <td>94.0</td>\n      <td>27.0</td>\n      <td>24.0</td>\n      <td>33.0</td>\n    </tr>\n  </tbody>\n</table>\n<p>3 rows × 30 columns</p>\n</div>"
     },
     "metadata": {}
    }
   ],
   "source": [
    "display(players_stats_df.head(3))"
   ]
  },
  {
   "cell_type": "code",
   "execution_count": 1279,
   "metadata": {},
   "outputs": [
    {
     "output_type": "display_data",
     "data": {
      "text/plain": "Empty DataFrame\nColumns: [(rating,), (movement_agility,), (movement_reactions,), (movement_balance,), (power_shot_power,), (power_jumping,), (power_stamina,), (power_strength,), (power_long_shots,), (mental_aggression,), (mental_interceptions,), (mental_vision,), (mental_penalties,), (mental_composure,), (defending_diving,), (defending_handling,), (defending_positioning,)]\nIndex: []",
      "text/html": "<div>\n<style scoped>\n    .dataframe tbody tr th:only-of-type {\n        vertical-align: middle;\n    }\n\n    .dataframe tbody tr th {\n        vertical-align: top;\n    }\n\n    .dataframe thead tr th {\n        text-align: left;\n    }\n</style>\n<table border=\"1\" class=\"dataframe\">\n  <thead>\n    <tr>\n      <th></th>\n      <th>rating</th>\n      <th>movement_agility</th>\n      <th>movement_reactions</th>\n      <th>movement_balance</th>\n      <th>power_shot_power</th>\n      <th>power_jumping</th>\n      <th>power_stamina</th>\n      <th>power_strength</th>\n      <th>power_long_shots</th>\n      <th>mental_aggression</th>\n      <th>mental_interceptions</th>\n      <th>mental_vision</th>\n      <th>mental_penalties</th>\n      <th>mental_composure</th>\n      <th>defending_diving</th>\n      <th>defending_handling</th>\n      <th>defending_positioning</th>\n    </tr>\n  </thead>\n  <tbody>\n  </tbody>\n</table>\n</div>"
     },
     "metadata": {}
    }
   ],
   "source": [
    "display(goalkeepers_stats_df.head(3))"
   ]
  },
  {
   "cell_type": "code",
   "execution_count": 1280,
   "metadata": {},
   "outputs": [
    {
     "output_type": "stream",
     "name": "stdout",
     "text": [
      "Size of training data:\t14334\nSize of testing data:\t3584\nSize of total data: 17918\n\n"
     ]
    },
    {
     "output_type": "error",
     "ename": "ValueError",
     "evalue": "With n_samples=0, test_size=0.2 and train_size=None, the resulting train set will be empty. Adjust any of the aforementioned parameters.",
     "traceback": [
      "\u001b[1;31m---------------------------------------------------------------------------\u001b[0m",
      "\u001b[1;31mValueError\u001b[0m                                Traceback (most recent call last)",
      "\u001b[1;32m<ipython-input-1280-4e9112f5f0e1>\u001b[0m in \u001b[0;36m<module>\u001b[1;34m\u001b[0m\n\u001b[0;32m     11\u001b[0m \u001b[0mplayers_training_ds\u001b[0m\u001b[1;33m,\u001b[0m \u001b[0mplayers_test_ds\u001b[0m \u001b[1;33m=\u001b[0m \u001b[0msplit_fit_datasets\u001b[0m\u001b[1;33m(\u001b[0m\u001b[0mplayers_stats_df\u001b[0m\u001b[1;33m,\u001b[0m \u001b[1;36m0.2\u001b[0m\u001b[1;33m,\u001b[0m \u001b[1;36m42\u001b[0m\u001b[1;33m)\u001b[0m\u001b[1;33m\u001b[0m\u001b[1;33m\u001b[0m\u001b[0m\n\u001b[0;32m     12\u001b[0m \u001b[1;33m\u001b[0m\u001b[0m\n\u001b[1;32m---> 13\u001b[1;33m \u001b[0mgoal_keepers_training_ds\u001b[0m\u001b[1;33m,\u001b[0m \u001b[0mgoal_keepers_test_ds\u001b[0m \u001b[1;33m=\u001b[0m \u001b[0msplit_fit_datasets\u001b[0m\u001b[1;33m(\u001b[0m\u001b[0mgoalkeepers_stats_df\u001b[0m\u001b[1;33m,\u001b[0m \u001b[1;36m0.2\u001b[0m\u001b[1;33m,\u001b[0m \u001b[1;36m42\u001b[0m\u001b[1;33m)\u001b[0m\u001b[1;33m\u001b[0m\u001b[1;33m\u001b[0m\u001b[0m\n\u001b[0m",
      "\u001b[1;32m<ipython-input-1280-4e9112f5f0e1>\u001b[0m in \u001b[0;36msplit_fit_datasets\u001b[1;34m(data, size, rs)\u001b[0m\n\u001b[0;32m      2\u001b[0m     \u001b[1;32mfrom\u001b[0m \u001b[0msklearn\u001b[0m\u001b[1;33m.\u001b[0m\u001b[0mmodel_selection\u001b[0m \u001b[1;32mimport\u001b[0m \u001b[0mtrain_test_split\u001b[0m\u001b[1;33m\u001b[0m\u001b[1;33m\u001b[0m\u001b[0m\n\u001b[0;32m      3\u001b[0m \u001b[1;33m\u001b[0m\u001b[0m\n\u001b[1;32m----> 4\u001b[1;33m     \u001b[0mtrain_set\u001b[0m\u001b[1;33m,\u001b[0m \u001b[0mtest_set\u001b[0m \u001b[1;33m=\u001b[0m \u001b[0mtrain_test_split\u001b[0m\u001b[1;33m(\u001b[0m\u001b[0mdata\u001b[0m\u001b[1;33m,\u001b[0m \u001b[0mtest_size\u001b[0m\u001b[1;33m=\u001b[0m\u001b[1;36m0.2\u001b[0m\u001b[1;33m,\u001b[0m \u001b[0mrandom_state\u001b[0m\u001b[1;33m=\u001b[0m\u001b[1;36m42\u001b[0m\u001b[1;33m)\u001b[0m\u001b[1;33m\u001b[0m\u001b[1;33m\u001b[0m\u001b[0m\n\u001b[0m\u001b[0;32m      5\u001b[0m     \u001b[0mprint\u001b[0m\u001b[1;33m(\u001b[0m\u001b[1;34mf\"Size of training data:\\t{len(train_set)}\"\u001b[0m\u001b[1;33m)\u001b[0m\u001b[1;33m\u001b[0m\u001b[1;33m\u001b[0m\u001b[0m\n\u001b[0;32m      6\u001b[0m     \u001b[0mprint\u001b[0m\u001b[1;33m(\u001b[0m\u001b[1;34mf\"Size of testing data:\\t{len(test_set)}\"\u001b[0m\u001b[1;33m)\u001b[0m\u001b[1;33m\u001b[0m\u001b[1;33m\u001b[0m\u001b[0m\n",
      "\u001b[1;32m~\\anaconda3\\envs\\mlenv\\lib\\site-packages\\sklearn\\model_selection\\_split.py\u001b[0m in \u001b[0;36mtrain_test_split\u001b[1;34m(test_size, train_size, random_state, shuffle, stratify, *arrays)\u001b[0m\n\u001b[0;32m   2173\u001b[0m \u001b[1;33m\u001b[0m\u001b[0m\n\u001b[0;32m   2174\u001b[0m     \u001b[0mn_samples\u001b[0m \u001b[1;33m=\u001b[0m \u001b[0m_num_samples\u001b[0m\u001b[1;33m(\u001b[0m\u001b[0marrays\u001b[0m\u001b[1;33m[\u001b[0m\u001b[1;36m0\u001b[0m\u001b[1;33m]\u001b[0m\u001b[1;33m)\u001b[0m\u001b[1;33m\u001b[0m\u001b[1;33m\u001b[0m\u001b[0m\n\u001b[1;32m-> 2175\u001b[1;33m     n_train, n_test = _validate_shuffle_split(n_samples, test_size, train_size,\n\u001b[0m\u001b[0;32m   2176\u001b[0m                                               default_test_size=0.25)\n\u001b[0;32m   2177\u001b[0m \u001b[1;33m\u001b[0m\u001b[0m\n",
      "\u001b[1;32m~\\anaconda3\\envs\\mlenv\\lib\\site-packages\\sklearn\\model_selection\\_split.py\u001b[0m in \u001b[0;36m_validate_shuffle_split\u001b[1;34m(n_samples, test_size, train_size, default_test_size)\u001b[0m\n\u001b[0;32m   1855\u001b[0m \u001b[1;33m\u001b[0m\u001b[0m\n\u001b[0;32m   1856\u001b[0m     \u001b[1;32mif\u001b[0m \u001b[0mn_train\u001b[0m \u001b[1;33m==\u001b[0m \u001b[1;36m0\u001b[0m\u001b[1;33m:\u001b[0m\u001b[1;33m\u001b[0m\u001b[1;33m\u001b[0m\u001b[0m\n\u001b[1;32m-> 1857\u001b[1;33m         raise ValueError(\n\u001b[0m\u001b[0;32m   1858\u001b[0m             \u001b[1;34m'With n_samples={}, test_size={} and train_size={}, the '\u001b[0m\u001b[1;33m\u001b[0m\u001b[1;33m\u001b[0m\u001b[0m\n\u001b[0;32m   1859\u001b[0m             \u001b[1;34m'resulting train set will be empty. Adjust any of the '\u001b[0m\u001b[1;33m\u001b[0m\u001b[1;33m\u001b[0m\u001b[0m\n",
      "\u001b[1;31mValueError\u001b[0m: With n_samples=0, test_size=0.2 and train_size=None, the resulting train set will be empty. Adjust any of the aforementioned parameters."
     ]
    }
   ],
   "source": [
    "def split_fit_datasets(data, size, rs):\n",
    "    from sklearn.model_selection import train_test_split\n",
    "\n",
    "    train_set, test_set = train_test_split(data, test_size=0.2, random_state=42)\n",
    "    print(f\"Size of training data:\\t{len(train_set)}\")\n",
    "    print(f\"Size of testing data:\\t{len(test_set)}\")\n",
    "    print(f\"Size of total data: {len(data)}\\n\")\n",
    "\n",
    "    return train_set, test_set\n",
    "\n",
    "players_training_ds, players_test_ds = split_fit_datasets(players_stats_df, 0.2, 42)\n",
    "\n",
    "goal_keepers_training_ds, goal_keepers_test_ds = split_fit_datasets(goalkeepers_stats_df, 0.2, 42)"
   ]
  },
  {
   "cell_type": "code",
   "execution_count": 1215,
   "metadata": {},
   "outputs": [],
   "source": [
    "# git init\n",
    "# # git add README.md  \n",
    "# git add GeeksForGeeks.ipynb\n",
    "# git commit -m \"notebook first commit\" \n",
    "# git remote add origin https://github.com/ponda614/Data-Science-Final-Project-/GeeksForGeeks.git \n",
    "# git push -u origin master "
   ]
  },
  {
   "cell_type": "code",
   "execution_count": 1216,
   "metadata": {},
   "outputs": [],
   "source": [
    "# Look for Correlations\n",
    "# You can compute the standard correlation coefficient between each pair of attributes using the corr() method.\n",
    "# Looking at all the correlations between each attribute will take up too much time,\n",
    "# so let’s just see how much each attribute correlates with the overall value.\n",
    "# players_training_df = players_training_ds.copy()\n",
    "# corr_matrix = players_training_df.corr()\n",
    "# corr_matrix['rating'].sort_values(by='rating', ascending=False)"
   ]
  },
  {
   "cell_type": "code",
   "execution_count": null,
   "metadata": {},
   "outputs": [],
   "source": []
  },
  {
   "cell_type": "code",
   "execution_count": 1217,
   "metadata": {},
   "outputs": [],
   "source": [
    "# from pandas.plotting import scatter_matrix\n",
    "# attributes = ['rating', 'movement_reactions', 'mentality_composure', 'power_shot_power', 'mentality_vision']\n",
    "# scatter_matrix(players_training_df[attributes], figsize=(15,12))\n",
    "# plt.show()"
   ]
  },
  {
   "source": [
    " ## Logistical Regression Model"
   ],
   "cell_type": "markdown",
   "metadata": {}
  },
  {
   "cell_type": "code",
   "execution_count": 1218,
   "metadata": {},
   "outputs": [],
   "source": [
    "# read the dataset\n",
    "def create_data_framme(location, fileName):\n",
    "    from pathlib import Path\n",
    "    import pandas as pd\n",
    "    data = Path(location, fileName)\n",
    "    df = pd.read_csv(data)\n",
    "\n",
    "    return df\n",
    "\n",
    "# separate the features from the target\n",
    "def separate_features_from_target(df, outcome, columns):\n",
    "    y = df[outcome]\n",
    "    # X = df.drop(columns=column, inplace= True, axis=1)\n",
    "    for col in columns:\n",
    "        del df[col]\n",
    "    X= df\n",
    "    return X, y\n",
    "\n",
    "# Split our data into training and testing\n",
    "def split_dataset_into_training_and_testing(features, outcome, rnd_state):\n",
    "    from sklearn.model_selection import train_test_split\n",
    "    X_train, X_test, y_train, y_test = train_test_split(features, \n",
    "                                                    outcome, \n",
    "                                                    random_state=rnd_state)\n",
    "                                                    \n",
    "    return X_train, X_test, y_train, y_test\n",
    "\n",
    "def make_predictions(classifier, X_test, y_test):\n",
    "    import pandas as pd\n",
    "\n",
    "    y_pred = classifier.predict(X_test)\n",
    "    results = pd.DataFrame({\"Prediction\": y_pred, \"Actual\": y_test}).reset_index(drop=True)\n",
    "    \n",
    "    return results, y_pred\n",
    "\n",
    "def create_logistic_regression_model():\n",
    "# def create_logistic_regression_model(slvr, iter, rnd_state, X_train, y_train):\n",
    "    from sklearn.linear_model import LogisticRegression\n",
    "\n",
    "    classifier = LogisticRegression('none',\n",
    "                                max_iter=1000,\n",
    "                                random_state=1)\n",
    "    classifier.fit(X_train, y_train.values.ravel())    \n",
    "    \n",
    "    return classifier\n",
    "\n",
    "def create_confusion_matrix(y_test, y_pred):\n",
    "    from sklearn.metrics import confusion_matrix\n",
    "    conf_matrix = confusion_matrix(y_test, y_pred)\n",
    "    \n",
    "    return conf_matrix\n",
    "\n",
    "def create_classification_report(y_test, y_pred):\n",
    "    from sklearn.metrics import classification_report    \n",
    "    report = classification_report(y_test, y_pred)\n",
    "\n",
    "    return report\n",
    "\n",
    "def print_accuracy_score(y_test, y_pred):\n",
    "    from sklearn.metrics import accuracy_score\n",
    "    acc_score = accuracy_score(y_test, y_pred)\n",
    "    return acc_score"
   ]
  },
  {
   "cell_type": "code",
   "execution_count": 1219,
   "metadata": {},
   "outputs": [],
   "source": [
    "X, y = separate_features_from_target(goalkeepers_stats_df, \"isElite\", ['isElite'])\n",
    "# print(X)\n",
    "# print(y)\n",
    "# y = y.reshape((n_samples,))\n",
    "X_train, X_test, y_train, y_test = split_dataset_into_training_and_testing(X, y, 1)\n",
    "# print(X_train)\n",
    "classifier =  create_logistic_regression_model()\n",
    "predictions_df, y_pred = make_predictions(classifier, X_test, y_test.values.ravel())\n",
    "confusion_matrix = create_confusion_matrix(y_test, y_pred)\n",
    "accuracy_score = print_accuracy_score(y_test.values.ravel(), y_pred)\n",
    "classification_report = create_classification_report(y_test, y_pred)"
   ]
  },
  {
   "cell_type": "code",
   "execution_count": 1220,
   "metadata": {},
   "outputs": [
    {
     "output_type": "display_data",
     "data": {
      "text/plain": "      rating movement_agility movement_reactions movement_balance  \\\n0       94.0             91.0               95.0             95.0   \n1       94.0             87.0               96.0             70.0   \n2       92.5             96.0               94.0             84.0   \n3       92.0             60.0               90.0             43.0   \n4       91.5             79.0               91.0             77.0   \n...      ...              ...                ...              ...   \n17913   56.0             60.0               49.0             76.0   \n17914   55.0             38.0               40.0             52.0   \n17915   57.0             50.0               47.0             58.0   \n17916   56.5             52.0               21.0             71.0   \n17917   56.0             55.0               51.0             63.0   \n\n      power_shot_power power_jumping power_stamina power_strength  \\\n0                 85.0          68.0          72.0           59.0   \n1                 95.0          95.0          88.0           79.0   \n2                 80.0          61.0          81.0           49.0   \n3                 31.0          67.0          43.0           64.0   \n4                 91.0          63.0          90.0           75.0   \n...                ...           ...           ...            ...   \n17913             43.0          55.0          40.0           47.0   \n17914             41.0          47.0          43.0           67.0   \n17915             45.0          60.0          55.0           32.0   \n17916             64.0          42.0          40.0           48.0   \n17917             43.0          62.0          47.0           60.0   \n\n      power_long_shots mental_aggression mental_interceptions mental_vision  \\\n0                 94.0              48.0                 22.0          94.0   \n1                 93.0              63.0                 29.0          82.0   \n2                 82.0              56.0                 36.0          87.0   \n3                 12.0              38.0                 30.0          68.0   \n4                 91.0              76.0                 61.0          94.0   \n...                ...               ...                  ...           ...   \n17913             38.0              46.0                 46.0          52.0   \n17914             42.0              47.0                 16.0          33.0   \n17915             45.0              32.0                 15.0          43.0   \n17916             34.0              33.0                 22.0          47.0   \n17917             32.0              56.0                 42.0          49.0   \n\n      mental_penalties mental_composure defending_diving defending_handling  \\\n0                 75.0             96.0              6.0               11.0   \n1                 85.0             95.0              7.0               11.0   \n2                 81.0             94.0              9.0                9.0   \n3                 40.0             68.0             90.0               85.0   \n4                 79.0             88.0             15.0               13.0   \n...                ...              ...              ...                ...   \n17913             43.0             45.0             10.0               13.0   \n17914             43.0             42.0             10.0                9.0   \n17915             55.0             41.0              6.0                5.0   \n17916             50.0             46.0             14.0                6.0   \n17917             33.0             43.0             10.0               15.0   \n\n      defending_positioning defending_reflexes  \n0                      14.0                8.0  \n1                      14.0               11.0  \n2                      15.0               11.0  \n3                      88.0               94.0  \n4                      10.0               13.0  \n...                     ...                ...  \n17913                   8.0                9.0  \n17914                   5.0               12.0  \n17915                   6.0               13.0  \n17916                   8.0                9.0  \n17917                  12.0                9.0  \n\n[17918 rows x 18 columns]",
      "text/html": "<div>\n<style scoped>\n    .dataframe tbody tr th:only-of-type {\n        vertical-align: middle;\n    }\n\n    .dataframe tbody tr th {\n        vertical-align: top;\n    }\n\n    .dataframe thead tr th {\n        text-align: left;\n    }\n</style>\n<table border=\"1\" class=\"dataframe\">\n  <thead>\n    <tr>\n      <th></th>\n      <th>rating</th>\n      <th>movement_agility</th>\n      <th>movement_reactions</th>\n      <th>movement_balance</th>\n      <th>power_shot_power</th>\n      <th>power_jumping</th>\n      <th>power_stamina</th>\n      <th>power_strength</th>\n      <th>power_long_shots</th>\n      <th>mental_aggression</th>\n      <th>mental_interceptions</th>\n      <th>mental_vision</th>\n      <th>mental_penalties</th>\n      <th>mental_composure</th>\n      <th>defending_diving</th>\n      <th>defending_handling</th>\n      <th>defending_positioning</th>\n      <th>defending_reflexes</th>\n    </tr>\n  </thead>\n  <tbody>\n    <tr>\n      <th>0</th>\n      <td>94.0</td>\n      <td>91.0</td>\n      <td>95.0</td>\n      <td>95.0</td>\n      <td>85.0</td>\n      <td>68.0</td>\n      <td>72.0</td>\n      <td>59.0</td>\n      <td>94.0</td>\n      <td>48.0</td>\n      <td>22.0</td>\n      <td>94.0</td>\n      <td>75.0</td>\n      <td>96.0</td>\n      <td>6.0</td>\n      <td>11.0</td>\n      <td>14.0</td>\n      <td>8.0</td>\n    </tr>\n    <tr>\n      <th>1</th>\n      <td>94.0</td>\n      <td>87.0</td>\n      <td>96.0</td>\n      <td>70.0</td>\n      <td>95.0</td>\n      <td>95.0</td>\n      <td>88.0</td>\n      <td>79.0</td>\n      <td>93.0</td>\n      <td>63.0</td>\n      <td>29.0</td>\n      <td>82.0</td>\n      <td>85.0</td>\n      <td>95.0</td>\n      <td>7.0</td>\n      <td>11.0</td>\n      <td>14.0</td>\n      <td>11.0</td>\n    </tr>\n    <tr>\n      <th>2</th>\n      <td>92.5</td>\n      <td>96.0</td>\n      <td>94.0</td>\n      <td>84.0</td>\n      <td>80.0</td>\n      <td>61.0</td>\n      <td>81.0</td>\n      <td>49.0</td>\n      <td>82.0</td>\n      <td>56.0</td>\n      <td>36.0</td>\n      <td>87.0</td>\n      <td>81.0</td>\n      <td>94.0</td>\n      <td>9.0</td>\n      <td>9.0</td>\n      <td>15.0</td>\n      <td>11.0</td>\n    </tr>\n    <tr>\n      <th>3</th>\n      <td>92.0</td>\n      <td>60.0</td>\n      <td>90.0</td>\n      <td>43.0</td>\n      <td>31.0</td>\n      <td>67.0</td>\n      <td>43.0</td>\n      <td>64.0</td>\n      <td>12.0</td>\n      <td>38.0</td>\n      <td>30.0</td>\n      <td>68.0</td>\n      <td>40.0</td>\n      <td>68.0</td>\n      <td>90.0</td>\n      <td>85.0</td>\n      <td>88.0</td>\n      <td>94.0</td>\n    </tr>\n    <tr>\n      <th>4</th>\n      <td>91.5</td>\n      <td>79.0</td>\n      <td>91.0</td>\n      <td>77.0</td>\n      <td>91.0</td>\n      <td>63.0</td>\n      <td>90.0</td>\n      <td>75.0</td>\n      <td>91.0</td>\n      <td>76.0</td>\n      <td>61.0</td>\n      <td>94.0</td>\n      <td>79.0</td>\n      <td>88.0</td>\n      <td>15.0</td>\n      <td>13.0</td>\n      <td>10.0</td>\n      <td>13.0</td>\n    </tr>\n    <tr>\n      <th>...</th>\n      <td>...</td>\n      <td>...</td>\n      <td>...</td>\n      <td>...</td>\n      <td>...</td>\n      <td>...</td>\n      <td>...</td>\n      <td>...</td>\n      <td>...</td>\n      <td>...</td>\n      <td>...</td>\n      <td>...</td>\n      <td>...</td>\n      <td>...</td>\n      <td>...</td>\n      <td>...</td>\n      <td>...</td>\n      <td>...</td>\n    </tr>\n    <tr>\n      <th>17913</th>\n      <td>56.0</td>\n      <td>60.0</td>\n      <td>49.0</td>\n      <td>76.0</td>\n      <td>43.0</td>\n      <td>55.0</td>\n      <td>40.0</td>\n      <td>47.0</td>\n      <td>38.0</td>\n      <td>46.0</td>\n      <td>46.0</td>\n      <td>52.0</td>\n      <td>43.0</td>\n      <td>45.0</td>\n      <td>10.0</td>\n      <td>13.0</td>\n      <td>8.0</td>\n      <td>9.0</td>\n    </tr>\n    <tr>\n      <th>17914</th>\n      <td>55.0</td>\n      <td>38.0</td>\n      <td>40.0</td>\n      <td>52.0</td>\n      <td>41.0</td>\n      <td>47.0</td>\n      <td>43.0</td>\n      <td>67.0</td>\n      <td>42.0</td>\n      <td>47.0</td>\n      <td>16.0</td>\n      <td>33.0</td>\n      <td>43.0</td>\n      <td>42.0</td>\n      <td>10.0</td>\n      <td>9.0</td>\n      <td>5.0</td>\n      <td>12.0</td>\n    </tr>\n    <tr>\n      <th>17915</th>\n      <td>57.0</td>\n      <td>50.0</td>\n      <td>47.0</td>\n      <td>58.0</td>\n      <td>45.0</td>\n      <td>60.0</td>\n      <td>55.0</td>\n      <td>32.0</td>\n      <td>45.0</td>\n      <td>32.0</td>\n      <td>15.0</td>\n      <td>43.0</td>\n      <td>55.0</td>\n      <td>41.0</td>\n      <td>6.0</td>\n      <td>5.0</td>\n      <td>6.0</td>\n      <td>13.0</td>\n    </tr>\n    <tr>\n      <th>17916</th>\n      <td>56.5</td>\n      <td>52.0</td>\n      <td>21.0</td>\n      <td>71.0</td>\n      <td>64.0</td>\n      <td>42.0</td>\n      <td>40.0</td>\n      <td>48.0</td>\n      <td>34.0</td>\n      <td>33.0</td>\n      <td>22.0</td>\n      <td>47.0</td>\n      <td>50.0</td>\n      <td>46.0</td>\n      <td>14.0</td>\n      <td>6.0</td>\n      <td>8.0</td>\n      <td>9.0</td>\n    </tr>\n    <tr>\n      <th>17917</th>\n      <td>56.0</td>\n      <td>55.0</td>\n      <td>51.0</td>\n      <td>63.0</td>\n      <td>43.0</td>\n      <td>62.0</td>\n      <td>47.0</td>\n      <td>60.0</td>\n      <td>32.0</td>\n      <td>56.0</td>\n      <td>42.0</td>\n      <td>49.0</td>\n      <td>33.0</td>\n      <td>43.0</td>\n      <td>10.0</td>\n      <td>15.0</td>\n      <td>12.0</td>\n      <td>9.0</td>\n    </tr>\n  </tbody>\n</table>\n<p>17918 rows × 18 columns</p>\n</div>"
     },
     "metadata": {}
    },
    {
     "output_type": "display_data",
     "data": {
      "text/plain": "      Prediction  Actual\n0              0       0\n1              0       0\n2              0       0\n3              0       0\n4              0       0\n...          ...     ...\n4475           0       0\n4476           0       0\n4477           0       0\n4478           0       0\n4479           0       0\n\n[4480 rows x 2 columns]",
      "text/html": "<div>\n<style scoped>\n    .dataframe tbody tr th:only-of-type {\n        vertical-align: middle;\n    }\n\n    .dataframe tbody tr th {\n        vertical-align: top;\n    }\n\n    .dataframe thead th {\n        text-align: right;\n    }\n</style>\n<table border=\"1\" class=\"dataframe\">\n  <thead>\n    <tr style=\"text-align: right;\">\n      <th></th>\n      <th>Prediction</th>\n      <th>Actual</th>\n    </tr>\n  </thead>\n  <tbody>\n    <tr>\n      <th>0</th>\n      <td>0</td>\n      <td>0</td>\n    </tr>\n    <tr>\n      <th>1</th>\n      <td>0</td>\n      <td>0</td>\n    </tr>\n    <tr>\n      <th>2</th>\n      <td>0</td>\n      <td>0</td>\n    </tr>\n    <tr>\n      <th>3</th>\n      <td>0</td>\n      <td>0</td>\n    </tr>\n    <tr>\n      <th>4</th>\n      <td>0</td>\n      <td>0</td>\n    </tr>\n    <tr>\n      <th>...</th>\n      <td>...</td>\n      <td>...</td>\n    </tr>\n    <tr>\n      <th>4475</th>\n      <td>0</td>\n      <td>0</td>\n    </tr>\n    <tr>\n      <th>4476</th>\n      <td>0</td>\n      <td>0</td>\n    </tr>\n    <tr>\n      <th>4477</th>\n      <td>0</td>\n      <td>0</td>\n    </tr>\n    <tr>\n      <th>4478</th>\n      <td>0</td>\n      <td>0</td>\n    </tr>\n    <tr>\n      <th>4479</th>\n      <td>0</td>\n      <td>0</td>\n    </tr>\n  </tbody>\n</table>\n<p>4480 rows × 2 columns</p>\n</div>"
     },
     "metadata": {}
    },
    {
     "output_type": "display_data",
     "data": {
      "text/plain": "array([0, 0, 0, ..., 0, 0, 0])"
     },
     "metadata": {}
    },
    {
     "output_type": "display_data",
     "data": {
      "text/plain": "      isElite\n3612        0\n8045        0\n11075       0\n17106       0\n16166       0\n...       ...\n1198        0\n3978        0\n1626        0\n16553       0\n9290        0\n\n[4480 rows x 1 columns]",
      "text/html": "<div>\n<style scoped>\n    .dataframe tbody tr th:only-of-type {\n        vertical-align: middle;\n    }\n\n    .dataframe tbody tr th {\n        vertical-align: top;\n    }\n\n    .dataframe thead tr th {\n        text-align: left;\n    }\n</style>\n<table border=\"1\" class=\"dataframe\">\n  <thead>\n    <tr>\n      <th></th>\n      <th>isElite</th>\n    </tr>\n  </thead>\n  <tbody>\n    <tr>\n      <th>3612</th>\n      <td>0</td>\n    </tr>\n    <tr>\n      <th>8045</th>\n      <td>0</td>\n    </tr>\n    <tr>\n      <th>11075</th>\n      <td>0</td>\n    </tr>\n    <tr>\n      <th>17106</th>\n      <td>0</td>\n    </tr>\n    <tr>\n      <th>16166</th>\n      <td>0</td>\n    </tr>\n    <tr>\n      <th>...</th>\n      <td>...</td>\n    </tr>\n    <tr>\n      <th>1198</th>\n      <td>0</td>\n    </tr>\n    <tr>\n      <th>3978</th>\n      <td>0</td>\n    </tr>\n    <tr>\n      <th>1626</th>\n      <td>0</td>\n    </tr>\n    <tr>\n      <th>16553</th>\n      <td>0</td>\n    </tr>\n    <tr>\n      <th>9290</th>\n      <td>0</td>\n    </tr>\n  </tbody>\n</table>\n<p>4480 rows × 1 columns</p>\n</div>"
     },
     "metadata": {}
    },
    {
     "output_type": "stream",
     "name": "stdout",
     "text": [
      "[[4436    0]\n [   3   41]]\n\nlogistic regression model accuracy: 0.9993303571428571.\n\n              precision    recall  f1-score   support\n\n           0       1.00      1.00      1.00      4436\n           1       1.00      0.93      0.96        44\n\n    accuracy                           1.00      4480\n   macro avg       1.00      0.97      0.98      4480\nweighted avg       1.00      1.00      1.00      4480\n\n"
     ]
    }
   ],
   "source": [
    "display(X)\n",
    "\n",
    "y_test\n",
    "\n",
    "classifier\n",
    "\n",
    "display(predictions_df)\n",
    "display(y_pred)\n",
    "display(y_test)\n",
    "\n",
    "print(confusion_matrix)\n",
    "print(f\"\\nlogistic regression model accuracy: {accuracy_score}.\\n\")\n",
    "\n",
    "print(classification_report)"
   ]
  },
  {
   "cell_type": "code",
   "execution_count": null,
   "metadata": {},
   "outputs": [],
   "source": []
  }
 ]
}