{
 "metadata": {
  "language_info": {
   "codemirror_mode": {
    "name": "ipython",
    "version": 3
   },
   "file_extension": ".py",
   "mimetype": "text/x-python",
   "name": "python",
   "nbconvert_exporter": "python",
   "pygments_lexer": "ipython3",
   "version": "3.9.5"
  },
  "orig_nbformat": 4,
  "kernelspec": {
   "name": "python3",
   "display_name": "Python 3.9.5 64-bit ('mlenv': conda)"
  },
  "interpreter": {
   "hash": "c8664c37d20d1a667b792eed6f68d26a151ec74784f499ac31579ebbdd16e46a"
  }
 },
 "nbformat": 4,
 "nbformat_minor": 2,
 "cells": [
  {
   "cell_type": "code",
   "execution_count": 301,
   "metadata": {},
   "outputs": [],
   "source": [
    "def create_fifa_players_dataframe(dataset_location):\n",
    "    import pandas as pd\n",
    "\n",
    "    return pd.read_csv(dataset_location, encoding='UTF-8')\n",
    "\n",
    "def drop_columns_from_dataframe(data, columns):\n",
    "    data_copy = data.copy()\n",
    "    # display(data.head(10))\n",
    "    for column in data.columns:\n",
    "        if column in columns:\n",
    "            del data[column]\n",
    "\n",
    "    return data\n",
    "\n",
    "def create_dataset_by_pos(data, position, ex_columns, show):\n",
    "    # import pandas as pd\n",
    "    if(position == 'GK') :\n",
    "        filtered_data = raw_data.loc[raw_data['Position'] == position]\n",
    "    else:  filtered_data = raw_data.loc[raw_data['Position'] != position]\n",
    "    # display(goal_keepers_data)\n",
    "    filtered_data = drop_columns_from_dataframe(filtered_data, ex_columns)\n",
    "    # goal_keepers_data = goal_keepers_data[0:0]\n",
    "    if show:\n",
    "        display(filtered_data)\n",
    "    \n",
    "    return filtered_data\n",
    "\n",
    "def create_schema_off_dataset(data, file_name):\n",
    "    import json\n",
    "    import pandas\n",
    "    schema = pandas.io.json.build_table_schema(data, index=True, primary_key=None, version=True)\n",
    "    # print(schema)\n",
    "    with open(file_name, 'w') as file:\n",
    "        file.write(json.dumps(schema))\n",
    "\n",
    "def encode_field(data, column):\n",
    "    from sklearn.preprocessing import LabelEncoder\n",
    "    le = LabelEncoder()\n",
    "    data_copy = data.copy()\n",
    "    data_copy[column] = le.fit_transform(data[column])\n",
    "    # display(data_copy)\n",
    "    return data_copy"
   ]
  },
  {
   "cell_type": "code",
   "execution_count": 302,
   "metadata": {},
   "outputs": [],
   "source": [
    "cols_to_drop_for_keepers = ['ID', 'Photo', 'Flag',\n",
    "    'International Reputation', 'Weak Foot', 'Skill Moves',\n",
    "     'Body Type', 'Real Face', 'Position', 'Jersey Number',\n",
    "    'Joined', 'Loaned From', 'Contract Valid Until',\n",
    "     'Crossing', 'Finishing', 'HeadingAccuracy', 'ShortPassing', 'Volleys',\n",
    "       'Dribbling', 'Curve', 'FKAccuracy', 'LongPassing', 'BallControl',\n",
    "       'Acceleration', 'SprintSpeed',\n",
    "     'LS', 'ST', 'RS', 'LW', 'LF', 'CF', 'RF', 'RW',\n",
    "     'LAM', 'CAM', 'RAM', 'LM', 'LCM', 'CM', 'RCM',\n",
    "     'RM', 'LWB', 'LDM', 'CDM', 'RDM', 'RWB', 'LB',\n",
    "     'LCB', 'CB', 'RCB', 'RB', \n",
    "     'Club Logo', 'Release Clause', 'Special', 'Preferred Foot',\n",
    "     'Marking', 'StandingTackle', 'SlidingTackle']\n",
    "\n",
    "cols_to_drop_for_players = ['ID', 'Photo', 'Flag',\n",
    "    'International Reputation', 'Weak Foot', 'Jersey Number',\n",
    "    'Joined', 'Loaned From', 'Contract Valid Until',\n",
    "     'LS', 'ST', 'RS', 'LW', 'LF', 'CF', 'RF', 'RW',\n",
    "     'LAM', 'CAM', 'RAM', 'LM', 'LCM', 'CM', 'RCM',\n",
    "     'RM', 'LWB', 'LDM', 'CDM', 'RDM', 'RWB', 'LB',\n",
    "     'LCB', 'CB', 'RCB', 'RB', \n",
    "     'Photo', 'Flag', 'Club Logo', 'Release Clause', 'Special', 'Preferred Foot']"
   ]
  },
  {
   "source": [
    "## Pre-processing"
   ],
   "cell_type": "markdown",
   "metadata": {}
  },
  {
   "source": [
    "### Create player datasets"
   ],
   "cell_type": "markdown",
   "metadata": {}
  },
  {
   "cell_type": "code",
   "execution_count": 315,
   "metadata": {},
   "outputs": [],
   "source": [
    "from pathlib import Path\n",
    "# dataset location:\n",
    "dataset_location = Path('../resources','fifa_world_players_alt.csv')\n",
    "raw_data = create_fifa_players_dataframe(dataset_location)\n",
    "raw_data = encode_field(raw_data, 'Work Rate')\n",
    "# display(raw_data['Work Rate'])\n",
    "# # raw_data.duplicated\n",
    "# df_count = raw_data.groupby(raw_data.columns.tolist(),as_index=False).size()\n",
    "# df_count.prraw_data.groupby(raw_data.columns.tolist(),as_index=False).size() > 0 : print(f\"{count} duplicates found.\")\n",
    "# else: print(f\"No duplicates found.\")"
   ]
  },
  {
   "source": [
    "#### Create goalkeepers and players datasets"
   ],
   "cell_type": "markdown",
   "metadata": {}
  },
  {
   "cell_type": "code",
   "execution_count": 304,
   "metadata": {},
   "outputs": [
    {
     "output_type": "stream",
     "name": "stderr",
     "text": [
      "<ipython-input-304-2e978b272556>:5: SettingWithCopyWarning: \nA value is trying to be set on a copy of a slice from a DataFrame\n\nSee the caveats in the documentation: https://pandas.pydata.org/pandas-docs/stable/user_guide/indexing.html#returning-a-view-versus-a-copy\n  goal_keepers_data.dropna(inplace=True)\nC:\\Users\\albat\\anaconda3\\envs\\mlenv\\lib\\site-packages\\pandas\\core\\frame.py:4308: SettingWithCopyWarning: \nA value is trying to be set on a copy of a slice from a DataFrame\n\nSee the caveats in the documentation: https://pandas.pydata.org/pandas-docs/stable/user_guide/indexing.html#returning-a-view-versus-a-copy\n  return super().drop(\n"
     ]
    }
   ],
   "source": [
    "goal_keepers_data = create_dataset_by_pos(raw_data, 'GK', cols_to_drop_for_keepers, 0)\n",
    "# display(goal_keepers_data.columns)\n",
    "# display(goal_keepers_dataframe.info())\n",
    "if(goal_keepers_data.isna().sum().sum()):\n",
    "   goal_keepers_data.dropna(inplace=True)\n",
    "goal_keepers_data.drop(goal_keepers_data.columns[0], axis=1, inplace=True)\n",
    "# display(goal_keepers_data.info())\n",
    "file_name = 'goal_keepers_schema.txt'\n",
    "create_schema_off_dataset(goal_keepers_data, Path('../resources/', file_name))\n",
    "file_name = 'goal_keepers.csv'\n",
    "goal_keepers_data.to_csv(Path('../resources/', file_name), line_terminator='\\n',\n",
    "index=False, encoding = 'UTF-8')\n"
   ]
  },
  {
   "cell_type": "code",
   "execution_count": 305,
   "metadata": {},
   "outputs": [],
   "source": [
    "players_data = create_dataset_by_pos(raw_data, ' ', cols_to_drop_for_players, 0)\n",
    "# display(players_data.columns)\n",
    "# display(players_data.info())\n",
    "if(players_data.isna().sum().sum()):\n",
    "    players_data.dropna(inplace=True)\n",
    "players_data.drop(players_data.columns[0], axis=1, inplace=True)\n",
    "# display(players_data.info())\n",
    "\n",
    "file_name = 'players_schema.txt'\n",
    "create_schema_off_dataset(players_data, Path('../resources/',file_name))\n",
    "file_name = 'players.csv'\n",
    "players_data.to_csv(Path('../resources/', file_name),line_terminator='\\n', index=False , encoding = 'UTF-8')"
   ]
  }
 ]
}