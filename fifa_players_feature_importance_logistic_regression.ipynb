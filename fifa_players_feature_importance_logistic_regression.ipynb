{
 "metadata": {
  "language_info": {
   "codemirror_mode": {
    "name": "ipython",
    "version": 3
   },
   "file_extension": ".py",
   "mimetype": "text/x-python",
   "name": "python",
   "nbconvert_exporter": "python",
   "pygments_lexer": "ipython3",
   "version": "3.9.5"
  },
  "orig_nbformat": 4,
  "kernelspec": {
   "name": "python3",
   "display_name": "Python 3.9.5 64-bit ('mlenv': conda)"
  },
  "interpreter": {
   "hash": "c8664c37d20d1a667b792eed6f68d26a151ec74784f499ac31579ebbdd16e46a"
  }
 },
 "nbformat": 4,
 "nbformat_minor": 2,
 "cells": [
  {
   "source": [
    "## Pre-processing\n",
    "### Purpose:"
   ],
   "cell_type": "markdown",
   "metadata": {}
  },
  {
   "source": [
    "## download datasets"
   ],
   "cell_type": "markdown",
   "metadata": {}
  },
  {
   "cell_type": "code",
   "execution_count": 23,
   "metadata": {},
   "outputs": [],
   "source": [
    "%run fifa_players_functions.ipynb\n",
    "\n",
    "from pathlib import Path\n",
    "import os"
   ]
  },
  {
   "cell_type": "code",
   "execution_count": 24,
   "metadata": {},
   "outputs": [],
   "source": [
    "# os.chdir('E:\\\\data-engineering@ColumbiaUnv\\\\Module-20_final_project\\\\resources')\n",
    "# goal_keepers_dataset_loc =  'E:\\\\data-engineering@ColumbiaUnv\\\\Module-20_final_project\\\\resources\\\\fifa_goal_keepers_git.csv'\n",
    "# # players_dataset_loc = 'E:\\\\data-engineering@ColumbiaUnv\\\\Module-20_final_project\\\\notebooks\\\\fifa_players_git.csv'\n",
    "# # goal_keepers_dataset_loc =  'E:\\\\data-engineering@ColumbiaUnv\\\\Module-20_final_project\\\\notebooks\\\\fifa_goal_keepers_git.csv'\n",
    "# print(players_dataset_loc)\n",
    "# print(Path.home())"
   ]
  },
  {
   "cell_type": "code",
   "execution_count": 25,
   "metadata": {
    "tags": []
   },
   "outputs": [
    {
     "output_type": "stream",
     "name": "stderr",
     "text": [
      "  % Total    % Received % Xferd  Average Speed   Time    Time     Time  Current\n",
      "                                 Dload  Upload   Total   Spent    Left  Speed\n",
      "\n",
      "  0     0    0     0    0     0      0      0 --:--:-- --:--:-- --:--:--     0\n",
      "100 4592k  100 4592k    0     0  7603k      0 --:--:-- --:--:-- --:--:-- 7616k\n",
      "  % Total    % Received % Xferd  Average Speed   Time    Time     Time  Current\n",
      "                                 Dload  Upload   Total   Spent    Left  Speed\n",
      "\n",
      "  0     0    0     0    0     0      0      0 --:--:-- --:--:-- --:--:--     0\n",
      " 12  334k   12 41130    0     0   197k      0  0:00:01 --:--:--  0:00:01  196k\n",
      "100  334k  100  334k    0     0  1394k      0 --:--:-- --:--:-- --:--:-- 1388k\n"
     ]
    }
   ],
   "source": [
    "os.chdir('E:\\\\data-engineering@ColumbiaUnv\\\\Module-20_final_project\\\\resources')\n",
    "!curl -L https://raw.githubusercontent.com/ponda614/Data-Science-Final-Project-/main/resources/players.csv  -o fifa_players_git.csv\n",
    "!curl -L https://raw.githubusercontent.com/ponda614/Data-Science-Final-Project-/main/resources/goal_keepers.csv -o fifa_goal_keepers_git.csv\n",
    "\n",
    "os.chdir('E:\\\\data-engineering@ColumbiaUnv\\\\Module-20_final_project\\\\notebooks')"
   ]
  },
  {
   "source": [
    "## build dataframes"
   ],
   "cell_type": "markdown",
   "metadata": {}
  },
  {
   "source": [
    "players_dataset_loc = os.path.join('../resources', 'fifa_players_git.csv')\n",
    "players_df = create_fifa_players_dataframe(players_dataset_loc)\n",
    "goal_keepers_dataset_loc= os.path.join('../resources', 'fifa_goal_keepers_git.csv')\n",
    "goal_keepers_df = create_fifa_players_dataframe(goal_keepers_dataset_loc)"
   ],
   "cell_type": "code",
   "metadata": {},
   "execution_count": 26,
   "outputs": []
  },
  {
   "cell_type": "code",
   "execution_count": 27,
   "metadata": {},
   "outputs": [],
   "source": [
    "# Index(['ID', 'Name', 'Age', 'Nationality', 'Club', 'Value', 'Wage',\n",
    "#        'WorkEthic', 'Height', 'Weight', 'Agility', 'Reactions', 'Balance',\n",
    "#        'ShotPower', 'Jumping', 'Stamina', 'Strength', 'LongShots',\n",
    "#        'Aggression', 'Interceptions', 'Positioning', 'Vision', 'Penalties',\n",
    "#        'Composure', 'GKDiving', 'GKHandling', 'GKKicking', 'GKPositioning',\n",
    "#        'GKReflexes', 'Rating'],\n",
    "#       dtype='object')\n",
    "# Index(['ID', 'Name', 'Age', 'Nationality', 'Club', 'Value', 'Wage',\n",
    "#        'Skill Moves', 'WorkEthic', 'Body Type', 'Real Face', 'Position',\n",
    "#        'Height', 'Weight',\n",
    "#         'attacking_crossing', 'attacking-finishing', 'attacking_heading_accuracy',\n",
    "#        'attacking_short_passing', 'attacking_volleys',\n",
    "#         'skills_dribbling', 'Curve', 'FKAccuracy',\n",
    "#        'LongPassing', 'BallControl', 'Acceleration', 'SprintSpeed', 'Agility',\n",
    "#        'Reactions', 'Balance', 'ShotPower', 'Jumping', 'Stamina', 'Strength',\n",
    "#        'LongShots', 'Aggression', 'Interceptions', 'Positioning', 'Vision',\n",
    "#        'Penalties', 'Composure', 'Marking', 'StandingTackle', 'SlidingTackle',\n",
    "#        'GKDiving', 'GKHandling', 'GKKicking', 'GKPositioning', 'GKReflexes',\n",
    "#        'Rating'],\n",
    "#       dtype='object')"
   ]
  },
  {
   "cell_type": "code",
   "execution_count": 28,
   "metadata": {},
   "outputs": [],
   "source": [
    "# display(goal_keepers_df.columns)\n",
    "# display(players_df.columns)"
   ]
  },
  {
   "source": [
    "# display(goal_keepers_df.shape)\n",
    "# display(players_df.shape)"
   ],
   "cell_type": "code",
   "metadata": {},
   "execution_count": 29,
   "outputs": []
  },
  {
   "cell_type": "code",
   "execution_count": 30,
   "metadata": {},
   "outputs": [],
   "source": [
    "# display(goal_keepers_df.info())\n",
    "# display(players_df.info())"
   ]
  },
  {
   "cell_type": "code",
   "execution_count": 31,
   "metadata": {},
   "outputs": [],
   "source": [
    "# display(goal_keepers_df.describe())\n",
    "# display(players_df.describe())"
   ]
  },
  {
   "cell_type": "code",
   "execution_count": 32,
   "metadata": {},
   "outputs": [],
   "source": [
    "# %matplotlib inline\n",
    "# import matplotlib as mpl\n",
    "# import matplotlib.pyplot as plt\n",
    "# from matplotlib import style\n",
    "\n",
    "# %time players_df.hist(bins=40, figsize=(27,17))\n",
    "# plt.show()\n",
    "\n",
    "# %time goal_keepers_df.hist(bins=40, figsize=(27,17))\n",
    "# plt.show()"
   ]
  },
  {
   "cell_type": "code",
   "execution_count": 33,
   "metadata": {},
   "outputs": [],
   "source": [
    "# print(f\"{goal_keepers_df.isna().any()}\\n\")\n",
    "# print(f\"\\n{players_df.isna().any()}\")"
   ]
  },
  {
   "cell_type": "code",
   "execution_count": 34,
   "metadata": {},
   "outputs": [
    {
     "output_type": "display_data",
     "data": {
      "text/plain": "<bound method DataFrame.count of       rating attacking_crossing attacking_finishing  \\\n0       94.0               84.0                95.0   \n1       94.0               84.0                94.0   \n2       92.5               79.0                87.0   \n3       92.0               17.0                13.0   \n4       91.5               93.0                82.0   \n...      ...                ...                 ...   \n17913   56.0               34.0                38.0   \n17914   55.0               23.0                52.0   \n17915   57.0               25.0                40.0   \n17916   56.5               44.0                50.0   \n17917   56.0               41.0                34.0   \n\n      attacking_heading_accuracy attacking_short_passing attacking_volleys  \\\n0                           70.0                    90.0              86.0   \n1                           89.0                    81.0              87.0   \n2                           62.0                    84.0              84.0   \n3                           21.0                    50.0              13.0   \n4                           55.0                    92.0              82.0   \n...                          ...                     ...               ...   \n17913                       40.0                    49.0              25.0   \n17914                       52.0                    43.0              36.0   \n17915                       46.0                    38.0              38.0   \n17916                       39.0                    42.0              40.0   \n17917                       46.0                    48.0              30.0   \n\n      skill_dribbling skill_curve skill_fk_accuracy skill_long_passing  ...  \\\n0                97.0        93.0              94.0               87.0  ...   \n1                88.0        81.0              76.0               77.0  ...   \n2                96.0        88.0              87.0               78.0  ...   \n3                18.0        21.0              19.0               51.0  ...   \n4                86.0        85.0              83.0               91.0  ...   \n...               ...         ...               ...                ...  ...   \n17913            42.0        30.0              34.0               45.0  ...   \n17914            39.0        32.0              20.0               25.0  ...   \n17915            45.0        38.0              27.0               28.0  ...   \n17916            51.0        34.0              32.0               32.0  ...   \n17917            43.0        40.0              34.0               44.0  ...   \n\n      power_long_shots mental_aggression mental_interceptions  \\\n0                 94.0              48.0                 22.0   \n1                 93.0              63.0                 29.0   \n2                 82.0              56.0                 36.0   \n3                 12.0              38.0                 30.0   \n4                 91.0              76.0                 61.0   \n...                ...               ...                  ...   \n17913             38.0              46.0                 46.0   \n17914             42.0              47.0                 16.0   \n17915             45.0              32.0                 15.0   \n17916             34.0              33.0                 22.0   \n17917             32.0              56.0                 42.0   \n\n      mental_positioning mental_vision mental_penalties mental_composure  \\\n0                   94.0          94.0             75.0             96.0   \n1                   95.0          82.0             85.0             95.0   \n2                   89.0          87.0             81.0             94.0   \n3                   12.0          68.0             40.0             68.0   \n4                   87.0          94.0             79.0             88.0   \n...                  ...           ...              ...              ...   \n17913               39.0          52.0             43.0             45.0   \n17914               46.0          33.0             43.0             42.0   \n17915               48.0          43.0             55.0             41.0   \n17916               44.0          47.0             50.0             46.0   \n17917               34.0          49.0             33.0             43.0   \n\n      defending_marking defending_standing_tackle defending_sliding_tackle  \n0                  33.0                      28.0                     26.0  \n1                  28.0                      31.0                     23.0  \n2                  27.0                      24.0                     33.0  \n3                  15.0                      21.0                     13.0  \n4                  68.0                      58.0                     51.0  \n...                 ...                       ...                      ...  \n17913              40.0                      48.0                     47.0  \n17914              22.0                      15.0                     19.0  \n17915              32.0                      13.0                     11.0  \n17916              20.0                      25.0                     27.0  \n17917              40.0                      43.0                     50.0  \n\n[17918 rows x 30 columns]>"
     },
     "metadata": {}
    }
   ],
   "source": [
    "#player stat features\n",
    "players_columns = [\n",
    "    'rating'\n",
    "    , 'attacking_crossing', 'attacking_finishing', 'attacking_heading_accuracy', 'attacking_short_passing', 'attacking_volleys'\n",
    "    , 'skill_dribbling', 'skill_curve', 'skill_fk_accuracy', 'skill_long_passing', 'skill_ball_control'\n",
    "    , 'movement_acceleration', 'movement_sprint_speed', 'movement_agility', 'movement_reactions', 'movement_balance'\n",
    "    , 'power_shot_power', 'power_jumping', 'power_stamina', 'power_strength', 'power_long_shots'\n",
    "    , 'mental_aggression', 'mental_interceptions', 'mental_positioning', 'mental_vision', 'mental_penalties', 'mental_composure'\n",
    "    , 'defending_marking', 'defending_standing_tackle', 'defending_sliding_tackle']\n",
    "\n",
    "import pandas\n",
    "players_stats_df = pandas.DataFrame(columns=[players_columns])\n",
    "\n",
    "players_stats_df['rating'] = players_df['Rating']\n",
    "players_stats_df['attacking_crossing'] = players_df['Crossing']\n",
    "players_stats_df['attacking_finishing'] = players_df['Finishing']\n",
    "players_stats_df['attacking_heading_accuracy'] = players_df['HeadingAccuracy']\n",
    "players_stats_df['attacking_short_passing'] = players_df['ShortPassing']\n",
    "players_stats_df['attacking_volleys'] = players_df['Volleys']\n",
    "players_stats_df['skill_dribbling'] = players_df['Dribbling']\n",
    "players_stats_df['skill_curve'] = players_df['Curve']\n",
    "players_stats_df['skill_fk_accuracy'] = players_df['FKAccuracy']\n",
    "players_stats_df['skill_long_passing'] = players_df['LongPassing']\n",
    "players_stats_df['skill_ball_control'] = players_df['BallControl']\n",
    "players_stats_df['movement_acceleration'] = players_df['Acceleration']\n",
    "players_stats_df['movement_sprint_speed'] = players_df['SprintSpeed']\n",
    "players_stats_df['movement_agility'] = players_df['Agility']\n",
    "players_stats_df['movement_reactions'] = players_df['Reactions']\n",
    "players_stats_df['movement_balance'] = players_df['Balance']\n",
    "players_stats_df['power_shot_power'] = players_df['ShotPower']\n",
    "players_stats_df['power_jumping'] = players_df['Jumping']\n",
    "players_stats_df['power_stamina'] = players_df['Stamina']\n",
    "players_stats_df['power_strength'] = players_df['Strength']\n",
    "players_stats_df['power_long_shots'] = players_df['LongShots']\n",
    "players_stats_df['mental_aggression'] = players_df['Aggression']\n",
    "players_stats_df['mental_interceptions'] = players_df['Interceptions']\n",
    "players_stats_df['mental_positioning'] = players_df['Positioning']\n",
    "players_stats_df['mental_vision'] = players_df['Vision']\n",
    "players_stats_df['mental_penalties'] = players_df['Penalties']\n",
    "players_stats_df['mental_composure'] = players_df['Composure']\n",
    "players_stats_df['defending_marking'] = players_df['Marking']\n",
    "players_stats_df['defending_standing_tackle'] = players_df['StandingTackle']\n",
    "players_stats_df['defending_sliding_tackle'] = players_df['SlidingTackle']\n",
    "\n",
    "display(players_stats_df.count)"
   ]
  },
  {
   "cell_type": "code",
   "execution_count": 35,
   "metadata": {},
   "outputs": [],
   "source": [
    "goalkeepers_columns = [\n",
    "    'rating'\n",
    "    , 'movement_agility', 'movement_reactions', 'movement_balance'  #, 'movement_acceleration', 'movement_sprint_speed'\n",
    "    , 'power_shot_power', 'power_jumping', 'power_stamina', 'power_strength', 'power_long_shots'\n",
    "    , 'mental_aggression', 'mental_interceptions', 'mental_vision', 'mental_penalties', 'mental_composure' #, 'mental_reflexes'\n",
    "    , 'defending_diving', 'defending_handling', 'defending_positioning'\n",
    "]\n",
    "\n",
    "import pandas\n",
    "goalkeepers_stats_df = pandas.DataFrame(columns=[goalkeepers_columns])\n",
    "\n",
    "goalkeepers_stats_df['rating'] = goal_keepers_df['Rating']\n",
    "# goalkeepers_stats_df['movement_acceleration'] = goalkeepers_stats_df['']\n",
    "# goalkeepers_stats_df['movement_sprint_speed'] = goalkeepers_stats_df['']\n",
    "goalkeepers_stats_df['movement_agility'] = goal_keepers_df['Agility']\n",
    "goalkeepers_stats_df['movement_reactions'] = goal_keepers_df['Reactions']\n",
    "goalkeepers_stats_df['movement_balance'] = goal_keepers_df['Balance']\n",
    "goalkeepers_stats_df['power_shot_power'] = goal_keepers_df['ShotPower']\n",
    "goalkeepers_stats_df['power_jumping'] = goal_keepers_df['Jumping']\n",
    "goalkeepers_stats_df['power_stamina'] = goal_keepers_df['Stamina']\n",
    "goalkeepers_stats_df['power_strength'] = goal_keepers_df['Strength']\n",
    "goalkeepers_stats_df['power_long_shots'] = goal_keepers_df['LongShots']\n",
    "goalkeepers_stats_df['mental_aggression'] = goal_keepers_df['Aggression']\n",
    "goalkeepers_stats_df['mental_interceptions'] = goal_keepers_df['Interceptions']\n",
    "# goalkeepers_stats_df['mental_positioning'] = goalkeepers_stats_df['']\n",
    "goalkeepers_stats_df['mental_vision'] = goal_keepers_df['Vision']\n",
    "goalkeepers_stats_df['mental_penalties'] = goal_keepers_df['Penalties']\n",
    "goalkeepers_stats_df['mental_composure'] = goal_keepers_df['Composure']\n",
    "goalkeepers_stats_df['defending_diving'] = goal_keepers_df['GKDiving']\n",
    "goalkeepers_stats_df['defending_handling'] = goal_keepers_df['GKHandling']\n",
    "goalkeepers_stats_df['defending_positioning'] = goal_keepers_df['GKPositioning']\n",
    "goalkeepers_stats_df['defending_reflexes'] = goal_keepers_df['GKReflexes']\n",
    "\n",
    "import numpy\n",
    "goalkeepers_stats_df['isElite'] = numpy.where(goal_keepers_df['Rating'] >= 85, 1, 0)\n",
    "\n",
    "# goalkeepers_stats_df['status'] = pandas.Categorical(goalkeepers_stats_df['rating'], categories=['isElite', 'Medium''], ordered=True)\n",
    "# goalkeepers_stats_df['Value'] = goalkeepers_stats_df.groupby('Item')['Status'].apply(lambda x: (x == x.max()).astype(int))"
   ]
  },
  {
   "cell_type": "code",
   "execution_count": 36,
   "metadata": {},
   "outputs": [],
   "source": [
    "#display(players_stats_df.head(3))"
   ]
  },
  {
   "cell_type": "code",
   "execution_count": 37,
   "metadata": {},
   "outputs": [],
   "source": [
    "#display(goalkeepers_stats_df.head(3))"
   ]
  },
  {
   "cell_type": "code",
   "execution_count": 38,
   "metadata": {},
   "outputs": [
    {
     "output_type": "stream",
     "name": "stdout",
     "text": [
      "Size of training data:\t14334\nSize of testing data:\t3584\nSize of total data: 17918\n\nSize of training data:\t1593\nSize of testing data:\t399\nSize of total data: 1992\n\n"
     ]
    }
   ],
   "source": [
    "def split_fit_datasets(data, size, rs):\n",
    "    from sklearn.model_selection import train_test_split\n",
    "\n",
    "    train_set, test_set = train_test_split(data, test_size=0.2, random_state=42)\n",
    "    print(f\"Size of training data:\\t{len(train_set)}\")\n",
    "    print(f\"Size of testing data:\\t{len(test_set)}\")\n",
    "    print(f\"Size of total data: {len(data)}\\n\")\n",
    "\n",
    "    return train_set, test_set\n",
    "\n",
    "players_training_ds, players_test_ds = split_fit_datasets(players_stats_df, 0.2, 42)\n",
    "\n",
    "goal_keepers_training_ds, goal_keepers_test_ds = split_fit_datasets(goalkeepers_stats_df, 0.2, 42)"
   ]
  },
  {
   "cell_type": "code",
   "execution_count": 39,
   "metadata": {},
   "outputs": [],
   "source": [
    "# git init\n",
    "# # git add README.md  \n",
    "# git add GeeksForGeeks.ipynb\n",
    "# git commit -m \"notebook first commit\" \n",
    "# git remote add origin https://github.com/ponda614/Data-Science-Final-Project-/GeeksForGeeks.git \n",
    "# git push -u origin master "
   ]
  },
  {
   "cell_type": "code",
   "execution_count": 40,
   "metadata": {},
   "outputs": [],
   "source": [
    "# Look for Correlations\n",
    "# You can compute the standard correlation coefficient between each pair of attributes using the corr() method.\n",
    "# Looking at all the correlations between each attribute will take up too much time,\n",
    "# so let’s just see how much each attribute correlates with the overall value.\n",
    "# players_training_df = players_training_ds.copy()\n",
    "# corr_matrix = players_training_df.corr()\n",
    "# corr_matrix['rating'].sort_values(by='rating', ascending=False)"
   ]
  },
  {
   "cell_type": "code",
   "execution_count": null,
   "metadata": {},
   "outputs": [],
   "source": []
  },
  {
   "cell_type": "code",
   "execution_count": 41,
   "metadata": {},
   "outputs": [],
   "source": [
    "# from pandas.plotting import scatter_matrix\n",
    "# attributes = ['rating', 'movement_reactions', 'mentality_composure', 'power_shot_power', 'mentality_vision']\n",
    "# scatter_matrix(players_training_df[attributes], figsize=(15,12))\n",
    "# plt.show()"
   ]
  },
  {
   "source": [
    " ## Logistical Regression Model"
   ],
   "cell_type": "markdown",
   "metadata": {}
  },
  {
   "cell_type": "code",
   "execution_count": 42,
   "metadata": {},
   "outputs": [],
   "source": [
    "# read the dataset\n",
    "def create_data_framme(location, fileName):\n",
    "    from pathlib import Path\n",
    "    import pandas as pd\n",
    "    data = Path(location, fileName)\n",
    "    df = pd.read_csv(data)\n",
    "\n",
    "    return df\n",
    "\n",
    "# separate the features from the target\n",
    "def separate_features_from_target(df, outcome, columns):\n",
    "    y = df[outcome]\n",
    "    # X = df.drop(columns=column, inplace= True, axis=1)\n",
    "    for col in columns:\n",
    "        del df[col]\n",
    "    X= df\n",
    "    print(y)\n",
    "    return X, y\n",
    "\n",
    "# Split our data into training and testing\n",
    "def split_dataset_into_training_and_testing(features, outcome, rnd_state):\n",
    "    from sklearn.model_selection import train_test_split\n",
    "    X_train, X_test, y_train, y_test = train_test_split(features, \n",
    "                                                    outcome, \n",
    "                                                    random_state=rnd_state)\n",
    "                                                    \n",
    "    return X_train, X_test, y_train, y_test\n",
    "\n",
    "def make_predictions(classifier, X_test, y_test):\n",
    "    import pandas as pd\n",
    "\n",
    "    y_pred = classifier.predict(X_test)\n",
    "    results = pd.DataFrame({\"Prediction\": y_pred, \"Actual\": y_test}).reset_index(drop=True)\n",
    "    \n",
    "    return results, y_pred\n",
    "\n",
    "def create_logistic_regression_model():\n",
    "# def create_logistic_regression_model(slvr, iter, rnd_state, X_train, y_train):\n",
    "    from sklearn.linear_model import LogisticRegression\n",
    "\n",
    "    log_reg_model = LogisticRegression(fit_intercept=False)\n",
    "    # classifier = LogisticRegression('none',\n",
    "                                # max_iter=1000,\n",
    "                                # random_state=1)\n",
    "    # classifier.fit(X_train, y_train.values.ravel())    \n",
    "    log_reg_model.fit(X_train, y_train.values.ravel()) \n",
    " \n",
    "    return log_reg_model\n",
    "\n",
    "def create_confusion_matrix(y_test, y_pred):\n",
    "    from sklearn.metrics import confusion_matrix\n",
    "    conf_matrix = confusion_matrix(y_test, y_pred)\n",
    "    \n",
    "    return conf_matrix\n",
    "\n",
    "def create_classification_report(y_test, y_pred):\n",
    "    from sklearn.metrics import classification_report    \n",
    "    report = classification_report(y_test, y_pred)\n",
    "\n",
    "    return report\n",
    "\n",
    "def print_accuracy_score(y_test, y_pred):\n",
    "    from sklearn.metrics import accuracy_score\n",
    "    acc_score = accuracy_score(y_test, y_pred)\n",
    "    return acc_score"
   ]
  },
  {
   "cell_type": "code",
   "execution_count": 43,
   "metadata": {},
   "outputs": [
    {
     "output_type": "display_data",
     "data": {
      "text/plain": "     rating movement_agility movement_reactions movement_balance  \\\n0      92.0             60.0               90.0             43.0   \n1      91.5             67.0               86.0             49.0   \n2      90.5             37.0               85.0             43.0   \n3      89.5             61.0               84.0             45.0   \n4      89.0             51.0               84.0             35.0   \n...     ...              ...                ...              ...   \n1987   56.5             33.0               40.0             29.0   \n1988   53.0             45.0               47.0             52.0   \n1989   48.0             31.0               48.0             31.0   \n1990   56.0             39.0               37.0             22.0   \n1991   58.5             22.0               36.0             47.0   \n\n     power_shot_power power_jumping power_stamina power_strength  \\\n0                31.0          67.0          43.0           64.0   \n1                22.0          76.0          41.0           78.0   \n2                22.0          79.0          35.0           79.0   \n3                36.0          68.0          38.0           70.0   \n4                25.0          77.0          43.0           80.0   \n...               ...           ...           ...            ...   \n1987             15.0          48.0          20.0           38.0   \n1988             25.0          55.0          33.0           58.0   \n1989             23.0          45.0          22.0           44.0   \n1990             22.0          33.0          15.0           59.0   \n1991             26.0          56.0          20.0           38.0   \n\n     power_long_shots mental_aggression mental_interceptions mental_vision  \\\n0                12.0              38.0                 30.0          68.0   \n1                12.0              34.0                 19.0          70.0   \n2                10.0              43.0                 22.0          69.0   \n3                17.0              23.0                 15.0          44.0   \n4                16.0              29.0                 30.0          70.0   \n...               ...               ...                  ...           ...   \n1987              6.0              20.0                 10.0          18.0   \n1988             20.0              20.0                 29.0          20.0   \n1989             12.0              24.0                 15.0          11.0   \n1990              5.0              17.0                  5.0          28.0   \n1991              5.0              25.0                  6.0          37.0   \n\n     mental_penalties mental_composure defending_diving defending_handling  \\\n0                40.0             68.0             90.0               85.0   \n1                11.0             70.0             86.0               92.0   \n2                25.0             69.0             87.0               85.0   \n3                27.0             66.0             85.0               91.0   \n4                47.0             70.0             90.0               86.0   \n...               ...              ...              ...                ...   \n1987             12.0             28.0             47.0               46.0   \n1988             29.0             28.0             45.0               49.0   \n1989             22.0             56.0             45.0               48.0   \n1990             16.0             23.0             52.0               52.0   \n1991             14.0             34.0             46.0               52.0   \n\n     defending_positioning defending_reflexes isElite  \n0                     88.0               94.0       1  \n1                     88.0               89.0       1  \n2                     85.0               90.0       1  \n3                     86.0               88.0       1  \n4                     87.0               87.0       1  \n...                    ...                ...     ...  \n1987                  45.0               51.0       0  \n1988                  50.0               45.0       0  \n1989                  49.0               46.0       0  \n1990                  40.0               44.0       0  \n1991                  42.0               48.0       0  \n\n[1992 rows x 19 columns]",
      "text/html": "<div>\n<style scoped>\n    .dataframe tbody tr th:only-of-type {\n        vertical-align: middle;\n    }\n\n    .dataframe tbody tr th {\n        vertical-align: top;\n    }\n\n    .dataframe thead tr th {\n        text-align: left;\n    }\n</style>\n<table border=\"1\" class=\"dataframe\">\n  <thead>\n    <tr>\n      <th></th>\n      <th>rating</th>\n      <th>movement_agility</th>\n      <th>movement_reactions</th>\n      <th>movement_balance</th>\n      <th>power_shot_power</th>\n      <th>power_jumping</th>\n      <th>power_stamina</th>\n      <th>power_strength</th>\n      <th>power_long_shots</th>\n      <th>mental_aggression</th>\n      <th>mental_interceptions</th>\n      <th>mental_vision</th>\n      <th>mental_penalties</th>\n      <th>mental_composure</th>\n      <th>defending_diving</th>\n      <th>defending_handling</th>\n      <th>defending_positioning</th>\n      <th>defending_reflexes</th>\n      <th>isElite</th>\n    </tr>\n  </thead>\n  <tbody>\n    <tr>\n      <th>0</th>\n      <td>92.0</td>\n      <td>60.0</td>\n      <td>90.0</td>\n      <td>43.0</td>\n      <td>31.0</td>\n      <td>67.0</td>\n      <td>43.0</td>\n      <td>64.0</td>\n      <td>12.0</td>\n      <td>38.0</td>\n      <td>30.0</td>\n      <td>68.0</td>\n      <td>40.0</td>\n      <td>68.0</td>\n      <td>90.0</td>\n      <td>85.0</td>\n      <td>88.0</td>\n      <td>94.0</td>\n      <td>1</td>\n    </tr>\n    <tr>\n      <th>1</th>\n      <td>91.5</td>\n      <td>67.0</td>\n      <td>86.0</td>\n      <td>49.0</td>\n      <td>22.0</td>\n      <td>76.0</td>\n      <td>41.0</td>\n      <td>78.0</td>\n      <td>12.0</td>\n      <td>34.0</td>\n      <td>19.0</td>\n      <td>70.0</td>\n      <td>11.0</td>\n      <td>70.0</td>\n      <td>86.0</td>\n      <td>92.0</td>\n      <td>88.0</td>\n      <td>89.0</td>\n      <td>1</td>\n    </tr>\n    <tr>\n      <th>2</th>\n      <td>90.5</td>\n      <td>37.0</td>\n      <td>85.0</td>\n      <td>43.0</td>\n      <td>22.0</td>\n      <td>79.0</td>\n      <td>35.0</td>\n      <td>79.0</td>\n      <td>10.0</td>\n      <td>43.0</td>\n      <td>22.0</td>\n      <td>69.0</td>\n      <td>25.0</td>\n      <td>69.0</td>\n      <td>87.0</td>\n      <td>85.0</td>\n      <td>85.0</td>\n      <td>90.0</td>\n      <td>1</td>\n    </tr>\n    <tr>\n      <th>3</th>\n      <td>89.5</td>\n      <td>61.0</td>\n      <td>84.0</td>\n      <td>45.0</td>\n      <td>36.0</td>\n      <td>68.0</td>\n      <td>38.0</td>\n      <td>70.0</td>\n      <td>17.0</td>\n      <td>23.0</td>\n      <td>15.0</td>\n      <td>44.0</td>\n      <td>27.0</td>\n      <td>66.0</td>\n      <td>85.0</td>\n      <td>91.0</td>\n      <td>86.0</td>\n      <td>88.0</td>\n      <td>1</td>\n    </tr>\n    <tr>\n      <th>4</th>\n      <td>89.0</td>\n      <td>51.0</td>\n      <td>84.0</td>\n      <td>35.0</td>\n      <td>25.0</td>\n      <td>77.0</td>\n      <td>43.0</td>\n      <td>80.0</td>\n      <td>16.0</td>\n      <td>29.0</td>\n      <td>30.0</td>\n      <td>70.0</td>\n      <td>47.0</td>\n      <td>70.0</td>\n      <td>90.0</td>\n      <td>86.0</td>\n      <td>87.0</td>\n      <td>87.0</td>\n      <td>1</td>\n    </tr>\n    <tr>\n      <th>...</th>\n      <td>...</td>\n      <td>...</td>\n      <td>...</td>\n      <td>...</td>\n      <td>...</td>\n      <td>...</td>\n      <td>...</td>\n      <td>...</td>\n      <td>...</td>\n      <td>...</td>\n      <td>...</td>\n      <td>...</td>\n      <td>...</td>\n      <td>...</td>\n      <td>...</td>\n      <td>...</td>\n      <td>...</td>\n      <td>...</td>\n      <td>...</td>\n    </tr>\n    <tr>\n      <th>1987</th>\n      <td>56.5</td>\n      <td>33.0</td>\n      <td>40.0</td>\n      <td>29.0</td>\n      <td>15.0</td>\n      <td>48.0</td>\n      <td>20.0</td>\n      <td>38.0</td>\n      <td>6.0</td>\n      <td>20.0</td>\n      <td>10.0</td>\n      <td>18.0</td>\n      <td>12.0</td>\n      <td>28.0</td>\n      <td>47.0</td>\n      <td>46.0</td>\n      <td>45.0</td>\n      <td>51.0</td>\n      <td>0</td>\n    </tr>\n    <tr>\n      <th>1988</th>\n      <td>53.0</td>\n      <td>45.0</td>\n      <td>47.0</td>\n      <td>52.0</td>\n      <td>25.0</td>\n      <td>55.0</td>\n      <td>33.0</td>\n      <td>58.0</td>\n      <td>20.0</td>\n      <td>20.0</td>\n      <td>29.0</td>\n      <td>20.0</td>\n      <td>29.0</td>\n      <td>28.0</td>\n      <td>45.0</td>\n      <td>49.0</td>\n      <td>50.0</td>\n      <td>45.0</td>\n      <td>0</td>\n    </tr>\n    <tr>\n      <th>1989</th>\n      <td>48.0</td>\n      <td>31.0</td>\n      <td>48.0</td>\n      <td>31.0</td>\n      <td>23.0</td>\n      <td>45.0</td>\n      <td>22.0</td>\n      <td>44.0</td>\n      <td>12.0</td>\n      <td>24.0</td>\n      <td>15.0</td>\n      <td>11.0</td>\n      <td>22.0</td>\n      <td>56.0</td>\n      <td>45.0</td>\n      <td>48.0</td>\n      <td>49.0</td>\n      <td>46.0</td>\n      <td>0</td>\n    </tr>\n    <tr>\n      <th>1990</th>\n      <td>56.0</td>\n      <td>39.0</td>\n      <td>37.0</td>\n      <td>22.0</td>\n      <td>22.0</td>\n      <td>33.0</td>\n      <td>15.0</td>\n      <td>59.0</td>\n      <td>5.0</td>\n      <td>17.0</td>\n      <td>5.0</td>\n      <td>28.0</td>\n      <td>16.0</td>\n      <td>23.0</td>\n      <td>52.0</td>\n      <td>52.0</td>\n      <td>40.0</td>\n      <td>44.0</td>\n      <td>0</td>\n    </tr>\n    <tr>\n      <th>1991</th>\n      <td>58.5</td>\n      <td>22.0</td>\n      <td>36.0</td>\n      <td>47.0</td>\n      <td>26.0</td>\n      <td>56.0</td>\n      <td>20.0</td>\n      <td>38.0</td>\n      <td>5.0</td>\n      <td>25.0</td>\n      <td>6.0</td>\n      <td>37.0</td>\n      <td>14.0</td>\n      <td>34.0</td>\n      <td>46.0</td>\n      <td>52.0</td>\n      <td>42.0</td>\n      <td>48.0</td>\n      <td>0</td>\n    </tr>\n  </tbody>\n</table>\n<p>1992 rows × 19 columns</p>\n</div>"
     },
     "metadata": {}
    }
   ],
   "source": [
    "display(goalkeepers_stats_df)"
   ]
  },
  {
   "cell_type": "code",
   "execution_count": 44,
   "metadata": {},
   "outputs": [
    {
     "output_type": "stream",
     "name": "stdout",
     "text": [
      "     rating\n0      92.0\n1      91.5\n2      90.5\n3      89.5\n4      89.0\n...     ...\n1987   56.5\n1988   53.0\n1989   48.0\n1990   56.0\n1991   58.5\n\n[1992 rows x 1 columns]\n"
     ]
    },
    {
     "output_type": "error",
     "ename": "ValueError",
     "evalue": "Unknown label type: 'continuous'",
     "traceback": [
      "\u001b[1;31m---------------------------------------------------------------------------\u001b[0m",
      "\u001b[1;31mValueError\u001b[0m                                Traceback (most recent call last)",
      "\u001b[1;32m<ipython-input-44-3b75d34decb3>\u001b[0m in \u001b[0;36m<module>\u001b[1;34m\u001b[0m\n\u001b[0;32m      9\u001b[0m \u001b[1;31m# # X_train, X_test, y_train, y_test = split_dataset_into_training_and_testing(X, y, 1)\u001b[0m\u001b[1;33m\u001b[0m\u001b[1;33m\u001b[0m\u001b[1;33m\u001b[0m\u001b[0m\n\u001b[0;32m     10\u001b[0m \u001b[1;31m# # print(X_train)\u001b[0m\u001b[1;33m\u001b[0m\u001b[1;33m\u001b[0m\u001b[1;33m\u001b[0m\u001b[0m\n\u001b[1;32m---> 11\u001b[1;33m \u001b[0mlog_reg_model\u001b[0m \u001b[1;33m=\u001b[0m  \u001b[0mcreate_logistic_regression_model\u001b[0m\u001b[1;33m(\u001b[0m\u001b[1;33m)\u001b[0m\u001b[1;33m\u001b[0m\u001b[1;33m\u001b[0m\u001b[0m\n\u001b[0m\u001b[0;32m     12\u001b[0m \u001b[1;31m# print(log_reg_model)\u001b[0m\u001b[1;33m\u001b[0m\u001b[1;33m\u001b[0m\u001b[1;33m\u001b[0m\u001b[0m\n\u001b[0;32m     13\u001b[0m \u001b[1;31m# features.columns\u001b[0m\u001b[1;33m\u001b[0m\u001b[1;33m\u001b[0m\u001b[1;33m\u001b[0m\u001b[0m\n",
      "\u001b[1;32m<ipython-input-42-9f9a6a2471cc>\u001b[0m in \u001b[0;36mcreate_logistic_regression_model\u001b[1;34m()\u001b[0m\n\u001b[0;32m     44\u001b[0m                                 \u001b[1;31m# random_state=1)\u001b[0m\u001b[1;33m\u001b[0m\u001b[1;33m\u001b[0m\u001b[1;33m\u001b[0m\u001b[0m\n\u001b[0;32m     45\u001b[0m     \u001b[1;31m# classifier.fit(X_train, y_train.values.ravel())\u001b[0m\u001b[1;33m\u001b[0m\u001b[1;33m\u001b[0m\u001b[1;33m\u001b[0m\u001b[0m\n\u001b[1;32m---> 46\u001b[1;33m     \u001b[0mlog_reg_model\u001b[0m\u001b[1;33m.\u001b[0m\u001b[0mfit\u001b[0m\u001b[1;33m(\u001b[0m\u001b[0mX_train\u001b[0m\u001b[1;33m,\u001b[0m \u001b[0my_train\u001b[0m\u001b[1;33m.\u001b[0m\u001b[0mvalues\u001b[0m\u001b[1;33m.\u001b[0m\u001b[0mravel\u001b[0m\u001b[1;33m(\u001b[0m\u001b[1;33m)\u001b[0m\u001b[1;33m)\u001b[0m\u001b[1;33m\u001b[0m\u001b[1;33m\u001b[0m\u001b[0m\n\u001b[0m\u001b[0;32m     47\u001b[0m \u001b[1;33m\u001b[0m\u001b[0m\n\u001b[0;32m     48\u001b[0m     \u001b[1;32mreturn\u001b[0m \u001b[0mlog_reg_model\u001b[0m\u001b[1;33m\u001b[0m\u001b[1;33m\u001b[0m\u001b[0m\n",
      "\u001b[1;32m~\\anaconda3\\envs\\mlenv\\lib\\site-packages\\sklearn\\linear_model\\_logistic.py\u001b[0m in \u001b[0;36mfit\u001b[1;34m(self, X, y, sample_weight)\u001b[0m\n\u001b[0;32m   1345\u001b[0m                                    \u001b[0morder\u001b[0m\u001b[1;33m=\u001b[0m\u001b[1;34m\"C\"\u001b[0m\u001b[1;33m,\u001b[0m\u001b[1;33m\u001b[0m\u001b[1;33m\u001b[0m\u001b[0m\n\u001b[0;32m   1346\u001b[0m                                    accept_large_sparse=solver != 'liblinear')\n\u001b[1;32m-> 1347\u001b[1;33m         \u001b[0mcheck_classification_targets\u001b[0m\u001b[1;33m(\u001b[0m\u001b[0my\u001b[0m\u001b[1;33m)\u001b[0m\u001b[1;33m\u001b[0m\u001b[1;33m\u001b[0m\u001b[0m\n\u001b[0m\u001b[0;32m   1348\u001b[0m         \u001b[0mself\u001b[0m\u001b[1;33m.\u001b[0m\u001b[0mclasses_\u001b[0m \u001b[1;33m=\u001b[0m \u001b[0mnp\u001b[0m\u001b[1;33m.\u001b[0m\u001b[0munique\u001b[0m\u001b[1;33m(\u001b[0m\u001b[0my\u001b[0m\u001b[1;33m)\u001b[0m\u001b[1;33m\u001b[0m\u001b[1;33m\u001b[0m\u001b[0m\n\u001b[0;32m   1349\u001b[0m \u001b[1;33m\u001b[0m\u001b[0m\n",
      "\u001b[1;32m~\\anaconda3\\envs\\mlenv\\lib\\site-packages\\sklearn\\utils\\multiclass.py\u001b[0m in \u001b[0;36mcheck_classification_targets\u001b[1;34m(y)\u001b[0m\n\u001b[0;32m    181\u001b[0m     if y_type not in ['binary', 'multiclass', 'multiclass-multioutput',\n\u001b[0;32m    182\u001b[0m                       'multilabel-indicator', 'multilabel-sequences']:\n\u001b[1;32m--> 183\u001b[1;33m         \u001b[1;32mraise\u001b[0m \u001b[0mValueError\u001b[0m\u001b[1;33m(\u001b[0m\u001b[1;34m\"Unknown label type: %r\"\u001b[0m \u001b[1;33m%\u001b[0m \u001b[0my_type\u001b[0m\u001b[1;33m)\u001b[0m\u001b[1;33m\u001b[0m\u001b[1;33m\u001b[0m\u001b[0m\n\u001b[0m\u001b[0;32m    184\u001b[0m \u001b[1;33m\u001b[0m\u001b[0m\n\u001b[0;32m    185\u001b[0m \u001b[1;33m\u001b[0m\u001b[0m\n",
      "\u001b[1;31mValueError\u001b[0m: Unknown label type: 'continuous'"
     ]
    }
   ],
   "source": [
    "X, y = separate_features_from_target(goalkeepers_stats_df, 'rating', ['rating'])\n",
    "# print(X)\n",
    "# print(y)\n",
    "X_train, X_test, y_train, y_test = split_dataset_into_training_and_testing(X, y, 0)\n",
    "# print(X_train)\n",
    "# print(y_test)\n",
    "# # y = y.reshape((n_samples,))\n",
    "# X_train, X_test, y_train, y_test = split_dataset_into_training_and_testing(X, y, 1)\n",
    "# # X_train, X_test, y_train, y_test = split_dataset_into_training_and_testing(X, y, 1)\n",
    "# # print(X_train)\n",
    "log_reg_model =  create_logistic_regression_model()\n",
    "# print(log_reg_model)\n",
    "# features.columns\n",
    "# numpy.round(log_reg_model.coef_)>0\n",
    "# predictions_df, y_pred = make_predictions(classifier, X_test, y_test.values.ravel())\n",
    "# confusion_matrix = create_confusion_matrix(y_test, y_pred)\n",
    "# accuracy_score = print_accuracy_score(y_test.values.ravel(), y_pred)\n",
    "# classification_report = create_classification_report(y_test, y_pred)\n",
    "# classifier =  create_logistic_regression_model()\n",
    "# predictions_df, y_pred = make_predictions(classifier, X_test, y_test.values.ravel())\n",
    "# confusion_matrix = create_confusion_matrix(y_test, y_pred)\n",
    "# accuracy_score = print_accuracy_score(y_test.values.ravel(), y_pred)\n",
    "# classification_report = create_classification_report(y_test, y_pred)"
   ]
  },
  {
   "cell_type": "code",
   "execution_count": 61,
   "metadata": {},
   "outputs": [
    {
     "output_type": "execute_result",
     "data": {
      "text/plain": [
       "                        isElite\n",
       "movement_agility       0.130103\n",
       "movement_reactions     0.205579\n",
       "movement_balance       0.022075\n",
       "power_shot_power       0.035156\n",
       "power_jumping          0.105371\n",
       "power_stamina          0.081428\n",
       "power_strength         0.073618\n",
       "power_long_shots       0.042552\n",
       "mental_aggression      0.089216\n",
       "mental_interceptions   0.066926\n",
       "mental_vision          0.138850\n",
       "mental_penalties       0.066298\n",
       "mental_composure       0.136006\n",
       "defending_diving       0.237855\n",
       "defending_handling     0.242499\n",
       "defending_positioning  0.215182\n",
       "defending_reflexes     0.243385\n",
       "isElite                1.000000"
      ],
      "text/html": "<div>\n<style scoped>\n    .dataframe tbody tr th:only-of-type {\n        vertical-align: middle;\n    }\n\n    .dataframe tbody tr th {\n        vertical-align: top;\n    }\n\n    .dataframe thead tr th {\n        text-align: left;\n    }\n</style>\n<table border=\"1\" class=\"dataframe\">\n  <thead>\n    <tr>\n      <th></th>\n      <th>isElite</th>\n    </tr>\n  </thead>\n  <tbody>\n    <tr>\n      <th>movement_agility</th>\n      <td>0.130103</td>\n    </tr>\n    <tr>\n      <th>movement_reactions</th>\n      <td>0.205579</td>\n    </tr>\n    <tr>\n      <th>movement_balance</th>\n      <td>0.022075</td>\n    </tr>\n    <tr>\n      <th>power_shot_power</th>\n      <td>0.035156</td>\n    </tr>\n    <tr>\n      <th>power_jumping</th>\n      <td>0.105371</td>\n    </tr>\n    <tr>\n      <th>power_stamina</th>\n      <td>0.081428</td>\n    </tr>\n    <tr>\n      <th>power_strength</th>\n      <td>0.073618</td>\n    </tr>\n    <tr>\n      <th>power_long_shots</th>\n      <td>0.042552</td>\n    </tr>\n    <tr>\n      <th>mental_aggression</th>\n      <td>0.089216</td>\n    </tr>\n    <tr>\n      <th>mental_interceptions</th>\n      <td>0.066926</td>\n    </tr>\n    <tr>\n      <th>mental_vision</th>\n      <td>0.138850</td>\n    </tr>\n    <tr>\n      <th>mental_penalties</th>\n      <td>0.066298</td>\n    </tr>\n    <tr>\n      <th>mental_composure</th>\n      <td>0.136006</td>\n    </tr>\n    <tr>\n      <th>defending_diving</th>\n      <td>0.237855</td>\n    </tr>\n    <tr>\n      <th>defending_handling</th>\n      <td>0.242499</td>\n    </tr>\n    <tr>\n      <th>defending_positioning</th>\n      <td>0.215182</td>\n    </tr>\n    <tr>\n      <th>defending_reflexes</th>\n      <td>0.243385</td>\n    </tr>\n    <tr>\n      <th>isElite</th>\n      <td>1.000000</td>\n    </tr>\n  </tbody>\n</table>\n</div>"
     },
     "metadata": {},
     "execution_count": 61
    }
   ],
   "source": [
    "fifa_df = X_train.copy()\n",
    "corr_matrix = fifa_df.corr()\n",
    "corr_matrix['isElite']"
   ]
  },
  {
   "cell_type": "code",
   "execution_count": null,
   "metadata": {},
   "outputs": [],
   "source": [
    "display(X)\n",
    "\n",
    "y_test\n",
    "\n",
    "classifier\n",
    "\n",
    "display(predictions_df)\n",
    "display(y_pred)\n",
    "display(y_test)\n",
    "\n",
    "print(confusion_matrix)\n",
    "print(f\"\\nlogistic regression model accuracy: {accuracy_score}.\\n\")\n",
    "\n",
    "print(classification_report)"
   ]
  },
  {
   "cell_type": "code",
   "execution_count": null,
   "metadata": {},
   "outputs": [],
   "source": []
  }
 ]
}