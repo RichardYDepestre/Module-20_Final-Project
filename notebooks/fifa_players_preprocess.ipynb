{
 "metadata": {
  "language_info": {
   "codemirror_mode": {
    "name": "ipython",
    "version": 3
   },
   "file_extension": ".py",
   "mimetype": "text/x-python",
   "name": "python",
   "nbconvert_exporter": "python",
   "pygments_lexer": "ipython3",
   "version": "3.9.5"
  },
  "orig_nbformat": 4,
  "kernelspec": {
   "name": "python3",
   "display_name": "Python 3.9.5 64-bit ('mlenv': conda)"
  },
  "interpreter": {
   "hash": "c8664c37d20d1a667b792eed6f68d26a151ec74784f499ac31579ebbdd16e46a"
  }
 },
 "nbformat": 4,
 "nbformat_minor": 2,
 "cells": [
  {
   "cell_type": "code",
   "execution_count": 404,
   "metadata": {},
   "outputs": [],
   "source": [
    "cols_to_drop_for_keepers = ['Photo', 'Flag',\n",
    "    'International Reputation', 'Weak Foot', 'Skill Moves',\n",
    "     'Body Type', 'Real Face', 'Jersey Number',\n",
    "    'Joined', 'Loaned From', 'Contract Valid Until',\n",
    "     'Crossing', 'Finishing', 'HeadingAccuracy', 'ShortPassing', 'Volleys',\n",
    "       'Dribbling', 'Curve', 'FKAccuracy', 'LongPassing', 'BallControl',\n",
    "       'Acceleration', 'SprintSpeed',\n",
    "     'LS', 'ST', 'RS', 'LW', 'LF', 'CF', 'RF', 'RW',\n",
    "     'LAM', 'CAM', 'RAM', 'LM', 'LCM', 'CM', 'RCM',\n",
    "     'RM', 'LWB', 'LDM', 'CDM', 'RDM', 'RWB', 'LB',\n",
    "     'LCB', 'CB', 'RCB', 'RB', \n",
    "     'Club Logo', 'Release Clause', 'Special', 'Preferred Foot',\n",
    "     'Marking', 'StandingTackle', 'SlidingTackle', 'Positioning', 'Reactions', 'LongShots', 'ShotPower']\n",
    "\n",
    "cols_to_drop_for_players = ['Photo', 'Flag',\n",
    "    'International Reputation', 'Weak Foot', 'Jersey Number',\n",
    "    'Joined', 'Loaned From', 'Contract Valid Until', 'Body Type'\n",
    "     'LS', 'ST', 'RS', 'LW', 'LF', 'CF', 'RF', 'RW',\n",
    "     'LAM', 'CAM', 'RAM', 'LM', 'LCM', 'CM', 'RCM',\n",
    "     'RM', 'LWB', 'LDM', 'CDM', 'RDM', 'RWB', 'LB',\n",
    "     'LCB', 'CB', 'RCB', 'RB', \n",
    "     'Photo', 'Flag', 'Club Logo', 'Release Clause', 'Special', 'Preferred Foot']"
   ]
  },
  {
   "cell_type": "code",
   "execution_count": 405,
   "metadata": {},
   "outputs": [],
   "source": [
    "from fifa_players_functions import *"
   ]
  },
  {
   "source": [
    "## Pre-processing"
   ],
   "cell_type": "markdown",
   "metadata": {}
  },
  {
   "source": [
    "### Load dataset"
   ],
   "cell_type": "markdown",
   "metadata": {}
  },
  {
   "cell_type": "code",
   "execution_count": 406,
   "metadata": {},
   "outputs": [],
   "source": [
    "from pathlib import Path\n",
    "# dataset location:\n",
    "dataset_location = Path('../resources','fifa_world_players_alt.csv')\n",
    "raw_data = create_fifa_players_dataframe(dataset_location)"
   ]
  },
  {
   "source": [
    "#### encode column labels"
   ],
   "cell_type": "markdown",
   "metadata": {}
  },
  {
   "cell_type": "code",
   "execution_count": 407,
   "metadata": {},
   "outputs": [],
   "source": [
    "raw_data = raw_data.rename(columns={'Work Rate':'WorkEthic'})\n",
    "raw_data = encode_field(raw_data, 'WorkEthic')\n",
    "# raw_data['WorkEthic']"
   ]
  },
  {
   "source": [
    "#### Create goalkeepers dataset"
   ],
   "cell_type": "markdown",
   "metadata": {}
  },
  {
   "cell_type": "code",
   "execution_count": 408,
   "metadata": {},
   "outputs": [
    {
     "output_type": "stream",
     "name": "stderr",
     "text": [
      "<ipython-input-394-eb9abd4a29fb>:12: SettingWithCopyWarning: \nA value is trying to be set on a copy of a slice from a DataFrame.\nTry using .loc[row_indexer,col_indexer] = value instead\n\nSee the caveats in the documentation: https://pandas.pydata.org/pandas-docs/stable/user_guide/indexing.html#returning-a-view-versus-a-copy\n  data_in['Rating'] = (col.mean(axis=1))\n"
     ]
    }
   ],
   "source": [
    "goal_keepers_data = create_dataset_by_pos(raw_data, 'GK', cols_to_drop_for_keepers, 0)\n",
    "goal_keepers_data = create_fifa_players_dataset(goal_keepers_data, '../resources/', 'goal_keepers_schema.txt', 'goal_keepers.csv', 0)\n"
   ]
  },
  {
   "source": [
    "#### Create players dataset"
   ],
   "cell_type": "markdown",
   "metadata": {}
  },
  {
   "cell_type": "code",
   "execution_count": 409,
   "metadata": {},
   "outputs": [
    {
     "output_type": "stream",
     "name": "stderr",
     "text": [
      "<ipython-input-394-eb9abd4a29fb>:12: SettingWithCopyWarning: \nA value is trying to be set on a copy of a slice from a DataFrame.\nTry using .loc[row_indexer,col_indexer] = value instead\n\nSee the caveats in the documentation: https://pandas.pydata.org/pandas-docs/stable/user_guide/indexing.html#returning-a-view-versus-a-copy\n  data_in['Rating'] = (col.mean(axis=1))\n"
     ]
    }
   ],
   "source": [
    "players_data = create_dataset_by_pos(raw_data, ' ', cols_to_drop_for_players, 0)\n",
    "players_data = create_fifa_players_dataset(players_data, '../resources/', 'players_schema.txt', 'playpers.csv', 0)"
   ]
  },
  {
   "cell_type": "code",
   "execution_count": null,
   "metadata": {},
   "outputs": [],
   "source": []
  }
 ]
}