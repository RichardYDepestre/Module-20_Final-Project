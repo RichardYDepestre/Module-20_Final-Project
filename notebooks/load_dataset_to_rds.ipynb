{
 "metadata": {
  "language_info": {
   "codemirror_mode": {
    "name": "ipython",
    "version": 3
   },
   "file_extension": ".py",
   "mimetype": "text/x-python",
   "name": "python",
   "nbconvert_exporter": "python",
   "pygments_lexer": "ipython3",
   "version": "3.9.5"
  },
  "orig_nbformat": 4,
  "kernelspec": {
   "name": "python3",
   "display_name": "Python 3.9.5 64-bit ('mlenv': conda)"
  },
  "interpreter": {
   "hash": "c8664c37d20d1a667b792eed6f68d26a151ec74784f499ac31579ebbdd16e46a"
  }
 },
 "nbformat": 4,
 "nbformat_minor": 2,
 "cells": [
  {
   "source": [
    "# Purpose:\n",
    "### The purpose of this module is to load onto the *fifa-players-prediction* database in PostgreSQL and AWS's RDS <br> the content of the dataset: *fifa_world_players_clean.csv* that we chose for this project.\n",
    "\n",
    "### This module *gets run once*, to load the dataset onto the RDS database."
   ],
   "cell_type": "markdown",
   "metadata": {}
  },
  {
   "source": [
    "### 1) Load common purpose functions"
   ],
   "cell_type": "markdown",
   "metadata": {}
  },
  {
   "cell_type": "code",
   "execution_count": 7,
   "metadata": {},
   "outputs": [],
   "source": [
    "%run s0_fifa_players_functions.ipynb"
   ]
  },
  {
   "cell_type": "code",
   "execution_count": 8,
   "metadata": {},
   "outputs": [],
   "source": [
    "# Definition of players table\n",
    "create_table = \"\"\"\n",
    "    DROP TABLE IF EXISTS players;\n",
    "    CREATE TABLE players \n",
    "    (\n",
    "        Player_ID int NOT NULL, Player_Name VARCHAR(70) NOT NULL, Age FLOAT NOT NULL, Photo varchar(50) NULL, Nationality VARCHAR(50) NOT NULL,\n",
    "        Country_Flag VARCHAR(50) NOT NULL,Overall FLOAT NOT NULL,Potential FLOAT NOT NULL,Club VARCHAR(50) NULL,Club_Logo VARCHAR(50) NULL,\n",
    "        Contract_Value VARCHAR(50) NULL,Wage VARCHAR(50) NULL,Special VARCHAR(50) NOT NULL,Preferred_Foot VARCHAR(50) NULL,International_Reputation VARCHAR(50) NULL,\n",
    "        Weak_Foot VARCHAR(50) NULL,Skills_Moves VARCHAR(50) NULL,Work_Rate VARCHAR(50) NULL,Body_Type VARCHAR(50) NULL,Real_Face VARCHAR(50) NULL,\n",
    "        Field_Position VARCHAR(50)  NULL,Jersey_Number VARCHAR(50) NULL,Joined VARCHAR(50) NULL,Loaned_From VARCHAR(50) NULL,Contract_Valid_Until VARCHAR(50) NULL,\n",
    "        Height VARCHAR(50) NULL,Weight VARCHAR(50) NULL,Crossing FLOAT NULL,Finishing FLOAT  NULL,Heading_Accuracy FLOAT  NULL,Short_Passing FLOAT NULL,\n",
    "        Volleys FLOAT NULL,Dribbling FLOAT NULL,Curve FLOAT NULL,FK_Accuracy FLOAT NULL,Long_Passing FLOAT NULL,Ball_Control FLOAT NULL,Acceleration FLOAT NULL,\n",
    "        Sprint_Speed FLOAT NULL,Agility FLOAT NULL,Reactions FLOAT NULL,Balance FLOAT NULL,Shot_Power FLOAT NULL,Jumping FLOAT NULL,Stamina FLOAT NULL,\n",
    "        Strength FLOAT NULL,Long_Shots FLOAT NULL,Aggression FLOAT NULL,Interceptions FLOAT NULL,Positioning FLOAT NULL,Vision FLOAT NULL,Penalties FLOAT NULL,\n",
    "        Composure FLOAT NULL,Marking FLOAT NULL,Standing_Tackle FLOAT NULL,Sliding_Tackle FLOAT NULL,GK_Diving FLOAT NULL,--Rating FLOAT NULL, \t\n",
    "        GK_Handling FLOAT NULL,\tGK_Kicking FLOAT NULL,\tGK_Positioning FLOAT NULL,\tGK_Reflexes FLOAT NULL,\n",
    "        PRIMARY KEY (Player_ID)\n",
    "    );\n",
    "    \"\"\""
   ]
  },
  {
   "cell_type": "code",
   "execution_count": 9,
   "metadata": {},
   "outputs": [],
   "source": [
    "def load_data_onto_db(cursor):\n",
    "    with open('../resources/fifa_world_players_clean.csv', 'r', encoding=\"UTF8\") as row:\n",
    "        next(row) # Skip the header row.\n",
    "        cursor.copy_from(row, 'players', sep=',')"
   ]
  },
  {
   "cell_type": "code",
   "execution_count": 10,
   "metadata": {},
   "outputs": [
    {
     "output_type": "stream",
     "name": "stdout",
     "text": [
      "Connected!\n",
      "Wall time: 9.73 s\n"
     ]
    }
   ],
   "source": [
    "conn, cursor= connect()\n",
    "\n",
    "# Execute SQL Command and commit to DB\n",
    "cursor.execute(create_table)\n",
    "\n",
    "# Load csv raw data onto database\n",
    "%time load_data_onto_db(cursor)\n",
    "conn.commit()\n",
    "\n",
    "\n",
    "# test_data_load(cursor)\n",
    "# %time test_keepers_load(cursor)\n",
    "\n",
    "# Disconnect from DB\n",
    "disconnect(conn, cursor)"
   ]
  },
  {
   "cell_type": "code",
   "execution_count": 11,
   "metadata": {},
   "outputs": [],
   "source": [
    "# Test data loading\n",
    "def test_data_load(cursor):\n",
    "    import pandas\n",
    "\n",
    "    sql = \"\"\" SELECT * from players\"\"\"\n",
    "    df = pandas.read_sql(sql, con=conn)\n",
    "    display(df)\n",
    "    \n",
    "# Test data loading\n",
    "def test_keepers_load(cursor):\n",
    "    import pandas\n",
    "\n",
    "    sql = \"\"\" SELECT * from players where field_position = 'GK' \"\"\"\n",
    "    df = pandas.read_sql(sql, con=conn)\n",
    "    display(df)"
   ]
  },
  {
   "cell_type": "code",
   "execution_count": 12,
   "metadata": {},
   "outputs": [],
   "source": [
    "# --command \" \"\\\\copy public.players (player_id, name, age, nationality, flag, overall, potential, club, club_logo, value, wage, special, preferred_foot, international_reputation, weak_foot, skills_moves, work_rate, body_type, real_face, \\\"position\\\", jersey_number, joined, loaned_from, contract_valid_until, height, weight, crossing, finishing, heading_accuracy, short_passing, volleys, dribbling, curve, fk_accuracy, long_passing, ball_control, acceleration, sprint_speed, agility, reactions, balance, shot_power, jumping, stamina, strength, long_shots, aggression, interceptions, positioning, vision, penalties, composure, marking, standing_tackle, sliding_tackle, gk_diving, rating, gk_handling, gk_kicking, gk_positioning, gk_reflexes, release_clause) FROM 'E:/DATA-E~1/MOCA0B~1/RESOUR~1/FIFA_W~1.CSV' DELIMITER ',' CSV HEADER ENCODING 'UTF8' QUOTE '\\\"' ESCAPE '''';\"\""
   ]
  }
 ]
}