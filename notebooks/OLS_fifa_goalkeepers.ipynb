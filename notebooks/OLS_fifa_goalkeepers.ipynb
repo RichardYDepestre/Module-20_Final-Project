{
 "cells": [
  {
   "source": [
    "# <u>Purspose</u>: Create fifa players datasets\n",
    "## <u>Description</u>:\n",
    "## Create datasets of players by position."
   ],
   "cell_type": "markdown",
   "metadata": {}
  },
  {
   "cell_type": "code",
   "execution_count": 88,
   "metadata": {},
   "outputs": [],
   "source": [
    "%run functions.ipynb"
   ]
  },
  {
   "cell_type": "code",
   "execution_count": 89,
   "metadata": {},
   "outputs": [],
   "source": [
    "goal_keepers = ['GK']\n",
    "defenders = ['RWB', 'RCB', 'RB', 'LCB', 'CB', 'LWB', 'LB']\n",
    "def_mid_fielders = ['LDM', 'CDM','RDM']\n",
    "mid_fielders = ['CM', 'RCM', 'RM', 'LCM', 'LM']\n",
    "attack_mid_fielders = ['LAM', 'CAM', 'RAM']\n",
    "forwards = ['RF', 'CF','LF', 'LW', 'RW']\n",
    "strikers = ['ST', 'RS', 'LS']\n",
    "\n",
    "goal_keepers_l = 'GK'\n",
    "defenders_l = 'RWB', 'RCB', 'RB', 'LCB', 'CB', 'LWB', 'LB'\n",
    "def_mid_fielders_l = 'LDM', 'CDM','RDM'\n",
    "mid_fielders_l = 'CM', 'RCM', 'RM', 'LCM', 'LM'\n",
    "attack_mid_fielders_l = 'LAM', 'CAM', 'RAM'\n",
    "forwards_l = 'RF', 'CF','LF', 'LW', 'RW'\n",
    "strikers_l = 'ST', 'RS', 'LS'"
   ]
  },
  {
   "cell_type": "markdown",
   "metadata": {},
   "source": [
    "## - goalkeepers dataset"
   ]
  },
  {
   "cell_type": "code",
   "execution_count": 90,
   "metadata": {},
   "outputs": [
    {
     "output_type": "stream",
     "name": "stdout",
     "text": [
      "Connected!\n",
      " ********* Current Position: GK: \n",
      " \n",
      " ********* Significant features in order of impact: Index(['const', 'gk_reflexes', 'gk_diving', 'gk_handling', 'gk_positioning',\n",
      "       'gk_kicking'],\n",
      "      dtype='object'): \n",
      " \n",
      "                            OLS Regression Results                            \n",
      "==============================================================================\n",
      "Dep. Variable:                 rating   R-squared:                       0.892\n",
      "Model:                            OLS   Adj. R-squared:                  0.892\n",
      "Method:                 Least Squares   F-statistic:                     2671.\n",
      "Date:                Wed, 14 Jul 2021   Prob (F-statistic):               0.00\n",
      "Time:                        18:09:47   Log-Likelihood:                -3528.3\n",
      "No. Observations:                1620   AIC:                             7069.\n",
      "Df Residuals:                    1614   BIC:                             7101.\n",
      "Df Model:                           5                                         \n",
      "Covariance Type:            nonrobust                                         \n",
      "==================================================================================\n",
      "                     coef    std err          t      P>|t|      [0.025      0.975]\n",
      "----------------------------------------------------------------------------------\n",
      "gk_diving          0.2470      0.017     14.124      0.000       0.213       0.281\n",
      "gk_handling        0.2287      0.015     14.984      0.000       0.199       0.259\n",
      "gk_kicking         0.0385      0.011      3.633      0.000       0.018       0.059\n",
      "gk_positioning     0.0564      0.014      4.008      0.000       0.029       0.084\n",
      "gk_reflexes        0.2597      0.016     15.831      0.000       0.228       0.292\n",
      "const             13.6012      0.494     27.534      0.000      12.632      14.570\n",
      "==============================================================================\n",
      "Omnibus:                       75.287   Durbin-Watson:                   1.938\n",
      "Prob(Omnibus):                  0.000   Jarque-Bera (JB):               84.886\n",
      "Skew:                           0.542   Prob(JB):                     3.69e-19\n",
      "Kurtosis:                       3.291   Cond. No.                     1.33e+03\n",
      "==============================================================================\n",
      "\n",
      "Notes:\n",
      "[1] Standard Errors assume that the covariance matrix of the errors is correctly specified.\n",
      "[2] The condition number is large, 1.33e+03. This might indicate that there are\n",
      "strong multicollinearity or other numerical problems.\n",
      "\n",
      "\n"
     ]
    }
   ],
   "source": [
    "# Connect to DB\n",
    "conn, cursor= connect()\n",
    "\n",
    "import pandas\n",
    "# sql = \"\"\" SELECT * from players where field_position in ('GK') \"\"\"\n",
    "sql = f\"SELECT * from players where field_position in ('{goal_keepers_l}') \"\n",
    "\n",
    "goal_keepers_data = pandas.read_sql(sql, con=conn)\n",
    "\n",
    "\n",
    "# calulate player ratings\n",
    "goal_keepers_data['rating'] = (goal_keepers_data['overall'] + goal_keepers_data['potential'])/2\n",
    "# Disconnect from DB\n",
    "disconnect(conn, cursor)\n",
    "\n",
    "goal_keepers_data = create_players_dataframes(goal_keepers_data, columns_to_keep)\n",
    "# display(goal_keepers_data)\n",
    "goalkeepers_data_filtered = create_players_dataframes(goal_keepers_data, ['gk_reflexes', 'gk_diving', 'gk_handling', 'gk_positioning', 'gk_kicking', 'rating', 'field_position', 'potential', 'overall'])\n",
    "# display(goalkeepers_data_filtered)\n",
    "run_through_OLS_Model(goalkeepers_data_filtered, goal_keepers)"
   ]
  },
  {
   "cell_type": "code",
   "execution_count": null,
   "metadata": {},
   "outputs": [],
   "source": []
  }
 ],
 "metadata": {
  "interpreter": {
   "hash": "c8664c37d20d1a667b792eed6f68d26a151ec74784f499ac31579ebbdd16e46a"
  },
  "kernelspec": {
   "name": "python3",
   "display_name": "Python 3.9.5 64-bit ('mlenv': conda)"
  },
  "language_info": {
   "codemirror_mode": {
    "name": "ipython",
    "version": 3
   },
   "file_extension": ".py",
   "mimetype": "text/x-python",
   "name": "python",
   "nbconvert_exporter": "python",
   "pygments_lexer": "ipython3",
   "version": "3.9.5"
  }
 },
 "nbformat": 4,
 "nbformat_minor": 2
}