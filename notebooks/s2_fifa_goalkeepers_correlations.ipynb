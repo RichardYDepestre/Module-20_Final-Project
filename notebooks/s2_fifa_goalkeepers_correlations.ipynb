{
 "metadata": {
  "language_info": {
   "codemirror_mode": {
    "name": "ipython",
    "version": 3
   },
   "file_extension": ".py",
   "mimetype": "text/x-python",
   "name": "python",
   "nbconvert_exporter": "python",
   "pygments_lexer": "ipython3",
   "version": "3.9.5"
  },
  "orig_nbformat": 4,
  "kernelspec": {
   "name": "python3",
   "display_name": "Python 3.9.5 64-bit ('mlenv': conda)"
  },
  "interpreter": {
   "hash": "c8664c37d20d1a667b792eed6f68d26a151ec74784f499ac31579ebbdd16e46a"
  }
 },
 "nbformat": 4,
 "nbformat_minor": 2,
 "cells": [
  {
   "source": [
    "# Purpose:"
   ],
   "cell_type": "markdown",
   "metadata": {}
  },
  {
   "source": [
    "# 1) download datasets"
   ],
   "cell_type": "markdown",
   "metadata": {}
  },
  {
   "cell_type": "code",
   "execution_count": 19,
   "metadata": {},
   "outputs": [],
   "source": [
    "# Initial imports.\n",
    "%run s0_fifa_players_functions.ipynb\n",
    "\n",
    "from pathlib import Path\n",
    "import os"
   ]
  },
  {
   "source": [
    "## ---> Modify the location below to fit your dev environment"
   ],
   "cell_type": "markdown",
   "metadata": {}
  },
  {
   "cell_type": "code",
   "execution_count": 20,
   "metadata": {
    "tags": []
   },
   "outputs": [
    {
     "output_type": "stream",
     "name": "stderr",
     "text": [
      "  % Total    % Received % Xferd  Average Speed   Time    Time     Time  Current\n                                 Dload  Upload   Total   Spent    Left  Speed\n\n  0     0    0     0    0     0      0      0 --:--:-- --:--:-- --:--:--     0\n  0     0    0     0    0     0      0      0 --:--:-- --:--:-- --:--:--     0\n100  360k  100  360k    0     0  1262k      0 --:--:-- --:--:-- --:--:-- 1257k\n"
     ]
    }
   ],
   "source": [
    "os.chdir('E:\\\\data-engineering@ColumbiaUnv\\\\Module-20_final_project\\\\resources')\n",
    "\n",
    "!curl -L https://raw.githubusercontent.com/ponda614/Data-Science-Final-Project-/main/resources/goal_keepers.csv -o fifa_goal_keepers_git.csv\n",
    "\n",
    "os.chdir('E:\\\\data-engineering@ColumbiaUnv\\\\Module-20_final_project\\\\notebooks')"
   ]
  },
  {
   "source": [
    "# 2) build goalkeepers dataframe"
   ],
   "cell_type": "markdown",
   "metadata": {}
  },
  {
   "source": [
    "goal_keepers_dataset_loc= os.path.join('../resources', 'fifa_goal_keepers_git.csv')\n",
    "goal_keepers_df = create_fifa_players_dataframe(goal_keepers_dataset_loc)\n",
    "\n",
    "# convert rating from numerical to categorical values\n",
    "goal_keepers_df['Rating'] = goal_keepers_df['Rating'].apply(adjust_rating)"
   ],
   "cell_type": "code",
   "metadata": {},
   "execution_count": 21,
   "outputs": []
  },
  {
   "source": [
    "# 3) Define the features set"
   ],
   "cell_type": "markdown",
   "metadata": {}
  },
  {
   "cell_type": "code",
   "execution_count": 22,
   "metadata": {},
   "outputs": [
    {
     "output_type": "stream",
     "name": "stderr",
     "text": [
      "C:\\Users\\albat\\anaconda3\\envs\\mlenv\\lib\\site-packages\\sklearn\\utils\\validation.py:63: DataConversionWarning: A column-vector y was passed when a 1d array was expected. Please change the shape of y to (n_samples, ), for example using ravel().\n  return f(*args, **kwargs)\n"
     ]
    },
    {
     "output_type": "display_data",
     "data": {
      "text/plain": "     rating movement_agility movement_reactions movement_balance  \\\n0         1             60.0               90.0             43.0   \n1         1             67.0               86.0             49.0   \n2         1             37.0               85.0             43.0   \n3         1             61.0               84.0             45.0   \n4         1             51.0               84.0             35.0   \n...     ...              ...                ...              ...   \n1987      0             33.0               40.0             29.0   \n1988      0             45.0               47.0             52.0   \n1989      0             31.0               48.0             31.0   \n1990      0             39.0               37.0             22.0   \n1991      0             22.0               36.0             47.0   \n\n     power_shot_power power_jumping power_stamina power_strength  \\\n0                31.0          67.0          43.0           64.0   \n1                22.0          76.0          41.0           78.0   \n2                22.0          79.0          35.0           79.0   \n3                36.0          68.0          38.0           70.0   \n4                25.0          77.0          43.0           80.0   \n...               ...           ...           ...            ...   \n1987             15.0          48.0          20.0           38.0   \n1988             25.0          55.0          33.0           58.0   \n1989             23.0          45.0          22.0           44.0   \n1990             22.0          33.0          15.0           59.0   \n1991             26.0          56.0          20.0           38.0   \n\n     power_long_shots mental_aggression mental_interceptions mental_vision  \\\n0                12.0              38.0                 30.0          68.0   \n1                12.0              34.0                 19.0          70.0   \n2                10.0              43.0                 22.0          69.0   \n3                17.0              23.0                 15.0          44.0   \n4                16.0              29.0                 30.0          70.0   \n...               ...               ...                  ...           ...   \n1987              6.0              20.0                 10.0          18.0   \n1988             20.0              20.0                 29.0          20.0   \n1989             12.0              24.0                 15.0          11.0   \n1990              5.0              17.0                  5.0          28.0   \n1991              5.0              25.0                  6.0          37.0   \n\n     mental_penalties mental_composure defending_diving defending_handling  \\\n0                40.0             68.0             90.0               85.0   \n1                11.0             70.0             86.0               92.0   \n2                25.0             69.0             87.0               85.0   \n3                27.0             66.0             85.0               91.0   \n4                47.0             70.0             90.0               86.0   \n...               ...              ...              ...                ...   \n1987             12.0             28.0             47.0               46.0   \n1988             29.0             28.0             45.0               49.0   \n1989             22.0             56.0             45.0               48.0   \n1990             16.0             23.0             52.0               52.0   \n1991             14.0             34.0             46.0               52.0   \n\n     defending_positioning defending_reflexes  \n0                     88.0               94.0  \n1                     88.0               89.0  \n2                     85.0               90.0  \n3                     86.0               88.0  \n4                     87.0               87.0  \n...                    ...                ...  \n1987                  45.0               51.0  \n1988                  50.0               45.0  \n1989                  49.0               46.0  \n1990                  40.0               44.0  \n1991                  42.0               48.0  \n\n[1992 rows x 18 columns]",
      "text/html": "<div>\n<style scoped>\n    .dataframe tbody tr th:only-of-type {\n        vertical-align: middle;\n    }\n\n    .dataframe tbody tr th {\n        vertical-align: top;\n    }\n\n    .dataframe thead tr th {\n        text-align: left;\n    }\n</style>\n<table border=\"1\" class=\"dataframe\">\n  <thead>\n    <tr>\n      <th></th>\n      <th>rating</th>\n      <th>movement_agility</th>\n      <th>movement_reactions</th>\n      <th>movement_balance</th>\n      <th>power_shot_power</th>\n      <th>power_jumping</th>\n      <th>power_stamina</th>\n      <th>power_strength</th>\n      <th>power_long_shots</th>\n      <th>mental_aggression</th>\n      <th>mental_interceptions</th>\n      <th>mental_vision</th>\n      <th>mental_penalties</th>\n      <th>mental_composure</th>\n      <th>defending_diving</th>\n      <th>defending_handling</th>\n      <th>defending_positioning</th>\n      <th>defending_reflexes</th>\n    </tr>\n  </thead>\n  <tbody>\n    <tr>\n      <th>0</th>\n      <td>1</td>\n      <td>60.0</td>\n      <td>90.0</td>\n      <td>43.0</td>\n      <td>31.0</td>\n      <td>67.0</td>\n      <td>43.0</td>\n      <td>64.0</td>\n      <td>12.0</td>\n      <td>38.0</td>\n      <td>30.0</td>\n      <td>68.0</td>\n      <td>40.0</td>\n      <td>68.0</td>\n      <td>90.0</td>\n      <td>85.0</td>\n      <td>88.0</td>\n      <td>94.0</td>\n    </tr>\n    <tr>\n      <th>1</th>\n      <td>1</td>\n      <td>67.0</td>\n      <td>86.0</td>\n      <td>49.0</td>\n      <td>22.0</td>\n      <td>76.0</td>\n      <td>41.0</td>\n      <td>78.0</td>\n      <td>12.0</td>\n      <td>34.0</td>\n      <td>19.0</td>\n      <td>70.0</td>\n      <td>11.0</td>\n      <td>70.0</td>\n      <td>86.0</td>\n      <td>92.0</td>\n      <td>88.0</td>\n      <td>89.0</td>\n    </tr>\n    <tr>\n      <th>2</th>\n      <td>1</td>\n      <td>37.0</td>\n      <td>85.0</td>\n      <td>43.0</td>\n      <td>22.0</td>\n      <td>79.0</td>\n      <td>35.0</td>\n      <td>79.0</td>\n      <td>10.0</td>\n      <td>43.0</td>\n      <td>22.0</td>\n      <td>69.0</td>\n      <td>25.0</td>\n      <td>69.0</td>\n      <td>87.0</td>\n      <td>85.0</td>\n      <td>85.0</td>\n      <td>90.0</td>\n    </tr>\n    <tr>\n      <th>3</th>\n      <td>1</td>\n      <td>61.0</td>\n      <td>84.0</td>\n      <td>45.0</td>\n      <td>36.0</td>\n      <td>68.0</td>\n      <td>38.0</td>\n      <td>70.0</td>\n      <td>17.0</td>\n      <td>23.0</td>\n      <td>15.0</td>\n      <td>44.0</td>\n      <td>27.0</td>\n      <td>66.0</td>\n      <td>85.0</td>\n      <td>91.0</td>\n      <td>86.0</td>\n      <td>88.0</td>\n    </tr>\n    <tr>\n      <th>4</th>\n      <td>1</td>\n      <td>51.0</td>\n      <td>84.0</td>\n      <td>35.0</td>\n      <td>25.0</td>\n      <td>77.0</td>\n      <td>43.0</td>\n      <td>80.0</td>\n      <td>16.0</td>\n      <td>29.0</td>\n      <td>30.0</td>\n      <td>70.0</td>\n      <td>47.0</td>\n      <td>70.0</td>\n      <td>90.0</td>\n      <td>86.0</td>\n      <td>87.0</td>\n      <td>87.0</td>\n    </tr>\n    <tr>\n      <th>...</th>\n      <td>...</td>\n      <td>...</td>\n      <td>...</td>\n      <td>...</td>\n      <td>...</td>\n      <td>...</td>\n      <td>...</td>\n      <td>...</td>\n      <td>...</td>\n      <td>...</td>\n      <td>...</td>\n      <td>...</td>\n      <td>...</td>\n      <td>...</td>\n      <td>...</td>\n      <td>...</td>\n      <td>...</td>\n      <td>...</td>\n    </tr>\n    <tr>\n      <th>1987</th>\n      <td>0</td>\n      <td>33.0</td>\n      <td>40.0</td>\n      <td>29.0</td>\n      <td>15.0</td>\n      <td>48.0</td>\n      <td>20.0</td>\n      <td>38.0</td>\n      <td>6.0</td>\n      <td>20.0</td>\n      <td>10.0</td>\n      <td>18.0</td>\n      <td>12.0</td>\n      <td>28.0</td>\n      <td>47.0</td>\n      <td>46.0</td>\n      <td>45.0</td>\n      <td>51.0</td>\n    </tr>\n    <tr>\n      <th>1988</th>\n      <td>0</td>\n      <td>45.0</td>\n      <td>47.0</td>\n      <td>52.0</td>\n      <td>25.0</td>\n      <td>55.0</td>\n      <td>33.0</td>\n      <td>58.0</td>\n      <td>20.0</td>\n      <td>20.0</td>\n      <td>29.0</td>\n      <td>20.0</td>\n      <td>29.0</td>\n      <td>28.0</td>\n      <td>45.0</td>\n      <td>49.0</td>\n      <td>50.0</td>\n      <td>45.0</td>\n    </tr>\n    <tr>\n      <th>1989</th>\n      <td>0</td>\n      <td>31.0</td>\n      <td>48.0</td>\n      <td>31.0</td>\n      <td>23.0</td>\n      <td>45.0</td>\n      <td>22.0</td>\n      <td>44.0</td>\n      <td>12.0</td>\n      <td>24.0</td>\n      <td>15.0</td>\n      <td>11.0</td>\n      <td>22.0</td>\n      <td>56.0</td>\n      <td>45.0</td>\n      <td>48.0</td>\n      <td>49.0</td>\n      <td>46.0</td>\n    </tr>\n    <tr>\n      <th>1990</th>\n      <td>0</td>\n      <td>39.0</td>\n      <td>37.0</td>\n      <td>22.0</td>\n      <td>22.0</td>\n      <td>33.0</td>\n      <td>15.0</td>\n      <td>59.0</td>\n      <td>5.0</td>\n      <td>17.0</td>\n      <td>5.0</td>\n      <td>28.0</td>\n      <td>16.0</td>\n      <td>23.0</td>\n      <td>52.0</td>\n      <td>52.0</td>\n      <td>40.0</td>\n      <td>44.0</td>\n    </tr>\n    <tr>\n      <th>1991</th>\n      <td>0</td>\n      <td>22.0</td>\n      <td>36.0</td>\n      <td>47.0</td>\n      <td>26.0</td>\n      <td>56.0</td>\n      <td>20.0</td>\n      <td>38.0</td>\n      <td>5.0</td>\n      <td>25.0</td>\n      <td>6.0</td>\n      <td>37.0</td>\n      <td>14.0</td>\n      <td>34.0</td>\n      <td>46.0</td>\n      <td>52.0</td>\n      <td>42.0</td>\n      <td>48.0</td>\n    </tr>\n  </tbody>\n</table>\n<p>1992 rows × 18 columns</p>\n</div>"
     },
     "metadata": {}
    },
    {
     "output_type": "stream",
     "name": "stderr",
     "text": [
      "C:\\Users\\albat\\anaconda3\\envs\\mlenv\\lib\\site-packages\\pandas\\core\\generic.py:4153: PerformanceWarning: dropping on a non-lexsorted multi-index without a level parameter may impact performance.\n  obj = obj._drop_axis(labels, axis, level=level, errors=errors)\n"
     ]
    }
   ],
   "source": [
    "goalkeepers_stats_df=build_goal_keepers_stats_dataframe(goal_keepers_df)\n",
    "\n",
    "goalkeepers_stats_df = encode_field(goalkeepers_stats_df, 'rating')\n",
    "goal_keepers_dataset_loc= os.path.join('../resources', 'fifa_goal_keepers_encoded.csv')\n",
    "goalkeepers_stats_df.to_csv(goal_keepers_dataset_loc, index=False)\n",
    "\n",
    "display(goalkeepers_stats_df)\n",
    "\n",
    "X = goalkeepers_stats_df.copy()\n",
    "X = X.drop([\"rating\"], axis=1)\n",
    "\n",
    "Y = goalkeepers_stats_df['rating'].values.ravel()"
   ]
  },
  {
   "source": [
    "# Splitting into Train and Test sets"
   ],
   "cell_type": "markdown",
   "metadata": {}
  },
  {
   "cell_type": "code",
   "execution_count": 23,
   "metadata": {},
   "outputs": [],
   "source": [
    "from sklearn.model_selection import train_test_split\n",
    "\n",
    "X_train, X_test, y_train, y_test = train_test_split(X, Y, random_state=78)"
   ]
  },
  {
   "cell_type": "code",
   "execution_count": 24,
   "metadata": {},
   "outputs": [
    {
     "output_type": "display_data",
     "data": {
      "text/plain": "array([[-4.50841667e-01,  6.08156487e-01, -1.75315223e+00, ...,\n        -1.24280466e-01, -2.33382544e-01, -1.68588026e-03],\n       [ 1.56816281e+00,  1.29802380e-01,  1.69841794e-01, ...,\n        -6.51018099e-01, -4.44392238e-03, -4.81439235e-01],\n       [ 1.91929402e+00,  6.08156487e-01,  1.81812239e+00, ...,\n         1.32424803e+00,  1.02577988e+00,  3.58129136e-01],\n       ...,\n       [-1.32866970e+00, -2.45330980e+00, -3.79585071e-01, ...,\n        -1.57280896e+00, -1.26360634e+00, -1.92069930e+00],\n       [ 1.04146599e+00,  7.03827309e-01,  1.81812239e+00, ...,\n         5.34141576e-01,  7.96841254e-01,  7.17944152e-01],\n       [-5.38624470e-01, -1.57210085e-01,  1.08555324e+00, ...,\n        -5.19333691e-01,  5.67902633e-01,  2.38190797e-01]])"
     },
     "metadata": {}
    }
   ],
   "source": [
    "from sklearn.preprocessing import StandardScaler\n",
    "\n",
    "# Creating a StandardScaler instance.\n",
    "scaler = StandardScaler()\n",
    "# Fitting the Standard Scaler with the training data.\n",
    "X_scaler = scaler.fit(X_train)\n",
    "\n",
    "# Scaling the data.\n",
    "X_train_scaled = X_scaler.transform(X_train)\n",
    "X_test_scaled = X_scaler.transform(X_test)\n",
    "# display(y_train)\n",
    "display(X_train_scaled)\n",
    "# display(X_test_scaled)"
   ]
  },
  {
   "source": [
    "# Fit the Random Forest Model"
   ],
   "cell_type": "markdown",
   "metadata": {}
  },
  {
   "cell_type": "code",
   "execution_count": 31,
   "metadata": {},
   "outputs": [],
   "source": [
    "from sklearn.ensemble import RandomForestClassifier\n",
    "\n",
    "random_forest_model = RandomForestClassifier(n_estimators=128, random_state=78)\n",
    "\n",
    "# Fitting the model\n",
    "random_forest_model = random_forest_model.fit(X_train_scaled, y_train.ravel())\n",
    "# display(random_forest_model)"
   ]
  },
  {
   "source": [
    "# Making predictions using the Test Data"
   ],
   "cell_type": "markdown",
   "metadata": {}
  },
  {
   "cell_type": "code",
   "execution_count": 26,
   "metadata": {},
   "outputs": [
    {
     "output_type": "display_data",
     "data": {
      "text/plain": "array([0, 0, 0, 0, 0, 0, 0, 2, 2, 2, 2, 0, 2, 2, 0, 0, 0, 0, 2, 2, 0, 0,\n       0, 2, 2, 0, 0, 0, 0, 0, 0, 2, 0, 2, 0, 0, 0, 1, 2, 0, 0, 0, 0, 0,\n       2, 0, 2, 0, 0, 0, 2, 0, 2, 0, 2, 0, 0, 0, 0, 0, 0, 0, 0, 0, 2, 0,\n       2, 2, 0, 0, 0, 0, 0, 0, 0, 0, 0, 0, 0, 0, 2, 0, 0, 0, 2, 0, 0, 2,\n       0, 0, 0, 0, 0, 0, 0, 2, 2, 0, 2, 2, 0, 0, 2, 0, 0, 0, 2, 0, 0, 0,\n       0, 0, 2, 0, 0, 0, 0, 0, 2, 2, 2, 2, 2, 2, 0, 0, 0, 0, 0, 0, 0, 0,\n       0, 0, 0, 0, 0, 0, 0, 2, 0, 2, 0, 0, 0, 0, 2, 0, 0, 0, 0, 0, 2, 0,\n       0, 0, 0, 2, 0, 0, 0, 2, 0, 2, 0, 0, 0, 0, 0, 2, 0, 0, 0, 2, 0, 0,\n       0, 2, 2, 0, 0, 0, 0, 2, 0, 0, 0, 2, 0, 2, 0, 0, 0, 0, 0, 0, 0, 0,\n       0, 0, 0, 0, 0, 2, 2, 2, 2, 0, 0, 0, 0, 0, 0, 0, 0, 0, 2, 0, 0, 2,\n       2, 0, 2, 0, 0, 0, 2, 0, 0, 0, 0, 2, 0, 2, 0, 0, 0, 0, 0, 0, 0, 0,\n       0, 0, 0, 2, 0, 2, 0, 2, 0, 2, 0, 0, 0, 0, 0, 0, 2, 0, 0, 2, 2, 0,\n       0, 2, 0, 0, 0, 0, 0, 0, 2, 2, 0, 0, 0, 0, 0, 0, 0, 0, 2, 0, 0, 0,\n       0, 0, 2, 2, 0, 0, 0, 0, 2, 0, 0, 0, 2, 0, 0, 0, 0, 0, 0, 0, 2, 2,\n       0, 2, 0, 0, 2, 2, 2, 2, 2, 0, 0, 0, 0, 0, 0, 0, 0, 1, 0, 0, 0, 2,\n       0, 0, 0, 0, 0, 2, 0, 2, 0, 0, 2, 2, 2, 0, 0, 0, 0, 0, 2, 0, 0, 0,\n       2, 2, 0, 0, 2, 2, 0, 2, 0, 0, 2, 0, 0, 0, 2, 0, 2, 0, 2, 0, 0, 0,\n       0, 2, 0, 0, 0, 0, 0, 0, 2, 0, 0, 0, 0, 0, 0, 2, 2, 0, 0, 2, 0, 0,\n       0, 0, 0, 0, 0, 0, 0, 2, 2, 0, 0, 0, 0, 0, 0, 0, 2, 0, 0, 0, 0, 0,\n       0, 2, 0, 0, 2, 0, 0, 2, 0, 0, 0, 0, 2, 0, 2, 0, 2, 0, 0, 0, 0, 0,\n       0, 2, 2, 2, 2, 2, 0, 0, 0, 2, 0, 2, 0, 0, 0, 2, 0, 2, 0, 2, 0, 0,\n       2, 0, 0, 2, 0, 0, 0, 0, 0, 0, 0, 0, 0, 2, 0, 2, 0, 0, 0, 2, 0, 0,\n       2, 2, 0, 2, 0, 0, 2, 0, 0, 2, 0, 0, 2, 0])"
     },
     "metadata": {}
    }
   ],
   "source": [
    "predictions = random_forest_model.predict(X_test_scaled)\n",
    "display(predictions)"
   ]
  },
  {
   "source": [
    "# Evaluate the Model"
   ],
   "cell_type": "markdown",
   "metadata": {}
  },
  {
   "cell_type": "code",
   "execution_count": 27,
   "metadata": {},
   "outputs": [
    {
     "output_type": "display_data",
     "data": {
      "text/plain": "          Predicted 1  Predicted 2  Predicted 3\nActual 1          339            0           13\nActual 2            0            2            2\nActual 3           21            0          121",
      "text/html": "<div>\n<style scoped>\n    .dataframe tbody tr th:only-of-type {\n        vertical-align: middle;\n    }\n\n    .dataframe tbody tr th {\n        vertical-align: top;\n    }\n\n    .dataframe thead th {\n        text-align: right;\n    }\n</style>\n<table border=\"1\" class=\"dataframe\">\n  <thead>\n    <tr style=\"text-align: right;\">\n      <th></th>\n      <th>Predicted 1</th>\n      <th>Predicted 2</th>\n      <th>Predicted 3</th>\n    </tr>\n  </thead>\n  <tbody>\n    <tr>\n      <th>Actual 1</th>\n      <td>339</td>\n      <td>0</td>\n      <td>13</td>\n    </tr>\n    <tr>\n      <th>Actual 2</th>\n      <td>0</td>\n      <td>2</td>\n      <td>2</td>\n    </tr>\n    <tr>\n      <th>Actual 3</th>\n      <td>21</td>\n      <td>0</td>\n      <td>121</td>\n    </tr>\n  </tbody>\n</table>\n</div>"
     },
     "metadata": {}
    }
   ],
   "source": [
    "import pandas\n",
    "from sklearn.metrics import confusion_matrix, accuracy_score, classification_report\n",
    "\n",
    "# Calculating the confusion matrix.\n",
    "cm = confusion_matrix(y_test, predictions)\n",
    "# display(cm)\n",
    "# print(y_test.shape)\n",
    "# print(y_test.shape)\n",
    "y_test\n",
    "predictions\n",
    "\n",
    "# Create a DataFrame from the confusion matrix.\n",
    "cm_df = pandas.DataFrame(cm, index=[\"Actual 1\", \"Actual 2\", \"Actual 3\"], columns=[\"Predicted 1\", \"Predicted 2\", \"Predicted 3\"])\n",
    "\n",
    "display(cm_df)"
   ]
  },
  {
   "source": [
    "# Calculating the accuracy score"
   ],
   "cell_type": "markdown",
   "metadata": {}
  },
  {
   "cell_type": "code",
   "execution_count": 28,
   "metadata": {},
   "outputs": [
    {
     "output_type": "stream",
     "name": "stdout",
     "text": [
      "Confusion Matrix\n"
     ]
    },
    {
     "output_type": "display_data",
     "data": {
      "text/plain": "          Predicted 1  Predicted 2  Predicted 3\nActual 1          339            0           13\nActual 2            0            2            2\nActual 3           21            0          121",
      "text/html": "<div>\n<style scoped>\n    .dataframe tbody tr th:only-of-type {\n        vertical-align: middle;\n    }\n\n    .dataframe tbody tr th {\n        vertical-align: top;\n    }\n\n    .dataframe thead th {\n        text-align: right;\n    }\n</style>\n<table border=\"1\" class=\"dataframe\">\n  <thead>\n    <tr style=\"text-align: right;\">\n      <th></th>\n      <th>Predicted 1</th>\n      <th>Predicted 2</th>\n      <th>Predicted 3</th>\n    </tr>\n  </thead>\n  <tbody>\n    <tr>\n      <th>Actual 1</th>\n      <td>339</td>\n      <td>0</td>\n      <td>13</td>\n    </tr>\n    <tr>\n      <th>Actual 2</th>\n      <td>0</td>\n      <td>2</td>\n      <td>2</td>\n    </tr>\n    <tr>\n      <th>Actual 3</th>\n      <td>21</td>\n      <td>0</td>\n      <td>121</td>\n    </tr>\n  </tbody>\n</table>\n</div>"
     },
     "metadata": {}
    },
    {
     "output_type": "stream",
     "name": "stdout",
     "text": [
      "Accuracy Score : 0.927710843373494\nClassification Report\n              precision    recall  f1-score   support\n\n           0       0.94      0.96      0.95       352\n           1       1.00      0.50      0.67         4\n           2       0.89      0.85      0.87       142\n\n    accuracy                           0.93       498\n   macro avg       0.94      0.77      0.83       498\nweighted avg       0.93      0.93      0.93       498\n\n"
     ]
    }
   ],
   "source": [
    "acc_score = accuracy_score(y_test, predictions)\n",
    "\n",
    "# Displaying results\n",
    "print(\"Confusion Matrix\")\n",
    "display(cm_df)\n",
    "print(f\"Accuracy Score : {acc_score}\")\n",
    "print(\"Classification Report\")\n",
    "print(classification_report(y_test, predictions))"
   ]
  },
  {
   "source": [
    "# Rank the features"
   ],
   "cell_type": "markdown",
   "metadata": {}
  },
  {
   "cell_type": "code",
   "execution_count": 29,
   "metadata": {},
   "outputs": [
    {
     "output_type": "execute_result",
     "data": {
      "text/plain": [
       "array([0.02059447, 0.05877915, 0.01655845, 0.0123984 , 0.01737729,\n",
       "       0.01459987, 0.01637462, 0.01820521, 0.02099983, 0.01721349,\n",
       "       0.01785251, 0.01514304, 0.02442901, 0.23495779, 0.13029623,\n",
       "       0.15042529, 0.21379536])"
      ]
     },
     "metadata": {},
     "execution_count": 29
    }
   ],
   "source": [
    "# Calculate feature importance in the Random Forest model.\n",
    "importances = random_forest_model.feature_importances_\n",
    "importances"
   ]
  },
  {
   "cell_type": "code",
   "execution_count": 30,
   "metadata": {},
   "outputs": [
    {
     "output_type": "execute_result",
     "data": {
      "text/plain": [
       "[(0.23495778835623643, ('defending_diving',)),\n",
       " (0.21379536089031181, ('defending_reflexes',)),\n",
       " (0.15042528985015552, ('defending_positioning',)),\n",
       " (0.13029622705096874, ('defending_handling',)),\n",
       " (0.058779150386392295, ('movement_reactions',)),\n",
       " (0.024429007350602994, ('mental_composure',)),\n",
       " (0.020999832240790342, ('mental_aggression',)),\n",
       " (0.020594471334120092, ('movement_agility',)),\n",
       " (0.018205210641002403, ('power_long_shots',)),\n",
       " (0.017852512169311684, ('mental_vision',)),\n",
       " (0.017377288010712828, ('power_jumping',)),\n",
       " (0.017213486183063963, ('mental_interceptions',)),\n",
       " (0.016558454179674248, ('movement_balance',)),\n",
       " (0.016374618649904048, ('power_strength',)),\n",
       " (0.015143037244641422, ('mental_penalties',)),\n",
       " (0.014599870373301505, ('power_stamina',)),\n",
       " (0.012398395088809792, ('power_shot_power',))]"
      ]
     },
     "metadata": {},
     "execution_count": 30
    }
   ],
   "source": [
    "# We can sort the features by their importance.\n",
    "sorted(zip(random_forest_model.feature_importances_, X.columns), reverse=True)"
   ]
  },
  {
   "cell_type": "code",
   "execution_count": null,
   "metadata": {},
   "outputs": [],
   "source": []
  }
 ]
}