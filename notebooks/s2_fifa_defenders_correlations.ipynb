{
 "cells": [
  {
   "cell_type": "markdown",
   "metadata": {},
   "source": [
    "# <u>Purpose<u>: Transform defenders dataset"
   ]
  },
  {
   "cell_type": "code",
   "execution_count": 91,
   "metadata": {},
   "outputs": [],
   "source": [
    "# Initial imports.\n",
    "%run functions.ipynb\n",
    "\n",
    "from pathlib import Path\n",
    "import os"
   ]
  },
  {
   "cell_type": "code",
   "execution_count": 98,
   "metadata": {},
   "outputs": [
    {
     "output_type": "display_data",
     "data": {
      "text/plain": "      overall  potential field_position height  weight  crossing  finishing  \\\n0        91.0       91.0            RCB    6'0     181      66.0       60.0   \n1        90.0       90.0             CB    6'2     172      55.0       42.0   \n2        89.0       89.0            LCB    6'2     187      58.0       33.0   \n3        88.0       88.0            LCB    6'3     203      64.0       55.0   \n4        88.0       88.0             LB    5'9     176      90.0       70.0   \n...       ...        ...            ...    ...     ...       ...        ...   \n5861     48.0       66.0             RB   5'11     134      45.0       46.0   \n5862     47.0       59.0             RB   5'10     161      39.0       40.0   \n5863     47.0       65.0             LB   5'11     168      47.0       26.0   \n5864     47.0       64.0             RB    5'8     146      36.0       25.0   \n5865     47.0       68.0             RB    6'1     168      22.0       23.0   \n\n      heading_accuracy  short_passing  volleys  ...  composure  marking  \\\n0                 91.0           78.0     66.0  ...       82.0     87.0   \n1                 92.0           79.0     47.0  ...       82.0     90.0   \n2                 83.0           59.0     45.0  ...       84.0     93.0   \n3                 87.0           81.0     60.0  ...       91.0     88.0   \n4                 75.0           84.0     54.0  ...       86.0     71.0   \n...                ...            ...      ...  ...        ...      ...   \n5861              46.0           38.0     27.0  ...       38.0     43.0   \n5862              45.0           46.0     42.0  ...       47.0     40.0   \n5863              39.0           39.0     27.0  ...       36.0     45.0   \n5864              40.0           27.0     27.0  ...       32.0     41.0   \n5865              45.0           25.0     27.0  ...       43.0     44.0   \n\n      standing_tackle  sliding_tackle  gk_diving  gk_handling  gk_kicking  \\\n0                92.0            91.0       11.0          8.0         9.0   \n1                89.0            89.0        6.0          8.0        15.0   \n2                93.0            90.0        3.0          3.0         2.0   \n3                90.0            88.0       15.0          6.0        10.0   \n4                85.0            86.0       12.0          5.0         5.0   \n...               ...             ...        ...          ...         ...   \n5861             49.0            45.0        8.0         10.0        12.0   \n5862             42.0            42.0       13.0         12.0        11.0   \n5863             42.0            46.0       15.0         13.0         6.0   \n5864             48.0            48.0        6.0         10.0         6.0   \n5865             47.0            53.0        9.0         10.0         9.0   \n\n      gk_positioning  gk_reflexes  rating  \n0                7.0         11.0    91.0  \n1                5.0         15.0    90.0  \n2                4.0          3.0    89.0  \n3                5.0          6.0    88.0  \n4                5.0          9.0    88.0  \n...              ...          ...     ...  \n5861             9.0         10.0    57.0  \n5862            15.0         12.0    53.0  \n5863            14.0         12.0    56.0  \n5864            12.0         11.0    55.5  \n5865            11.0         13.0    57.5  \n\n[5866 rows x 40 columns]",
      "text/html": "<div>\n<style scoped>\n    .dataframe tbody tr th:only-of-type {\n        vertical-align: middle;\n    }\n\n    .dataframe tbody tr th {\n        vertical-align: top;\n    }\n\n    .dataframe thead th {\n        text-align: right;\n    }\n</style>\n<table border=\"1\" class=\"dataframe\">\n  <thead>\n    <tr style=\"text-align: right;\">\n      <th></th>\n      <th>overall</th>\n      <th>potential</th>\n      <th>field_position</th>\n      <th>height</th>\n      <th>weight</th>\n      <th>crossing</th>\n      <th>finishing</th>\n      <th>heading_accuracy</th>\n      <th>short_passing</th>\n      <th>volleys</th>\n      <th>...</th>\n      <th>composure</th>\n      <th>marking</th>\n      <th>standing_tackle</th>\n      <th>sliding_tackle</th>\n      <th>gk_diving</th>\n      <th>gk_handling</th>\n      <th>gk_kicking</th>\n      <th>gk_positioning</th>\n      <th>gk_reflexes</th>\n      <th>rating</th>\n    </tr>\n  </thead>\n  <tbody>\n    <tr>\n      <th>0</th>\n      <td>91.0</td>\n      <td>91.0</td>\n      <td>RCB</td>\n      <td>6'0</td>\n      <td>181</td>\n      <td>66.0</td>\n      <td>60.0</td>\n      <td>91.0</td>\n      <td>78.0</td>\n      <td>66.0</td>\n      <td>...</td>\n      <td>82.0</td>\n      <td>87.0</td>\n      <td>92.0</td>\n      <td>91.0</td>\n      <td>11.0</td>\n      <td>8.0</td>\n      <td>9.0</td>\n      <td>7.0</td>\n      <td>11.0</td>\n      <td>91.0</td>\n    </tr>\n    <tr>\n      <th>1</th>\n      <td>90.0</td>\n      <td>90.0</td>\n      <td>CB</td>\n      <td>6'2</td>\n      <td>172</td>\n      <td>55.0</td>\n      <td>42.0</td>\n      <td>92.0</td>\n      <td>79.0</td>\n      <td>47.0</td>\n      <td>...</td>\n      <td>82.0</td>\n      <td>90.0</td>\n      <td>89.0</td>\n      <td>89.0</td>\n      <td>6.0</td>\n      <td>8.0</td>\n      <td>15.0</td>\n      <td>5.0</td>\n      <td>15.0</td>\n      <td>90.0</td>\n    </tr>\n    <tr>\n      <th>2</th>\n      <td>89.0</td>\n      <td>89.0</td>\n      <td>LCB</td>\n      <td>6'2</td>\n      <td>187</td>\n      <td>58.0</td>\n      <td>33.0</td>\n      <td>83.0</td>\n      <td>59.0</td>\n      <td>45.0</td>\n      <td>...</td>\n      <td>84.0</td>\n      <td>93.0</td>\n      <td>93.0</td>\n      <td>90.0</td>\n      <td>3.0</td>\n      <td>3.0</td>\n      <td>2.0</td>\n      <td>4.0</td>\n      <td>3.0</td>\n      <td>89.0</td>\n    </tr>\n    <tr>\n      <th>3</th>\n      <td>88.0</td>\n      <td>88.0</td>\n      <td>LCB</td>\n      <td>6'3</td>\n      <td>203</td>\n      <td>64.0</td>\n      <td>55.0</td>\n      <td>87.0</td>\n      <td>81.0</td>\n      <td>60.0</td>\n      <td>...</td>\n      <td>91.0</td>\n      <td>88.0</td>\n      <td>90.0</td>\n      <td>88.0</td>\n      <td>15.0</td>\n      <td>6.0</td>\n      <td>10.0</td>\n      <td>5.0</td>\n      <td>6.0</td>\n      <td>88.0</td>\n    </tr>\n    <tr>\n      <th>4</th>\n      <td>88.0</td>\n      <td>88.0</td>\n      <td>LB</td>\n      <td>5'9</td>\n      <td>176</td>\n      <td>90.0</td>\n      <td>70.0</td>\n      <td>75.0</td>\n      <td>84.0</td>\n      <td>54.0</td>\n      <td>...</td>\n      <td>86.0</td>\n      <td>71.0</td>\n      <td>85.0</td>\n      <td>86.0</td>\n      <td>12.0</td>\n      <td>5.0</td>\n      <td>5.0</td>\n      <td>5.0</td>\n      <td>9.0</td>\n      <td>88.0</td>\n    </tr>\n    <tr>\n      <th>...</th>\n      <td>...</td>\n      <td>...</td>\n      <td>...</td>\n      <td>...</td>\n      <td>...</td>\n      <td>...</td>\n      <td>...</td>\n      <td>...</td>\n      <td>...</td>\n      <td>...</td>\n      <td>...</td>\n      <td>...</td>\n      <td>...</td>\n      <td>...</td>\n      <td>...</td>\n      <td>...</td>\n      <td>...</td>\n      <td>...</td>\n      <td>...</td>\n      <td>...</td>\n      <td>...</td>\n    </tr>\n    <tr>\n      <th>5861</th>\n      <td>48.0</td>\n      <td>66.0</td>\n      <td>RB</td>\n      <td>5'11</td>\n      <td>134</td>\n      <td>45.0</td>\n      <td>46.0</td>\n      <td>46.0</td>\n      <td>38.0</td>\n      <td>27.0</td>\n      <td>...</td>\n      <td>38.0</td>\n      <td>43.0</td>\n      <td>49.0</td>\n      <td>45.0</td>\n      <td>8.0</td>\n      <td>10.0</td>\n      <td>12.0</td>\n      <td>9.0</td>\n      <td>10.0</td>\n      <td>57.0</td>\n    </tr>\n    <tr>\n      <th>5862</th>\n      <td>47.0</td>\n      <td>59.0</td>\n      <td>RB</td>\n      <td>5'10</td>\n      <td>161</td>\n      <td>39.0</td>\n      <td>40.0</td>\n      <td>45.0</td>\n      <td>46.0</td>\n      <td>42.0</td>\n      <td>...</td>\n      <td>47.0</td>\n      <td>40.0</td>\n      <td>42.0</td>\n      <td>42.0</td>\n      <td>13.0</td>\n      <td>12.0</td>\n      <td>11.0</td>\n      <td>15.0</td>\n      <td>12.0</td>\n      <td>53.0</td>\n    </tr>\n    <tr>\n      <th>5863</th>\n      <td>47.0</td>\n      <td>65.0</td>\n      <td>LB</td>\n      <td>5'11</td>\n      <td>168</td>\n      <td>47.0</td>\n      <td>26.0</td>\n      <td>39.0</td>\n      <td>39.0</td>\n      <td>27.0</td>\n      <td>...</td>\n      <td>36.0</td>\n      <td>45.0</td>\n      <td>42.0</td>\n      <td>46.0</td>\n      <td>15.0</td>\n      <td>13.0</td>\n      <td>6.0</td>\n      <td>14.0</td>\n      <td>12.0</td>\n      <td>56.0</td>\n    </tr>\n    <tr>\n      <th>5864</th>\n      <td>47.0</td>\n      <td>64.0</td>\n      <td>RB</td>\n      <td>5'8</td>\n      <td>146</td>\n      <td>36.0</td>\n      <td>25.0</td>\n      <td>40.0</td>\n      <td>27.0</td>\n      <td>27.0</td>\n      <td>...</td>\n      <td>32.0</td>\n      <td>41.0</td>\n      <td>48.0</td>\n      <td>48.0</td>\n      <td>6.0</td>\n      <td>10.0</td>\n      <td>6.0</td>\n      <td>12.0</td>\n      <td>11.0</td>\n      <td>55.5</td>\n    </tr>\n    <tr>\n      <th>5865</th>\n      <td>47.0</td>\n      <td>68.0</td>\n      <td>RB</td>\n      <td>6'1</td>\n      <td>168</td>\n      <td>22.0</td>\n      <td>23.0</td>\n      <td>45.0</td>\n      <td>25.0</td>\n      <td>27.0</td>\n      <td>...</td>\n      <td>43.0</td>\n      <td>44.0</td>\n      <td>47.0</td>\n      <td>53.0</td>\n      <td>9.0</td>\n      <td>10.0</td>\n      <td>9.0</td>\n      <td>11.0</td>\n      <td>13.0</td>\n      <td>57.5</td>\n    </tr>\n  </tbody>\n</table>\n<p>5866 rows × 40 columns</p>\n</div>"
     },
     "metadata": {}
    }
   ],
   "source": [
    "import os\n",
    "\n",
    "defenders_dataset_loc= os.path.join('../resources', 'defenders.csv')\n",
    "defenders_df = create_fifa_players_dataframe(defenders_dataset_loc)\n",
    "\n",
    "# convert rating from numerical to categorical values\n",
    "# defenders_df['rating'] = defenders_df['rating'].apply(adjust_rating)\n",
    "defenders_df['rating'] = (defenders_df['potential'] + defenders_df['overall'])/2\n",
    "display(defenders_df)"
   ]
  },
  {
   "cell_type": "markdown",
   "metadata": {},
   "source": [
    "# Define the features set"
   ]
  },
  {
   "cell_type": "code",
   "execution_count": 93,
   "metadata": {},
   "outputs": [
    {
     "output_type": "display_data",
     "data": {
      "text/plain": "      overall  potential field_position height  weight  crossing  finishing  \\\n0        91.0       91.0            RCB    6'0     181      66.0       60.0   \n1        90.0       90.0             CB    6'2     172      55.0       42.0   \n2        89.0       89.0            LCB    6'2     187      58.0       33.0   \n3        88.0       88.0            LCB    6'3     203      64.0       55.0   \n4        88.0       88.0             LB    5'9     176      90.0       70.0   \n...       ...        ...            ...    ...     ...       ...        ...   \n5861     48.0       66.0             RB   5'11     134      45.0       46.0   \n5862     47.0       59.0             RB   5'10     161      39.0       40.0   \n5863     47.0       65.0             LB   5'11     168      47.0       26.0   \n5864     47.0       64.0             RB    5'8     146      36.0       25.0   \n5865     47.0       68.0             RB    6'1     168      22.0       23.0   \n\n      heading_accuracy  short_passing  volleys  ...  composure  marking  \\\n0                 91.0           78.0     66.0  ...       82.0     87.0   \n1                 92.0           79.0     47.0  ...       82.0     90.0   \n2                 83.0           59.0     45.0  ...       84.0     93.0   \n3                 87.0           81.0     60.0  ...       91.0     88.0   \n4                 75.0           84.0     54.0  ...       86.0     71.0   \n...                ...            ...      ...  ...        ...      ...   \n5861              46.0           38.0     27.0  ...       38.0     43.0   \n5862              45.0           46.0     42.0  ...       47.0     40.0   \n5863              39.0           39.0     27.0  ...       36.0     45.0   \n5864              40.0           27.0     27.0  ...       32.0     41.0   \n5865              45.0           25.0     27.0  ...       43.0     44.0   \n\n      standing_tackle  sliding_tackle  gk_diving  gk_handling  gk_kicking  \\\n0                92.0            91.0       11.0          8.0         9.0   \n1                89.0            89.0        6.0          8.0        15.0   \n2                93.0            90.0        3.0          3.0         2.0   \n3                90.0            88.0       15.0          6.0        10.0   \n4                85.0            86.0       12.0          5.0         5.0   \n...               ...             ...        ...          ...         ...   \n5861             49.0            45.0        8.0         10.0        12.0   \n5862             42.0            42.0       13.0         12.0        11.0   \n5863             42.0            46.0       15.0         13.0         6.0   \n5864             48.0            48.0        6.0         10.0         6.0   \n5865             47.0            53.0        9.0         10.0         9.0   \n\n      gk_positioning  gk_reflexes  rating  \n0                7.0         11.0       1  \n1                5.0         15.0       1  \n2                4.0          3.0       1  \n3                5.0          6.0       1  \n4                5.0          9.0       1  \n...              ...          ...     ...  \n5861             9.0         10.0       0  \n5862            15.0         12.0       0  \n5863            14.0         12.0       0  \n5864            12.0         11.0       0  \n5865            11.0         13.0       0  \n\n[5866 rows x 40 columns]",
      "text/html": "<div>\n<style scoped>\n    .dataframe tbody tr th:only-of-type {\n        vertical-align: middle;\n    }\n\n    .dataframe tbody tr th {\n        vertical-align: top;\n    }\n\n    .dataframe thead th {\n        text-align: right;\n    }\n</style>\n<table border=\"1\" class=\"dataframe\">\n  <thead>\n    <tr style=\"text-align: right;\">\n      <th></th>\n      <th>overall</th>\n      <th>potential</th>\n      <th>field_position</th>\n      <th>height</th>\n      <th>weight</th>\n      <th>crossing</th>\n      <th>finishing</th>\n      <th>heading_accuracy</th>\n      <th>short_passing</th>\n      <th>volleys</th>\n      <th>...</th>\n      <th>composure</th>\n      <th>marking</th>\n      <th>standing_tackle</th>\n      <th>sliding_tackle</th>\n      <th>gk_diving</th>\n      <th>gk_handling</th>\n      <th>gk_kicking</th>\n      <th>gk_positioning</th>\n      <th>gk_reflexes</th>\n      <th>rating</th>\n    </tr>\n  </thead>\n  <tbody>\n    <tr>\n      <th>0</th>\n      <td>91.0</td>\n      <td>91.0</td>\n      <td>RCB</td>\n      <td>6'0</td>\n      <td>181</td>\n      <td>66.0</td>\n      <td>60.0</td>\n      <td>91.0</td>\n      <td>78.0</td>\n      <td>66.0</td>\n      <td>...</td>\n      <td>82.0</td>\n      <td>87.0</td>\n      <td>92.0</td>\n      <td>91.0</td>\n      <td>11.0</td>\n      <td>8.0</td>\n      <td>9.0</td>\n      <td>7.0</td>\n      <td>11.0</td>\n      <td>1</td>\n    </tr>\n    <tr>\n      <th>1</th>\n      <td>90.0</td>\n      <td>90.0</td>\n      <td>CB</td>\n      <td>6'2</td>\n      <td>172</td>\n      <td>55.0</td>\n      <td>42.0</td>\n      <td>92.0</td>\n      <td>79.0</td>\n      <td>47.0</td>\n      <td>...</td>\n      <td>82.0</td>\n      <td>90.0</td>\n      <td>89.0</td>\n      <td>89.0</td>\n      <td>6.0</td>\n      <td>8.0</td>\n      <td>15.0</td>\n      <td>5.0</td>\n      <td>15.0</td>\n      <td>1</td>\n    </tr>\n    <tr>\n      <th>2</th>\n      <td>89.0</td>\n      <td>89.0</td>\n      <td>LCB</td>\n      <td>6'2</td>\n      <td>187</td>\n      <td>58.0</td>\n      <td>33.0</td>\n      <td>83.0</td>\n      <td>59.0</td>\n      <td>45.0</td>\n      <td>...</td>\n      <td>84.0</td>\n      <td>93.0</td>\n      <td>93.0</td>\n      <td>90.0</td>\n      <td>3.0</td>\n      <td>3.0</td>\n      <td>2.0</td>\n      <td>4.0</td>\n      <td>3.0</td>\n      <td>1</td>\n    </tr>\n    <tr>\n      <th>3</th>\n      <td>88.0</td>\n      <td>88.0</td>\n      <td>LCB</td>\n      <td>6'3</td>\n      <td>203</td>\n      <td>64.0</td>\n      <td>55.0</td>\n      <td>87.0</td>\n      <td>81.0</td>\n      <td>60.0</td>\n      <td>...</td>\n      <td>91.0</td>\n      <td>88.0</td>\n      <td>90.0</td>\n      <td>88.0</td>\n      <td>15.0</td>\n      <td>6.0</td>\n      <td>10.0</td>\n      <td>5.0</td>\n      <td>6.0</td>\n      <td>1</td>\n    </tr>\n    <tr>\n      <th>4</th>\n      <td>88.0</td>\n      <td>88.0</td>\n      <td>LB</td>\n      <td>5'9</td>\n      <td>176</td>\n      <td>90.0</td>\n      <td>70.0</td>\n      <td>75.0</td>\n      <td>84.0</td>\n      <td>54.0</td>\n      <td>...</td>\n      <td>86.0</td>\n      <td>71.0</td>\n      <td>85.0</td>\n      <td>86.0</td>\n      <td>12.0</td>\n      <td>5.0</td>\n      <td>5.0</td>\n      <td>5.0</td>\n      <td>9.0</td>\n      <td>1</td>\n    </tr>\n    <tr>\n      <th>...</th>\n      <td>...</td>\n      <td>...</td>\n      <td>...</td>\n      <td>...</td>\n      <td>...</td>\n      <td>...</td>\n      <td>...</td>\n      <td>...</td>\n      <td>...</td>\n      <td>...</td>\n      <td>...</td>\n      <td>...</td>\n      <td>...</td>\n      <td>...</td>\n      <td>...</td>\n      <td>...</td>\n      <td>...</td>\n      <td>...</td>\n      <td>...</td>\n      <td>...</td>\n      <td>...</td>\n    </tr>\n    <tr>\n      <th>5861</th>\n      <td>48.0</td>\n      <td>66.0</td>\n      <td>RB</td>\n      <td>5'11</td>\n      <td>134</td>\n      <td>45.0</td>\n      <td>46.0</td>\n      <td>46.0</td>\n      <td>38.0</td>\n      <td>27.0</td>\n      <td>...</td>\n      <td>38.0</td>\n      <td>43.0</td>\n      <td>49.0</td>\n      <td>45.0</td>\n      <td>8.0</td>\n      <td>10.0</td>\n      <td>12.0</td>\n      <td>9.0</td>\n      <td>10.0</td>\n      <td>0</td>\n    </tr>\n    <tr>\n      <th>5862</th>\n      <td>47.0</td>\n      <td>59.0</td>\n      <td>RB</td>\n      <td>5'10</td>\n      <td>161</td>\n      <td>39.0</td>\n      <td>40.0</td>\n      <td>45.0</td>\n      <td>46.0</td>\n      <td>42.0</td>\n      <td>...</td>\n      <td>47.0</td>\n      <td>40.0</td>\n      <td>42.0</td>\n      <td>42.0</td>\n      <td>13.0</td>\n      <td>12.0</td>\n      <td>11.0</td>\n      <td>15.0</td>\n      <td>12.0</td>\n      <td>0</td>\n    </tr>\n    <tr>\n      <th>5863</th>\n      <td>47.0</td>\n      <td>65.0</td>\n      <td>LB</td>\n      <td>5'11</td>\n      <td>168</td>\n      <td>47.0</td>\n      <td>26.0</td>\n      <td>39.0</td>\n      <td>39.0</td>\n      <td>27.0</td>\n      <td>...</td>\n      <td>36.0</td>\n      <td>45.0</td>\n      <td>42.0</td>\n      <td>46.0</td>\n      <td>15.0</td>\n      <td>13.0</td>\n      <td>6.0</td>\n      <td>14.0</td>\n      <td>12.0</td>\n      <td>0</td>\n    </tr>\n    <tr>\n      <th>5864</th>\n      <td>47.0</td>\n      <td>64.0</td>\n      <td>RB</td>\n      <td>5'8</td>\n      <td>146</td>\n      <td>36.0</td>\n      <td>25.0</td>\n      <td>40.0</td>\n      <td>27.0</td>\n      <td>27.0</td>\n      <td>...</td>\n      <td>32.0</td>\n      <td>41.0</td>\n      <td>48.0</td>\n      <td>48.0</td>\n      <td>6.0</td>\n      <td>10.0</td>\n      <td>6.0</td>\n      <td>12.0</td>\n      <td>11.0</td>\n      <td>0</td>\n    </tr>\n    <tr>\n      <th>5865</th>\n      <td>47.0</td>\n      <td>68.0</td>\n      <td>RB</td>\n      <td>6'1</td>\n      <td>168</td>\n      <td>22.0</td>\n      <td>23.0</td>\n      <td>45.0</td>\n      <td>25.0</td>\n      <td>27.0</td>\n      <td>...</td>\n      <td>43.0</td>\n      <td>44.0</td>\n      <td>47.0</td>\n      <td>53.0</td>\n      <td>9.0</td>\n      <td>10.0</td>\n      <td>9.0</td>\n      <td>11.0</td>\n      <td>13.0</td>\n      <td>0</td>\n    </tr>\n  </tbody>\n</table>\n<p>5866 rows × 40 columns</p>\n</div>"
     },
     "metadata": {}
    }
   ],
   "source": [
    "defenders_df = encode_field(defenders_df, 'rating')\n",
    "display(defenders_df)\n",
    "# X = defenders_df.copy()\n",
    "# X = X.drop([\"rating\", \"field_position\", \"height\"], axis=1)\n",
    "\n",
    "# Y = defenders_df['rating'].values.ravel()\n",
    "\n",
    "# display(X)\n",
    "# display(Y)"
   ]
  },
  {
   "cell_type": "code",
   "execution_count": 99,
   "metadata": {},
   "outputs": [],
   "source": [
    "# from sklearn.model_selection import train_test_split\n",
    "# # !pip install statsmodels\n",
    "# import statsmodels.api as sm\n",
    "# from statsmodels.sandbox.regression.predstd import wls_prediction_std\n",
    "# import pandas as pd\n",
    "\n",
    "# def OLS_Model(df, f_positions):\n",
    "#         # temp_df = df[df['field_position'] == 'RCB']\n",
    "#         # print(temp_df)\n",
    "#         for position in f_positions:\n",
    "#                 # print(position)\n",
    "#                 try:\n",
    "#                         # Subset by position\n",
    "#                         # print([df['field_position'] == position])\n",
    "#                         temp_df = df[df['field_position'] == position]\n",
    "#                         # print(temp_df)\n",
    "#                         temp_df = temp_df.dropna()\n",
    "#                         #print(temp_df)\n",
    "#                         # Find correlations\n",
    "#                         temp_corr = df.corr()['rating'].to_frame()\n",
    "#                         temp_corr = temp_corr[temp_corr['rating'] > 0.7]\n",
    "#                         # Keep only columns with correltion above 0.7\n",
    "#                         temp_features = list(temp_corr.T)\n",
    "#                         temp_model_df = temp_df[temp_features]\n",
    "#                         #print(temp_features)\n",
    "#                         # Split data into train and test, isolate y (target/dependent variable)\n",
    "#                         train_set, test_set = train_test_split(temp_model_df, test_size=0.2, random_state=42)\n",
    "#                         target_train = train_set['rating']\n",
    "#                         train_set = train_set.drop(['rating', 'overall', 'potential'], axis = 1)\n",
    "#                         # Fit model\n",
    "#                         train_set = sm.add_constant(train_set, prepend=False)\n",
    "#                         # Fit and summarize OLS model\n",
    "#                         mod = sm.OLS(target_train, train_set)\n",
    "#                         res = mod.fit()\n",
    "#                         features = pd.DataFrame([res.pvalues, res.params]).T\n",
    "#                         features.columns = ['P-value', 'Coefficient']\n",
    "#                         features = features[features['P-value']<0.05]\n",
    "#                         features = features.sort_values(by = 'Coefficient', ascending = False)\n",
    "#                         print(f' ********* Current Position: {position}: \\n ')\n",
    "#                         print(f' ********* Significant features in order of impact: {features.index}: \\n ')\n",
    "#                         print(res.summary())\n",
    "#                         print('\\n')\n",
    "#                 except BaseException as e:\n",
    "#                         print(f'WARNING: SKIPPING {position} due to {e}')"
   ]
  },
  {
   "cell_type": "code",
   "execution_count": 100,
   "metadata": {
    "tags": []
   },
   "outputs": [
    {
     "output_type": "display_data",
     "data": {
      "text/plain": "['RCB', 'CB', 'LCB', 'LB', 'RB', 'RWB', 'LWB']"
     },
     "metadata": {}
    },
    {
     "output_type": "stream",
     "name": "stdout",
     "text": [
      " ********* Current Position: RCB: \n \n ********* Significant features in order of impact: Index(['const', 'standing_tackle', 'marking', 'sliding_tackle',\n       'interceptions', 'reactions'],\n      dtype='object'): \n \n                            OLS Regression Results                            \n==============================================================================\nDep. Variable:                 rating   R-squared:                       0.854\nModel:                            OLS   Adj. R-squared:                  0.853\nMethod:                 Least Squares   F-statistic:                     613.2\nDate:                Wed, 14 Jul 2021   Prob (F-statistic):          4.65e-216\nTime:                        11:09:14   Log-Likelihood:                -1128.7\nNo. Observations:                 529   AIC:                             2269.\nDf Residuals:                     523   BIC:                             2295.\nDf Model:                           5                                         \nCovariance Type:            nonrobust                                         \n===================================================================================\n                      coef    std err          t      P>|t|      [0.025      0.975]\n-----------------------------------------------------------------------------------\nreactions           0.0960      0.020      4.850      0.000       0.057       0.135\ninterceptions       0.1138      0.024      4.829      0.000       0.067       0.160\nmarking             0.1635      0.022      7.525      0.000       0.121       0.206\nstanding_tackle     0.3058      0.035      8.667      0.000       0.236       0.375\nsliding_tackle      0.1158      0.029      3.984      0.000       0.059       0.173\nconst              16.7717      1.008     16.633      0.000      14.791      18.752\n==============================================================================\nOmnibus:                       16.516   Durbin-Watson:                   1.911\nProb(Omnibus):                  0.000   Jarque-Bera (JB):               17.396\nSkew:                           0.404   Prob(JB):                     0.000167\nKurtosis:                       3.370   Cond. No.                     1.70e+03\n==============================================================================\n\nNotes:\n[1] Standard Errors assume that the covariance matrix of the errors is correctly specified.\n[2] The condition number is large, 1.7e+03. This might indicate that there are\nstrong multicollinearity or other numerical problems.\n\n\n ********* Current Position: CB: \n \n ********* Significant features in order of impact: Index(['const', 'standing_tackle', 'interceptions', 'marking',\n       'sliding_tackle', 'reactions'],\n      dtype='object'): \n \n                            OLS Regression Results                            \n==============================================================================\nDep. Variable:                 rating   R-squared:                       0.811\nModel:                            OLS   Adj. R-squared:                  0.810\nMethod:                 Least Squares   F-statistic:                     1213.\nDate:                Wed, 14 Jul 2021   Prob (F-statistic):               0.00\nTime:                        11:09:14   Log-Likelihood:                -3283.9\nNo. Observations:                1422   AIC:                             6580.\nDf Residuals:                    1416   BIC:                             6611.\nDf Model:                           5                                         \nCovariance Type:            nonrobust                                         \n===================================================================================\n                      coef    std err          t      P>|t|      [0.025      0.975]\n-----------------------------------------------------------------------------------\nreactions           0.0880      0.014      6.396      0.000       0.061       0.115\ninterceptions       0.1360      0.017      8.235      0.000       0.104       0.168\nmarking             0.1275      0.014      9.296      0.000       0.101       0.154\nstanding_tackle     0.2556      0.024     10.544      0.000       0.208       0.303\nsliding_tackle      0.1038      0.021      4.880      0.000       0.062       0.145\nconst              22.5799      0.615     36.712      0.000      21.373      23.786\n==============================================================================\nOmnibus:                       16.182   Durbin-Watson:                   1.964\nProb(Omnibus):                  0.000   Jarque-Bera (JB):               18.894\nSkew:                           0.186   Prob(JB):                     7.89e-05\nKurtosis:                       3.425   Cond. No.                     1.35e+03\n==============================================================================\n\nNotes:\n[1] Standard Errors assume that the covariance matrix of the errors is correctly specified.\n[2] The condition number is large, 1.35e+03. This might indicate that there are\nstrong multicollinearity or other numerical problems.\n\n\n ********* Current Position: LCB: \n \n ********* Significant features in order of impact: Index(['const', 'standing_tackle', 'marking', 'interceptions',\n       'sliding_tackle', 'reactions'],\n      dtype='object'): \n \n                            OLS Regression Results                            \n==============================================================================\nDep. Variable:                 rating   R-squared:                       0.849\nModel:                            OLS   Adj. R-squared:                  0.848\nMethod:                 Least Squares   F-statistic:                     577.9\nDate:                Wed, 14 Jul 2021   Prob (F-statistic):          7.09e-208\nTime:                        11:09:14   Log-Likelihood:                -1120.1\nNo. Observations:                 518   AIC:                             2252.\nDf Residuals:                     512   BIC:                             2278.\nDf Model:                           5                                         \nCovariance Type:            nonrobust                                         \n===================================================================================\n                      coef    std err          t      P>|t|      [0.025      0.975]\n-----------------------------------------------------------------------------------\nreactions           0.0830      0.021      3.983      0.000       0.042       0.124\ninterceptions       0.1412      0.024      5.991      0.000       0.095       0.188\nmarking             0.1577      0.022      7.041      0.000       0.114       0.202\nstanding_tackle     0.2831      0.035      8.110      0.000       0.214       0.352\nsliding_tackle      0.1331      0.030      4.488      0.000       0.075       0.191\nconst              16.5293      1.047     15.786      0.000      14.472      18.586\n==============================================================================\nOmnibus:                       31.623   Durbin-Watson:                   1.904\nProb(Omnibus):                  0.000   Jarque-Bera (JB):               37.156\nSkew:                           0.571   Prob(JB):                     8.55e-09\nKurtosis:                       3.647   Cond. No.                     1.70e+03\n==============================================================================\n\nNotes:\n[1] Standard Errors assume that the covariance matrix of the errors is correctly specified.\n[2] The condition number is large, 1.7e+03. This might indicate that there are\nstrong multicollinearity or other numerical problems.\n\n\n ********* Current Position: LB: \n \n ********* Significant features in order of impact: Index(['const', 'reactions', 'sliding_tackle', 'standing_tackle',\n       'interceptions', 'marking'],\n      dtype='object'): \n \n                            OLS Regression Results                            \n==============================================================================\nDep. Variable:                 rating   R-squared:                       0.743\nModel:                            OLS   Adj. R-squared:                  0.741\nMethod:                 Least Squares   F-statistic:                     606.3\nDate:                Wed, 14 Jul 2021   Prob (F-statistic):          1.20e-306\nTime:                        11:09:14   Log-Likelihood:                -2572.0\nNo. Observations:                1057   AIC:                             5156.\nDf Residuals:                    1051   BIC:                             5186.\nDf Model:                           5                                         \nCovariance Type:            nonrobust                                         \n===================================================================================\n                      coef    std err          t      P>|t|      [0.025      0.975]\n-----------------------------------------------------------------------------------\nreactions           0.2309      0.019     12.181      0.000       0.194       0.268\ninterceptions       0.0901      0.021      4.373      0.000       0.050       0.131\nmarking             0.0854      0.019      4.454      0.000       0.048       0.123\nstanding_tackle     0.1391      0.032      4.334      0.000       0.076       0.202\nsliding_tackle      0.1436      0.029      4.987      0.000       0.087       0.200\nconst              24.3786      0.834     29.234      0.000      22.742      26.015\n==============================================================================\nOmnibus:                        6.399   Durbin-Watson:                   1.965\nProb(Omnibus):                  0.041   Jarque-Bera (JB):                6.317\nSkew:                           0.169   Prob(JB):                       0.0425\nKurtosis:                       3.169   Cond. No.                     1.40e+03\n==============================================================================\n\nNotes:\n[1] Standard Errors assume that the covariance matrix of the errors is correctly specified.\n[2] The condition number is large, 1.4e+03. This might indicate that there are\nstrong multicollinearity or other numerical problems.\n\n\n ********* Current Position: RB: \n \n ********* Significant features in order of impact: Index(['const', 'standing_tackle', 'reactions', 'sliding_tackle', 'marking',\n       'interceptions'],\n      dtype='object'): \n \n                            OLS Regression Results                            \n==============================================================================\nDep. Variable:                 rating   R-squared:                       0.750\nModel:                            OLS   Adj. R-squared:                  0.749\nMethod:                 Least Squares   F-statistic:                     616.1\nDate:                Wed, 14 Jul 2021   Prob (F-statistic):          5.72e-306\nTime:                        11:09:14   Log-Likelihood:                -2517.4\nNo. Observations:                1032   AIC:                             5047.\nDf Residuals:                    1026   BIC:                             5076.\nDf Model:                           5                                         \nCovariance Type:            nonrobust                                         \n===================================================================================\n                      coef    std err          t      P>|t|      [0.025      0.975]\n-----------------------------------------------------------------------------------\nreactions           0.1748      0.019      9.214      0.000       0.138       0.212\ninterceptions       0.0603      0.023      2.639      0.008       0.015       0.105\nmarking             0.0894      0.018      4.961      0.000       0.054       0.125\nstanding_tackle     0.2470      0.033      7.459      0.000       0.182       0.312\nsliding_tackle      0.1351      0.029      4.716      0.000       0.079       0.191\nconst              22.9265      0.838     27.366      0.000      21.283      24.570\n==============================================================================\nOmnibus:                        0.448   Durbin-Watson:                   1.973\nProb(Omnibus):                  0.799   Jarque-Bera (JB):                0.397\nSkew:                          -0.047   Prob(JB):                        0.820\nKurtosis:                       3.023   Cond. No.                     1.39e+03\n==============================================================================\n\nNotes:\n[1] Standard Errors assume that the covariance matrix of the errors is correctly specified.\n[2] The condition number is large, 1.39e+03. This might indicate that there are\nstrong multicollinearity or other numerical problems.\n\n\n ********* Current Position: RWB: \n \n ********* Significant features in order of impact: Index(['const', 'standing_tackle', 'reactions', 'marking'], dtype='object'): \n \n                            OLS Regression Results                            \n==============================================================================\nDep. Variable:                 rating   R-squared:                       0.824\nModel:                            OLS   Adj. R-squared:                  0.810\nMethod:                 Least Squares   F-statistic:                     58.81\nDate:                Wed, 14 Jul 2021   Prob (F-statistic):           1.97e-22\nTime:                        11:09:14   Log-Likelihood:                -161.46\nNo. Observations:                  69   AIC:                             334.9\nDf Residuals:                      63   BIC:                             348.3\nDf Model:                           5                                         \nCovariance Type:            nonrobust                                         \n===================================================================================\n                      coef    std err          t      P>|t|      [0.025      0.975]\n-----------------------------------------------------------------------------------\nreactions           0.3417      0.078      4.390      0.000       0.186       0.497\ninterceptions      -0.1106      0.085     -1.305      0.197      -0.280       0.059\nmarking             0.1910      0.090      2.128      0.037       0.012       0.370\nstanding_tackle     0.4186      0.116      3.601      0.001       0.186       0.651\nsliding_tackle     -0.1280      0.114     -1.120      0.267      -0.356       0.100\nconst              23.4576      2.756      8.512      0.000      17.950      28.965\n==============================================================================\nOmnibus:                        0.417   Durbin-Watson:                   1.863\nProb(Omnibus):                  0.812   Jarque-Bera (JB):                0.342\nSkew:                           0.167   Prob(JB):                        0.843\nKurtosis:                       2.914   Cond. No.                     1.20e+03\n==============================================================================\n\nNotes:\n[1] Standard Errors assume that the covariance matrix of the errors is correctly specified.\n[2] The condition number is large, 1.2e+03. This might indicate that there are\nstrong multicollinearity or other numerical problems.\n\n\n ********* Current Position: LWB: \n \n ********* Significant features in order of impact: Index(['const', 'reactions'], dtype='object'): \n \n                            OLS Regression Results                            \n==============================================================================\nDep. Variable:                 rating   R-squared:                       0.639\nModel:                            OLS   Adj. R-squared:                  0.607\nMethod:                 Least Squares   F-statistic:                     19.83\nDate:                Wed, 14 Jul 2021   Prob (F-statistic):           2.55e-11\nTime:                        11:09:14   Log-Likelihood:                -163.31\nNo. Observations:                  62   AIC:                             338.6\nDf Residuals:                      56   BIC:                             351.4\nDf Model:                           5                                         \nCovariance Type:            nonrobust                                         \n===================================================================================\n                      coef    std err          t      P>|t|      [0.025      0.975]\n-----------------------------------------------------------------------------------\nreactions           0.3882      0.081      4.821      0.000       0.227       0.550\ninterceptions       0.1004      0.100      1.003      0.320      -0.100       0.301\nmarking            -0.0246      0.116     -0.213      0.832      -0.256       0.207\nstanding_tackle    -0.0744      0.164     -0.452      0.653      -0.404       0.255\nsliding_tackle      0.1703      0.157      1.087      0.282      -0.144       0.484\nconst              33.7126      4.288      7.861      0.000      25.122      42.303\n==============================================================================\nOmnibus:                        0.080   Durbin-Watson:                   2.204\nProb(Omnibus):                  0.961   Jarque-Bera (JB):                0.142\nSkew:                           0.079   Prob(JB):                        0.931\nKurtosis:                       2.826   Cond. No.                     1.34e+03\n==============================================================================\n\nNotes:\n[1] Standard Errors assume that the covariance matrix of the errors is correctly specified.\n[2] The condition number is large, 1.34e+03. This might indicate that there are\nstrong multicollinearity or other numerical problems.\n\n\n"
     ]
    }
   ],
   "source": [
    "f_positions = ['RCB', 'CB', 'LCB', 'LB', 'RB', 'RWB', 'LWB'] #defenders_df['field_position'].unique()\n",
    "display(f_positions)\n",
    "# display(defenders_df)\n",
    "OLS_Model(defenders_df, f_positions)"
   ]
  },
  {
   "source": [
    "# Splitting into Train and Test sets"
   ],
   "cell_type": "code",
   "metadata": {},
   "execution_count": null,
   "outputs": []
  },
  {
   "cell_type": "code",
   "execution_count": 139,
   "metadata": {},
   "outputs": [],
   "source": [
    "from sklearn.model_selection import train_test_split\n",
    "\n",
    "X_train, X_test, y_train, y_test = train_test_split(X, Y, random_state=78)"
   ]
  },
  {
   "cell_type": "code",
   "execution_count": 140,
   "metadata": {},
   "outputs": [
    {
     "output_type": "display_data",
     "data": {
      "text/plain": "array([[ 0.84364334, -0.62230856,  0.32040892, ...,  1.08784064,\n        -0.82604364, -0.82194318],\n       [-0.52232046, -0.31393726, -1.16290605, ...,  0.14620133,\n        -1.15112558,  0.15290935],\n       [-0.38572408,  0.42615385,  0.65003447, ...,  1.08784064,\n        -1.15112558, -0.82194318],\n       ...,\n       [ 0.98023972,  0.91954792, -0.58606134, ..., -1.10931775,\n        -0.5009617 ,  0.80281105],\n       [-0.04423313,  1.28959348,  0.23800254, ..., -0.16767844,\n        -1.80128947, -0.82194318],\n       [-1.75168788,  1.412942  ,  0.23800254, ...,  0.4600811 ,\n         0.14920219,  0.4778602 ]])"
     },
     "metadata": {}
    }
   ],
   "source": [
    "from sklearn.preprocessing import StandardScaler\n",
    "\n",
    "# Creating a StandardScaler instance.\n",
    "scaler = StandardScaler()\n",
    "\n",
    "# Fitting the Standard Scaler with the training data.\n",
    "X_scaler = scaler.fit(X_train)\n",
    "\n",
    "# Scaling the data.\n",
    "X_train_scaled = X_scaler.transform(X_train)\n",
    "X_test_scaled = X_scaler.transform(X_test)\n",
    "# display(y_train)\n",
    "\n",
    "display(X_train_scaled)\n",
    "# display(X_test_scaled)"
   ]
  },
  {
   "cell_type": "markdown",
   "metadata": {},
   "source": [
    "# Fit the Random Forest Model"
   ]
  },
  {
   "cell_type": "code",
   "execution_count": 141,
   "metadata": {},
   "outputs": [],
   "source": [
    "from sklearn.ensemble import RandomForestClassifier\n",
    "\n",
    "random_forest_model = RandomForestClassifier(n_estimators=32, random_state=42)\n",
    "\n",
    "# Fitting the model\n",
    "random_forest_model = random_forest_model.fit(X_train_scaled, y_train.ravel())\n",
    "# display(random_forest_model)"
   ]
  },
  {
   "cell_type": "markdown",
   "metadata": {},
   "source": [
    "# Making predictions using the Test Data"
   ]
  },
  {
   "cell_type": "code",
   "execution_count": 142,
   "metadata": {},
   "outputs": [
    {
     "output_type": "display_data",
     "data": {
      "text/plain": "array([0, 0, 2, ..., 0, 2, 0])"
     },
     "metadata": {}
    }
   ],
   "source": [
    "predictions = random_forest_model.predict(X_test_scaled)\n",
    "display(predictions)"
   ]
  },
  {
   "cell_type": "markdown",
   "metadata": {},
   "source": [
    "# Evaluate the Model"
   ]
  },
  {
   "cell_type": "code",
   "execution_count": 143,
   "metadata": {},
   "outputs": [
    {
     "output_type": "display_data",
     "data": {
      "text/plain": "          Predicted 1  Predicted 2  Predicted 3\nActual 1          861            0           71\nActual 2            0            5            5\nActual 3          100            2          423",
      "text/html": "<div>\n<style scoped>\n    .dataframe tbody tr th:only-of-type {\n        vertical-align: middle;\n    }\n\n    .dataframe tbody tr th {\n        vertical-align: top;\n    }\n\n    .dataframe thead th {\n        text-align: right;\n    }\n</style>\n<table border=\"1\" class=\"dataframe\">\n  <thead>\n    <tr style=\"text-align: right;\">\n      <th></th>\n      <th>Predicted 1</th>\n      <th>Predicted 2</th>\n      <th>Predicted 3</th>\n    </tr>\n  </thead>\n  <tbody>\n    <tr>\n      <th>Actual 1</th>\n      <td>861</td>\n      <td>0</td>\n      <td>71</td>\n    </tr>\n    <tr>\n      <th>Actual 2</th>\n      <td>0</td>\n      <td>5</td>\n      <td>5</td>\n    </tr>\n    <tr>\n      <th>Actual 3</th>\n      <td>100</td>\n      <td>2</td>\n      <td>423</td>\n    </tr>\n  </tbody>\n</table>\n</div>"
     },
     "metadata": {}
    }
   ],
   "source": [
    "import pandas\n",
    "from sklearn.metrics import confusion_matrix, accuracy_score, classification_report\n",
    "\n",
    "# Calculating the confusion matrix.\n",
    "cm = confusion_matrix(y_test, predictions)\n",
    "# display(cm)\n",
    "# print(y_test.shape)\n",
    "# print(y_test.shape)\n",
    "y_test\n",
    "predictions\n",
    "\n",
    "# Create a DataFrame from the confusion matrix.\n",
    "cm_df = pandas.DataFrame(cm, index=[\"Actual 1\", \"Actual 2\", \"Actual 3\"], columns=[\"Predicted 1\", \"Predicted 2\", \"Predicted 3\"])\n",
    "\n",
    "display(cm_df)"
   ]
  },
  {
   "cell_type": "markdown",
   "metadata": {},
   "source": [
    "# Calculating the accuracy score"
   ]
  },
  {
   "cell_type": "code",
   "execution_count": 144,
   "metadata": {},
   "outputs": [
    {
     "output_type": "stream",
     "name": "stdout",
     "text": [
      "Confusion Matrix\n"
     ]
    },
    {
     "output_type": "display_data",
     "data": {
      "text/plain": "          Predicted 1  Predicted 2  Predicted 3\nActual 1          861            0           71\nActual 2            0            5            5\nActual 3          100            2          423",
      "text/html": "<div>\n<style scoped>\n    .dataframe tbody tr th:only-of-type {\n        vertical-align: middle;\n    }\n\n    .dataframe tbody tr th {\n        vertical-align: top;\n    }\n\n    .dataframe thead th {\n        text-align: right;\n    }\n</style>\n<table border=\"1\" class=\"dataframe\">\n  <thead>\n    <tr style=\"text-align: right;\">\n      <th></th>\n      <th>Predicted 1</th>\n      <th>Predicted 2</th>\n      <th>Predicted 3</th>\n    </tr>\n  </thead>\n  <tbody>\n    <tr>\n      <th>Actual 1</th>\n      <td>861</td>\n      <td>0</td>\n      <td>71</td>\n    </tr>\n    <tr>\n      <th>Actual 2</th>\n      <td>0</td>\n      <td>5</td>\n      <td>5</td>\n    </tr>\n    <tr>\n      <th>Actual 3</th>\n      <td>100</td>\n      <td>2</td>\n      <td>423</td>\n    </tr>\n  </tbody>\n</table>\n</div>"
     },
     "metadata": {}
    },
    {
     "output_type": "stream",
     "name": "stdout",
     "text": [
      "Accuracy Score : 0.8786639400136332\nClassification Report\n              precision    recall  f1-score   support\n\n           0       0.90      0.92      0.91       932\n           1       0.71      0.50      0.59        10\n           2       0.85      0.81      0.83       525\n\n    accuracy                           0.88      1467\n   macro avg       0.82      0.74      0.77      1467\nweighted avg       0.88      0.88      0.88      1467\n\n"
     ]
    }
   ],
   "source": [
    "acc_score = accuracy_score(y_test, predictions)\n",
    "\n",
    "# Displaying results\n",
    "print(\"Confusion Matrix\")\n",
    "display(cm_df)\n",
    "print(f\"Accuracy Score : {acc_score}\")\n",
    "print(\"Classification Report\")\n",
    "print(classification_report(y_test, predictions))"
   ]
  },
  {
   "cell_type": "markdown",
   "metadata": {},
   "source": [
    "# Rank the features"
   ]
  },
  {
   "cell_type": "code",
   "execution_count": 145,
   "metadata": {},
   "outputs": [
    {
     "output_type": "execute_result",
     "data": {
      "text/plain": [
       "array([0.01101666, 0.02261818, 0.0117049 , 0.04045849, 0.05344765,\n",
       "       0.01338568, 0.0276581 , 0.01020736, 0.01134354, 0.02687008,\n",
       "       0.0386479 , 0.01516879, 0.01797603, 0.01263661, 0.09405934,\n",
       "       0.01015233, 0.01270178, 0.01268976, 0.01109078, 0.01621055,\n",
       "       0.01224069, 0.01939673, 0.08815942, 0.01294209, 0.01089206,\n",
       "       0.01089779, 0.03608483, 0.06678095, 0.09901633, 0.13089975,\n",
       "       0.0089301 , 0.00889616, 0.00771947, 0.00814991, 0.00894918])"
      ]
     },
     "metadata": {},
     "execution_count": 145
    }
   ],
   "source": [
    "# Calculate feature importance in the Random Forest model.\n",
    "importances = random_forest_model.feature_importances_\n",
    "importances"
   ]
  },
  {
   "cell_type": "code",
   "execution_count": 146,
   "metadata": {},
   "outputs": [
    {
     "output_type": "execute_result",
     "data": {
      "text/plain": [
       "[(0.13089975480528096, 'sliding_tackle'),\n",
       " (0.09901633012229541, 'standing_tackle'),\n",
       " (0.09405934295253912, 'reactions'),\n",
       " (0.08815942191392873, 'interceptions'),\n",
       " (0.06678095485844637, 'marking'),\n",
       " (0.05344764720674413, 'short_passing'),\n",
       " (0.04045849177639576, 'heading_accuracy'),\n",
       " (0.03864790015686614, 'ball_control'),\n",
       " (0.03608483441716629, 'composure'),\n",
       " (0.027658104546221855, 'dribbling'),\n",
       " (0.02687008324471159, 'long_passing'),\n",
       " (0.022618180090448952, 'crossing'),\n",
       " (0.01939673419735197, 'aggression'),\n",
       " (0.017976028402316116, 'sprint_speed'),\n",
       " (0.016210550203491696, 'strength'),\n",
       " (0.015168792558712431, 'acceleration'),\n",
       " (0.013385678851251817, 'volleys'),\n",
       " (0.012942091567042952, 'positioning'),\n",
       " (0.012701781918105375, 'shot_power'),\n",
       " (0.012689762541157742, 'jumping'),\n",
       " (0.012636610261307683, 'agility'),\n",
       " (0.012240689539594713, 'long_shots'),\n",
       " (0.011704898201645893, 'finishing'),\n",
       " (0.011343541300460416, 'fk_accuracy'),\n",
       " (0.01109078103017575, 'stamina'),\n",
       " (0.011016658420176522, 'weight'),\n",
       " (0.010897790600389774, 'penalties'),\n",
       " (0.010892059982972312, 'vision'),\n",
       " (0.01020735647056806, 'curve'),\n",
       " (0.010152331911696531, 'balance'),\n",
       " (0.008949182993049082, 'gk_reflexes'),\n",
       " (0.008930101561950976, 'gk_diving'),\n",
       " (0.008896157046374262, 'gk_handling'),\n",
       " (0.008149907245936085, 'gk_positioning'),\n",
       " (0.0077194671032265365, 'gk_kicking')]"
      ]
     },
     "metadata": {},
     "execution_count": 146
    }
   ],
   "source": [
    "# We can sort the features by their importance.\n",
    "sorted(zip(random_forest_model.feature_importances_, X.columns), reverse=True)"
   ]
  },
  {
   "cell_type": "code",
   "execution_count": null,
   "metadata": {},
   "outputs": [],
   "source": []
  }
 ],
 "metadata": {
  "interpreter": {
   "hash": "c8664c37d20d1a667b792eed6f68d26a151ec74784f499ac31579ebbdd16e46a"
  },
  "kernelspec": {
   "name": "python3",
   "display_name": "Python 3.9.5 64-bit ('mlenv': conda)"
  },
  "language_info": {
   "codemirror_mode": {
    "name": "ipython",
    "version": 3
   },
   "file_extension": ".py",
   "mimetype": "text/x-python",
   "name": "python",
   "nbconvert_exporter": "python",
   "pygments_lexer": "ipython3",
   "version": "3.9.5"
  }
 },
 "nbformat": 4,
 "nbformat_minor": 2
}