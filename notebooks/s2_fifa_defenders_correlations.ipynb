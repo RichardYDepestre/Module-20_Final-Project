{
 "cells": [
  {
   "cell_type": "markdown",
   "metadata": {},
   "source": [
    "# <u>Purpose<u>: Transform defenders dataset"
   ]
  },
  {
   "cell_type": "code",
   "execution_count": 136,
   "metadata": {},
   "outputs": [],
   "source": [
    "# Initial imports.\n",
    "%run s0_fifa_players_functions.ipynb\n",
    "\n",
    "from pathlib import Path\n",
    "import os"
   ]
  },
  {
   "cell_type": "code",
   "execution_count": 137,
   "metadata": {},
   "outputs": [
    {
     "output_type": "display_data",
     "data": {
      "text/plain": "      overall  potential field_position height  weight  crossing  finishing  \\\n0        91.0       91.0            RCB    6'0     181      66.0       60.0   \n1        90.0       90.0             CB    6'2     172      55.0       42.0   \n2        89.0       89.0            LCB    6'2     187      58.0       33.0   \n3        88.0       88.0            LCB    6'3     203      64.0       55.0   \n4        88.0       88.0             LB    5'9     176      90.0       70.0   \n...       ...        ...            ...    ...     ...       ...        ...   \n5861     48.0       66.0             RB   5'11     134      45.0       46.0   \n5862     47.0       59.0             RB   5'10     161      39.0       40.0   \n5863     47.0       65.0             LB   5'11     168      47.0       26.0   \n5864     47.0       64.0             RB    5'8     146      36.0       25.0   \n5865     47.0       68.0             RB    6'1     168      22.0       23.0   \n\n      heading_accuracy  short_passing  volleys  ...  composure  marking  \\\n0                 91.0           78.0     66.0  ...       82.0     87.0   \n1                 92.0           79.0     47.0  ...       82.0     90.0   \n2                 83.0           59.0     45.0  ...       84.0     93.0   \n3                 87.0           81.0     60.0  ...       91.0     88.0   \n4                 75.0           84.0     54.0  ...       86.0     71.0   \n...                ...            ...      ...  ...        ...      ...   \n5861              46.0           38.0     27.0  ...       38.0     43.0   \n5862              45.0           46.0     42.0  ...       47.0     40.0   \n5863              39.0           39.0     27.0  ...       36.0     45.0   \n5864              40.0           27.0     27.0  ...       32.0     41.0   \n5865              45.0           25.0     27.0  ...       43.0     44.0   \n\n      standing_tackle  sliding_tackle  gk_diving  gk_handling  gk_kicking  \\\n0                92.0            91.0       11.0          8.0         9.0   \n1                89.0            89.0        6.0          8.0        15.0   \n2                93.0            90.0        3.0          3.0         2.0   \n3                90.0            88.0       15.0          6.0        10.0   \n4                85.0            86.0       12.0          5.0         5.0   \n...               ...             ...        ...          ...         ...   \n5861             49.0            45.0        8.0         10.0        12.0   \n5862             42.0            42.0       13.0         12.0        11.0   \n5863             42.0            46.0       15.0         13.0         6.0   \n5864             48.0            48.0        6.0         10.0         6.0   \n5865             47.0            53.0        9.0         10.0         9.0   \n\n      gk_positioning  gk_reflexes     rating  \n0                7.0         11.0  Excellent  \n1                5.0         15.0  Excellent  \n2                4.0          3.0  Excellent  \n3                5.0          6.0  Excellent  \n4                5.0          9.0  Excellent  \n...              ...          ...        ...  \n5861             9.0         10.0     Decent  \n5862            15.0         12.0     Decent  \n5863            14.0         12.0     Decent  \n5864            12.0         11.0     Decent  \n5865            11.0         13.0     Decent  \n\n[5866 rows x 40 columns]",
      "text/html": "<div>\n<style scoped>\n    .dataframe tbody tr th:only-of-type {\n        vertical-align: middle;\n    }\n\n    .dataframe tbody tr th {\n        vertical-align: top;\n    }\n\n    .dataframe thead th {\n        text-align: right;\n    }\n</style>\n<table border=\"1\" class=\"dataframe\">\n  <thead>\n    <tr style=\"text-align: right;\">\n      <th></th>\n      <th>overall</th>\n      <th>potential</th>\n      <th>field_position</th>\n      <th>height</th>\n      <th>weight</th>\n      <th>crossing</th>\n      <th>finishing</th>\n      <th>heading_accuracy</th>\n      <th>short_passing</th>\n      <th>volleys</th>\n      <th>...</th>\n      <th>composure</th>\n      <th>marking</th>\n      <th>standing_tackle</th>\n      <th>sliding_tackle</th>\n      <th>gk_diving</th>\n      <th>gk_handling</th>\n      <th>gk_kicking</th>\n      <th>gk_positioning</th>\n      <th>gk_reflexes</th>\n      <th>rating</th>\n    </tr>\n  </thead>\n  <tbody>\n    <tr>\n      <th>0</th>\n      <td>91.0</td>\n      <td>91.0</td>\n      <td>RCB</td>\n      <td>6'0</td>\n      <td>181</td>\n      <td>66.0</td>\n      <td>60.0</td>\n      <td>91.0</td>\n      <td>78.0</td>\n      <td>66.0</td>\n      <td>...</td>\n      <td>82.0</td>\n      <td>87.0</td>\n      <td>92.0</td>\n      <td>91.0</td>\n      <td>11.0</td>\n      <td>8.0</td>\n      <td>9.0</td>\n      <td>7.0</td>\n      <td>11.0</td>\n      <td>Excellent</td>\n    </tr>\n    <tr>\n      <th>1</th>\n      <td>90.0</td>\n      <td>90.0</td>\n      <td>CB</td>\n      <td>6'2</td>\n      <td>172</td>\n      <td>55.0</td>\n      <td>42.0</td>\n      <td>92.0</td>\n      <td>79.0</td>\n      <td>47.0</td>\n      <td>...</td>\n      <td>82.0</td>\n      <td>90.0</td>\n      <td>89.0</td>\n      <td>89.0</td>\n      <td>6.0</td>\n      <td>8.0</td>\n      <td>15.0</td>\n      <td>5.0</td>\n      <td>15.0</td>\n      <td>Excellent</td>\n    </tr>\n    <tr>\n      <th>2</th>\n      <td>89.0</td>\n      <td>89.0</td>\n      <td>LCB</td>\n      <td>6'2</td>\n      <td>187</td>\n      <td>58.0</td>\n      <td>33.0</td>\n      <td>83.0</td>\n      <td>59.0</td>\n      <td>45.0</td>\n      <td>...</td>\n      <td>84.0</td>\n      <td>93.0</td>\n      <td>93.0</td>\n      <td>90.0</td>\n      <td>3.0</td>\n      <td>3.0</td>\n      <td>2.0</td>\n      <td>4.0</td>\n      <td>3.0</td>\n      <td>Excellent</td>\n    </tr>\n    <tr>\n      <th>3</th>\n      <td>88.0</td>\n      <td>88.0</td>\n      <td>LCB</td>\n      <td>6'3</td>\n      <td>203</td>\n      <td>64.0</td>\n      <td>55.0</td>\n      <td>87.0</td>\n      <td>81.0</td>\n      <td>60.0</td>\n      <td>...</td>\n      <td>91.0</td>\n      <td>88.0</td>\n      <td>90.0</td>\n      <td>88.0</td>\n      <td>15.0</td>\n      <td>6.0</td>\n      <td>10.0</td>\n      <td>5.0</td>\n      <td>6.0</td>\n      <td>Excellent</td>\n    </tr>\n    <tr>\n      <th>4</th>\n      <td>88.0</td>\n      <td>88.0</td>\n      <td>LB</td>\n      <td>5'9</td>\n      <td>176</td>\n      <td>90.0</td>\n      <td>70.0</td>\n      <td>75.0</td>\n      <td>84.0</td>\n      <td>54.0</td>\n      <td>...</td>\n      <td>86.0</td>\n      <td>71.0</td>\n      <td>85.0</td>\n      <td>86.0</td>\n      <td>12.0</td>\n      <td>5.0</td>\n      <td>5.0</td>\n      <td>5.0</td>\n      <td>9.0</td>\n      <td>Excellent</td>\n    </tr>\n    <tr>\n      <th>...</th>\n      <td>...</td>\n      <td>...</td>\n      <td>...</td>\n      <td>...</td>\n      <td>...</td>\n      <td>...</td>\n      <td>...</td>\n      <td>...</td>\n      <td>...</td>\n      <td>...</td>\n      <td>...</td>\n      <td>...</td>\n      <td>...</td>\n      <td>...</td>\n      <td>...</td>\n      <td>...</td>\n      <td>...</td>\n      <td>...</td>\n      <td>...</td>\n      <td>...</td>\n      <td>...</td>\n    </tr>\n    <tr>\n      <th>5861</th>\n      <td>48.0</td>\n      <td>66.0</td>\n      <td>RB</td>\n      <td>5'11</td>\n      <td>134</td>\n      <td>45.0</td>\n      <td>46.0</td>\n      <td>46.0</td>\n      <td>38.0</td>\n      <td>27.0</td>\n      <td>...</td>\n      <td>38.0</td>\n      <td>43.0</td>\n      <td>49.0</td>\n      <td>45.0</td>\n      <td>8.0</td>\n      <td>10.0</td>\n      <td>12.0</td>\n      <td>9.0</td>\n      <td>10.0</td>\n      <td>Decent</td>\n    </tr>\n    <tr>\n      <th>5862</th>\n      <td>47.0</td>\n      <td>59.0</td>\n      <td>RB</td>\n      <td>5'10</td>\n      <td>161</td>\n      <td>39.0</td>\n      <td>40.0</td>\n      <td>45.0</td>\n      <td>46.0</td>\n      <td>42.0</td>\n      <td>...</td>\n      <td>47.0</td>\n      <td>40.0</td>\n      <td>42.0</td>\n      <td>42.0</td>\n      <td>13.0</td>\n      <td>12.0</td>\n      <td>11.0</td>\n      <td>15.0</td>\n      <td>12.0</td>\n      <td>Decent</td>\n    </tr>\n    <tr>\n      <th>5863</th>\n      <td>47.0</td>\n      <td>65.0</td>\n      <td>LB</td>\n      <td>5'11</td>\n      <td>168</td>\n      <td>47.0</td>\n      <td>26.0</td>\n      <td>39.0</td>\n      <td>39.0</td>\n      <td>27.0</td>\n      <td>...</td>\n      <td>36.0</td>\n      <td>45.0</td>\n      <td>42.0</td>\n      <td>46.0</td>\n      <td>15.0</td>\n      <td>13.0</td>\n      <td>6.0</td>\n      <td>14.0</td>\n      <td>12.0</td>\n      <td>Decent</td>\n    </tr>\n    <tr>\n      <th>5864</th>\n      <td>47.0</td>\n      <td>64.0</td>\n      <td>RB</td>\n      <td>5'8</td>\n      <td>146</td>\n      <td>36.0</td>\n      <td>25.0</td>\n      <td>40.0</td>\n      <td>27.0</td>\n      <td>27.0</td>\n      <td>...</td>\n      <td>32.0</td>\n      <td>41.0</td>\n      <td>48.0</td>\n      <td>48.0</td>\n      <td>6.0</td>\n      <td>10.0</td>\n      <td>6.0</td>\n      <td>12.0</td>\n      <td>11.0</td>\n      <td>Decent</td>\n    </tr>\n    <tr>\n      <th>5865</th>\n      <td>47.0</td>\n      <td>68.0</td>\n      <td>RB</td>\n      <td>6'1</td>\n      <td>168</td>\n      <td>22.0</td>\n      <td>23.0</td>\n      <td>45.0</td>\n      <td>25.0</td>\n      <td>27.0</td>\n      <td>...</td>\n      <td>43.0</td>\n      <td>44.0</td>\n      <td>47.0</td>\n      <td>53.0</td>\n      <td>9.0</td>\n      <td>10.0</td>\n      <td>9.0</td>\n      <td>11.0</td>\n      <td>13.0</td>\n      <td>Decent</td>\n    </tr>\n  </tbody>\n</table>\n<p>5866 rows × 40 columns</p>\n</div>"
     },
     "metadata": {}
    }
   ],
   "source": [
    "import os\n",
    "\n",
    "defenders_dataset_loc= os.path.join('../resources', 'defenders.csv')\n",
    "defenders_df = create_fifa_players_dataframe(defenders_dataset_loc)\n",
    "\n",
    "# convert rating from numerical to categorical values\n",
    "defenders_df['rating'] = defenders_df['rating'].apply(adjust_rating)\n",
    "\n",
    "display(defenders_df)"
   ]
  },
  {
   "cell_type": "markdown",
   "metadata": {},
   "source": [
    "# Define the features set"
   ]
  },
  {
   "cell_type": "code",
   "execution_count": 138,
   "metadata": {},
   "outputs": [
    {
     "output_type": "display_data",
     "data": {
      "text/plain": "      weight  crossing  finishing  heading_accuracy  short_passing  volleys  \\\n0        181      66.0       60.0              91.0           78.0     66.0   \n1        172      55.0       42.0              92.0           79.0     47.0   \n2        187      58.0       33.0              83.0           59.0     45.0   \n3        203      64.0       55.0              87.0           81.0     60.0   \n4        176      90.0       70.0              75.0           84.0     54.0   \n...      ...       ...        ...               ...            ...      ...   \n5861     134      45.0       46.0              46.0           38.0     27.0   \n5862     161      39.0       40.0              45.0           46.0     42.0   \n5863     168      47.0       26.0              39.0           39.0     27.0   \n5864     146      36.0       25.0              40.0           27.0     27.0   \n5865     168      22.0       23.0              45.0           25.0     27.0   \n\n      dribbling  curve  fk_accuracy  long_passing  ...  penalties  composure  \\\n0          63.0   74.0         72.0          77.0  ...       75.0       82.0   \n1          53.0   49.0         51.0          70.0  ...       50.0       82.0   \n2          58.0   60.0         31.0          59.0  ...       50.0       84.0   \n3          68.0   65.0         53.0          85.0  ...       68.0       91.0   \n4          90.0   85.0         67.0          76.0  ...       59.0       86.0   \n...         ...    ...          ...           ...  ...        ...        ...   \n5861       46.0   28.0         24.0          34.0  ...       33.0       38.0   \n5862       46.0   35.0         29.0          22.0  ...       47.0       47.0   \n5863       45.0   29.0         21.0          41.0  ...       29.0       36.0   \n5864       46.0   31.0         25.0          23.0  ...       32.0       32.0   \n5865       21.0   21.0         27.0          27.0  ...       38.0       43.0   \n\n      marking  standing_tackle  sliding_tackle  gk_diving  gk_handling  \\\n0        87.0             92.0            91.0       11.0          8.0   \n1        90.0             89.0            89.0        6.0          8.0   \n2        93.0             93.0            90.0        3.0          3.0   \n3        88.0             90.0            88.0       15.0          6.0   \n4        71.0             85.0            86.0       12.0          5.0   \n...       ...              ...             ...        ...          ...   \n5861     43.0             49.0            45.0        8.0         10.0   \n5862     40.0             42.0            42.0       13.0         12.0   \n5863     45.0             42.0            46.0       15.0         13.0   \n5864     41.0             48.0            48.0        6.0         10.0   \n5865     44.0             47.0            53.0        9.0         10.0   \n\n      gk_kicking  gk_positioning  gk_reflexes  \n0            9.0             7.0         11.0  \n1           15.0             5.0         15.0  \n2            2.0             4.0          3.0  \n3           10.0             5.0          6.0  \n4            5.0             5.0          9.0  \n...          ...             ...          ...  \n5861        12.0             9.0         10.0  \n5862        11.0            15.0         12.0  \n5863         6.0            14.0         12.0  \n5864         6.0            12.0         11.0  \n5865         9.0            11.0         13.0  \n\n[5866 rows x 35 columns]",
      "text/html": "<div>\n<style scoped>\n    .dataframe tbody tr th:only-of-type {\n        vertical-align: middle;\n    }\n\n    .dataframe tbody tr th {\n        vertical-align: top;\n    }\n\n    .dataframe thead th {\n        text-align: right;\n    }\n</style>\n<table border=\"1\" class=\"dataframe\">\n  <thead>\n    <tr style=\"text-align: right;\">\n      <th></th>\n      <th>weight</th>\n      <th>crossing</th>\n      <th>finishing</th>\n      <th>heading_accuracy</th>\n      <th>short_passing</th>\n      <th>volleys</th>\n      <th>dribbling</th>\n      <th>curve</th>\n      <th>fk_accuracy</th>\n      <th>long_passing</th>\n      <th>...</th>\n      <th>penalties</th>\n      <th>composure</th>\n      <th>marking</th>\n      <th>standing_tackle</th>\n      <th>sliding_tackle</th>\n      <th>gk_diving</th>\n      <th>gk_handling</th>\n      <th>gk_kicking</th>\n      <th>gk_positioning</th>\n      <th>gk_reflexes</th>\n    </tr>\n  </thead>\n  <tbody>\n    <tr>\n      <th>0</th>\n      <td>181</td>\n      <td>66.0</td>\n      <td>60.0</td>\n      <td>91.0</td>\n      <td>78.0</td>\n      <td>66.0</td>\n      <td>63.0</td>\n      <td>74.0</td>\n      <td>72.0</td>\n      <td>77.0</td>\n      <td>...</td>\n      <td>75.0</td>\n      <td>82.0</td>\n      <td>87.0</td>\n      <td>92.0</td>\n      <td>91.0</td>\n      <td>11.0</td>\n      <td>8.0</td>\n      <td>9.0</td>\n      <td>7.0</td>\n      <td>11.0</td>\n    </tr>\n    <tr>\n      <th>1</th>\n      <td>172</td>\n      <td>55.0</td>\n      <td>42.0</td>\n      <td>92.0</td>\n      <td>79.0</td>\n      <td>47.0</td>\n      <td>53.0</td>\n      <td>49.0</td>\n      <td>51.0</td>\n      <td>70.0</td>\n      <td>...</td>\n      <td>50.0</td>\n      <td>82.0</td>\n      <td>90.0</td>\n      <td>89.0</td>\n      <td>89.0</td>\n      <td>6.0</td>\n      <td>8.0</td>\n      <td>15.0</td>\n      <td>5.0</td>\n      <td>15.0</td>\n    </tr>\n    <tr>\n      <th>2</th>\n      <td>187</td>\n      <td>58.0</td>\n      <td>33.0</td>\n      <td>83.0</td>\n      <td>59.0</td>\n      <td>45.0</td>\n      <td>58.0</td>\n      <td>60.0</td>\n      <td>31.0</td>\n      <td>59.0</td>\n      <td>...</td>\n      <td>50.0</td>\n      <td>84.0</td>\n      <td>93.0</td>\n      <td>93.0</td>\n      <td>90.0</td>\n      <td>3.0</td>\n      <td>3.0</td>\n      <td>2.0</td>\n      <td>4.0</td>\n      <td>3.0</td>\n    </tr>\n    <tr>\n      <th>3</th>\n      <td>203</td>\n      <td>64.0</td>\n      <td>55.0</td>\n      <td>87.0</td>\n      <td>81.0</td>\n      <td>60.0</td>\n      <td>68.0</td>\n      <td>65.0</td>\n      <td>53.0</td>\n      <td>85.0</td>\n      <td>...</td>\n      <td>68.0</td>\n      <td>91.0</td>\n      <td>88.0</td>\n      <td>90.0</td>\n      <td>88.0</td>\n      <td>15.0</td>\n      <td>6.0</td>\n      <td>10.0</td>\n      <td>5.0</td>\n      <td>6.0</td>\n    </tr>\n    <tr>\n      <th>4</th>\n      <td>176</td>\n      <td>90.0</td>\n      <td>70.0</td>\n      <td>75.0</td>\n      <td>84.0</td>\n      <td>54.0</td>\n      <td>90.0</td>\n      <td>85.0</td>\n      <td>67.0</td>\n      <td>76.0</td>\n      <td>...</td>\n      <td>59.0</td>\n      <td>86.0</td>\n      <td>71.0</td>\n      <td>85.0</td>\n      <td>86.0</td>\n      <td>12.0</td>\n      <td>5.0</td>\n      <td>5.0</td>\n      <td>5.0</td>\n      <td>9.0</td>\n    </tr>\n    <tr>\n      <th>...</th>\n      <td>...</td>\n      <td>...</td>\n      <td>...</td>\n      <td>...</td>\n      <td>...</td>\n      <td>...</td>\n      <td>...</td>\n      <td>...</td>\n      <td>...</td>\n      <td>...</td>\n      <td>...</td>\n      <td>...</td>\n      <td>...</td>\n      <td>...</td>\n      <td>...</td>\n      <td>...</td>\n      <td>...</td>\n      <td>...</td>\n      <td>...</td>\n      <td>...</td>\n      <td>...</td>\n    </tr>\n    <tr>\n      <th>5861</th>\n      <td>134</td>\n      <td>45.0</td>\n      <td>46.0</td>\n      <td>46.0</td>\n      <td>38.0</td>\n      <td>27.0</td>\n      <td>46.0</td>\n      <td>28.0</td>\n      <td>24.0</td>\n      <td>34.0</td>\n      <td>...</td>\n      <td>33.0</td>\n      <td>38.0</td>\n      <td>43.0</td>\n      <td>49.0</td>\n      <td>45.0</td>\n      <td>8.0</td>\n      <td>10.0</td>\n      <td>12.0</td>\n      <td>9.0</td>\n      <td>10.0</td>\n    </tr>\n    <tr>\n      <th>5862</th>\n      <td>161</td>\n      <td>39.0</td>\n      <td>40.0</td>\n      <td>45.0</td>\n      <td>46.0</td>\n      <td>42.0</td>\n      <td>46.0</td>\n      <td>35.0</td>\n      <td>29.0</td>\n      <td>22.0</td>\n      <td>...</td>\n      <td>47.0</td>\n      <td>47.0</td>\n      <td>40.0</td>\n      <td>42.0</td>\n      <td>42.0</td>\n      <td>13.0</td>\n      <td>12.0</td>\n      <td>11.0</td>\n      <td>15.0</td>\n      <td>12.0</td>\n    </tr>\n    <tr>\n      <th>5863</th>\n      <td>168</td>\n      <td>47.0</td>\n      <td>26.0</td>\n      <td>39.0</td>\n      <td>39.0</td>\n      <td>27.0</td>\n      <td>45.0</td>\n      <td>29.0</td>\n      <td>21.0</td>\n      <td>41.0</td>\n      <td>...</td>\n      <td>29.0</td>\n      <td>36.0</td>\n      <td>45.0</td>\n      <td>42.0</td>\n      <td>46.0</td>\n      <td>15.0</td>\n      <td>13.0</td>\n      <td>6.0</td>\n      <td>14.0</td>\n      <td>12.0</td>\n    </tr>\n    <tr>\n      <th>5864</th>\n      <td>146</td>\n      <td>36.0</td>\n      <td>25.0</td>\n      <td>40.0</td>\n      <td>27.0</td>\n      <td>27.0</td>\n      <td>46.0</td>\n      <td>31.0</td>\n      <td>25.0</td>\n      <td>23.0</td>\n      <td>...</td>\n      <td>32.0</td>\n      <td>32.0</td>\n      <td>41.0</td>\n      <td>48.0</td>\n      <td>48.0</td>\n      <td>6.0</td>\n      <td>10.0</td>\n      <td>6.0</td>\n      <td>12.0</td>\n      <td>11.0</td>\n    </tr>\n    <tr>\n      <th>5865</th>\n      <td>168</td>\n      <td>22.0</td>\n      <td>23.0</td>\n      <td>45.0</td>\n      <td>25.0</td>\n      <td>27.0</td>\n      <td>21.0</td>\n      <td>21.0</td>\n      <td>27.0</td>\n      <td>27.0</td>\n      <td>...</td>\n      <td>38.0</td>\n      <td>43.0</td>\n      <td>44.0</td>\n      <td>47.0</td>\n      <td>53.0</td>\n      <td>9.0</td>\n      <td>10.0</td>\n      <td>9.0</td>\n      <td>11.0</td>\n      <td>13.0</td>\n    </tr>\n  </tbody>\n</table>\n<p>5866 rows × 35 columns</p>\n</div>"
     },
     "metadata": {}
    },
    {
     "output_type": "display_data",
     "data": {
      "text/plain": "array([1, 1, 1, ..., 0, 0, 0])"
     },
     "metadata": {}
    }
   ],
   "source": [
    "defenders_df = encode_field(defenders_df, 'rating')\n",
    "\n",
    "X = defenders_df.copy()\n",
    "X = X.drop([\"rating\", \"field_position\", \"height\", \"overall\", \"potential\"], axis=1)\n",
    "\n",
    "Y = defenders_df['rating'].values.ravel()\n",
    "\n",
    "display(X)\n",
    "display(Y)"
   ]
  },
  {
   "cell_type": "markdown",
   "metadata": {},
   "source": [
    "# Splitting into Train and Test sets"
   ]
  },
  {
   "cell_type": "code",
   "execution_count": 139,
   "metadata": {},
   "outputs": [],
   "source": [
    "from sklearn.model_selection import train_test_split\n",
    "\n",
    "X_train, X_test, y_train, y_test = train_test_split(X, Y, random_state=78)"
   ]
  },
  {
   "cell_type": "code",
   "execution_count": 140,
   "metadata": {},
   "outputs": [
    {
     "output_type": "display_data",
     "data": {
      "text/plain": "array([[ 0.84364334, -0.62230856,  0.32040892, ...,  1.08784064,\n        -0.82604364, -0.82194318],\n       [-0.52232046, -0.31393726, -1.16290605, ...,  0.14620133,\n        -1.15112558,  0.15290935],\n       [-0.38572408,  0.42615385,  0.65003447, ...,  1.08784064,\n        -1.15112558, -0.82194318],\n       ...,\n       [ 0.98023972,  0.91954792, -0.58606134, ..., -1.10931775,\n        -0.5009617 ,  0.80281105],\n       [-0.04423313,  1.28959348,  0.23800254, ..., -0.16767844,\n        -1.80128947, -0.82194318],\n       [-1.75168788,  1.412942  ,  0.23800254, ...,  0.4600811 ,\n         0.14920219,  0.4778602 ]])"
     },
     "metadata": {}
    }
   ],
   "source": [
    "from sklearn.preprocessing import StandardScaler\n",
    "\n",
    "# Creating a StandardScaler instance.\n",
    "scaler = StandardScaler()\n",
    "\n",
    "# Fitting the Standard Scaler with the training data.\n",
    "X_scaler = scaler.fit(X_train)\n",
    "\n",
    "# Scaling the data.\n",
    "X_train_scaled = X_scaler.transform(X_train)\n",
    "X_test_scaled = X_scaler.transform(X_test)\n",
    "# display(y_train)\n",
    "\n",
    "display(X_train_scaled)\n",
    "# display(X_test_scaled)"
   ]
  },
  {
   "cell_type": "markdown",
   "metadata": {},
   "source": [
    "# Fit the Random Forest Model"
   ]
  },
  {
   "cell_type": "code",
   "execution_count": 141,
   "metadata": {},
   "outputs": [],
   "source": [
    "from sklearn.ensemble import RandomForestClassifier\n",
    "\n",
    "random_forest_model = RandomForestClassifier(n_estimators=32, random_state=42)\n",
    "\n",
    "# Fitting the model\n",
    "random_forest_model = random_forest_model.fit(X_train_scaled, y_train.ravel())\n",
    "# display(random_forest_model)"
   ]
  },
  {
   "cell_type": "markdown",
   "metadata": {},
   "source": [
    "# Making predictions using the Test Data"
   ]
  },
  {
   "cell_type": "code",
   "execution_count": 142,
   "metadata": {},
   "outputs": [
    {
     "output_type": "display_data",
     "data": {
      "text/plain": "array([0, 0, 2, ..., 0, 2, 0])"
     },
     "metadata": {}
    }
   ],
   "source": [
    "predictions = random_forest_model.predict(X_test_scaled)\n",
    "display(predictions)"
   ]
  },
  {
   "cell_type": "markdown",
   "metadata": {},
   "source": [
    "# Evaluate the Model"
   ]
  },
  {
   "cell_type": "code",
   "execution_count": 143,
   "metadata": {},
   "outputs": [
    {
     "output_type": "display_data",
     "data": {
      "text/plain": "          Predicted 1  Predicted 2  Predicted 3\nActual 1          861            0           71\nActual 2            0            5            5\nActual 3          100            2          423",
      "text/html": "<div>\n<style scoped>\n    .dataframe tbody tr th:only-of-type {\n        vertical-align: middle;\n    }\n\n    .dataframe tbody tr th {\n        vertical-align: top;\n    }\n\n    .dataframe thead th {\n        text-align: right;\n    }\n</style>\n<table border=\"1\" class=\"dataframe\">\n  <thead>\n    <tr style=\"text-align: right;\">\n      <th></th>\n      <th>Predicted 1</th>\n      <th>Predicted 2</th>\n      <th>Predicted 3</th>\n    </tr>\n  </thead>\n  <tbody>\n    <tr>\n      <th>Actual 1</th>\n      <td>861</td>\n      <td>0</td>\n      <td>71</td>\n    </tr>\n    <tr>\n      <th>Actual 2</th>\n      <td>0</td>\n      <td>5</td>\n      <td>5</td>\n    </tr>\n    <tr>\n      <th>Actual 3</th>\n      <td>100</td>\n      <td>2</td>\n      <td>423</td>\n    </tr>\n  </tbody>\n</table>\n</div>"
     },
     "metadata": {}
    }
   ],
   "source": [
    "import pandas\n",
    "from sklearn.metrics import confusion_matrix, accuracy_score, classification_report\n",
    "\n",
    "# Calculating the confusion matrix.\n",
    "cm = confusion_matrix(y_test, predictions)\n",
    "# display(cm)\n",
    "# print(y_test.shape)\n",
    "# print(y_test.shape)\n",
    "y_test\n",
    "predictions\n",
    "\n",
    "# Create a DataFrame from the confusion matrix.\n",
    "cm_df = pandas.DataFrame(cm, index=[\"Actual 1\", \"Actual 2\", \"Actual 3\"], columns=[\"Predicted 1\", \"Predicted 2\", \"Predicted 3\"])\n",
    "\n",
    "display(cm_df)"
   ]
  },
  {
   "cell_type": "markdown",
   "metadata": {},
   "source": [
    "# Calculating the accuracy score"
   ]
  },
  {
   "cell_type": "code",
   "execution_count": 144,
   "metadata": {},
   "outputs": [
    {
     "output_type": "stream",
     "name": "stdout",
     "text": [
      "Confusion Matrix\n"
     ]
    },
    {
     "output_type": "display_data",
     "data": {
      "text/plain": "          Predicted 1  Predicted 2  Predicted 3\nActual 1          861            0           71\nActual 2            0            5            5\nActual 3          100            2          423",
      "text/html": "<div>\n<style scoped>\n    .dataframe tbody tr th:only-of-type {\n        vertical-align: middle;\n    }\n\n    .dataframe tbody tr th {\n        vertical-align: top;\n    }\n\n    .dataframe thead th {\n        text-align: right;\n    }\n</style>\n<table border=\"1\" class=\"dataframe\">\n  <thead>\n    <tr style=\"text-align: right;\">\n      <th></th>\n      <th>Predicted 1</th>\n      <th>Predicted 2</th>\n      <th>Predicted 3</th>\n    </tr>\n  </thead>\n  <tbody>\n    <tr>\n      <th>Actual 1</th>\n      <td>861</td>\n      <td>0</td>\n      <td>71</td>\n    </tr>\n    <tr>\n      <th>Actual 2</th>\n      <td>0</td>\n      <td>5</td>\n      <td>5</td>\n    </tr>\n    <tr>\n      <th>Actual 3</th>\n      <td>100</td>\n      <td>2</td>\n      <td>423</td>\n    </tr>\n  </tbody>\n</table>\n</div>"
     },
     "metadata": {}
    },
    {
     "output_type": "stream",
     "name": "stdout",
     "text": [
      "Accuracy Score : 0.8786639400136332\nClassification Report\n              precision    recall  f1-score   support\n\n           0       0.90      0.92      0.91       932\n           1       0.71      0.50      0.59        10\n           2       0.85      0.81      0.83       525\n\n    accuracy                           0.88      1467\n   macro avg       0.82      0.74      0.77      1467\nweighted avg       0.88      0.88      0.88      1467\n\n"
     ]
    }
   ],
   "source": [
    "acc_score = accuracy_score(y_test, predictions)\n",
    "\n",
    "# Displaying results\n",
    "print(\"Confusion Matrix\")\n",
    "display(cm_df)\n",
    "print(f\"Accuracy Score : {acc_score}\")\n",
    "print(\"Classification Report\")\n",
    "print(classification_report(y_test, predictions))"
   ]
  },
  {
   "cell_type": "markdown",
   "metadata": {},
   "source": [
    "# Rank the features"
   ]
  },
  {
   "cell_type": "code",
   "execution_count": 145,
   "metadata": {},
   "outputs": [
    {
     "output_type": "execute_result",
     "data": {
      "text/plain": [
       "array([0.01101666, 0.02261818, 0.0117049 , 0.04045849, 0.05344765,\n",
       "       0.01338568, 0.0276581 , 0.01020736, 0.01134354, 0.02687008,\n",
       "       0.0386479 , 0.01516879, 0.01797603, 0.01263661, 0.09405934,\n",
       "       0.01015233, 0.01270178, 0.01268976, 0.01109078, 0.01621055,\n",
       "       0.01224069, 0.01939673, 0.08815942, 0.01294209, 0.01089206,\n",
       "       0.01089779, 0.03608483, 0.06678095, 0.09901633, 0.13089975,\n",
       "       0.0089301 , 0.00889616, 0.00771947, 0.00814991, 0.00894918])"
      ]
     },
     "metadata": {},
     "execution_count": 145
    }
   ],
   "source": [
    "# Calculate feature importance in the Random Forest model.\n",
    "importances = random_forest_model.feature_importances_\n",
    "importances"
   ]
  },
  {
   "cell_type": "code",
   "execution_count": 146,
   "metadata": {},
   "outputs": [
    {
     "output_type": "execute_result",
     "data": {
      "text/plain": [
       "[(0.13089975480528096, 'sliding_tackle'),\n",
       " (0.09901633012229541, 'standing_tackle'),\n",
       " (0.09405934295253912, 'reactions'),\n",
       " (0.08815942191392873, 'interceptions'),\n",
       " (0.06678095485844637, 'marking'),\n",
       " (0.05344764720674413, 'short_passing'),\n",
       " (0.04045849177639576, 'heading_accuracy'),\n",
       " (0.03864790015686614, 'ball_control'),\n",
       " (0.03608483441716629, 'composure'),\n",
       " (0.027658104546221855, 'dribbling'),\n",
       " (0.02687008324471159, 'long_passing'),\n",
       " (0.022618180090448952, 'crossing'),\n",
       " (0.01939673419735197, 'aggression'),\n",
       " (0.017976028402316116, 'sprint_speed'),\n",
       " (0.016210550203491696, 'strength'),\n",
       " (0.015168792558712431, 'acceleration'),\n",
       " (0.013385678851251817, 'volleys'),\n",
       " (0.012942091567042952, 'positioning'),\n",
       " (0.012701781918105375, 'shot_power'),\n",
       " (0.012689762541157742, 'jumping'),\n",
       " (0.012636610261307683, 'agility'),\n",
       " (0.012240689539594713, 'long_shots'),\n",
       " (0.011704898201645893, 'finishing'),\n",
       " (0.011343541300460416, 'fk_accuracy'),\n",
       " (0.01109078103017575, 'stamina'),\n",
       " (0.011016658420176522, 'weight'),\n",
       " (0.010897790600389774, 'penalties'),\n",
       " (0.010892059982972312, 'vision'),\n",
       " (0.01020735647056806, 'curve'),\n",
       " (0.010152331911696531, 'balance'),\n",
       " (0.008949182993049082, 'gk_reflexes'),\n",
       " (0.008930101561950976, 'gk_diving'),\n",
       " (0.008896157046374262, 'gk_handling'),\n",
       " (0.008149907245936085, 'gk_positioning'),\n",
       " (0.0077194671032265365, 'gk_kicking')]"
      ]
     },
     "metadata": {},
     "execution_count": 146
    }
   ],
   "source": [
    "# We can sort the features by their importance.\n",
    "sorted(zip(random_forest_model.feature_importances_, X.columns), reverse=True)"
   ]
  },
  {
   "cell_type": "code",
   "execution_count": null,
   "metadata": {},
   "outputs": [],
   "source": []
  }
 ],
 "metadata": {
  "interpreter": {
   "hash": "c8664c37d20d1a667b792eed6f68d26a151ec74784f499ac31579ebbdd16e46a"
  },
  "kernelspec": {
   "name": "python3",
   "display_name": "Python 3.9.5 64-bit ('mlenv': conda)"
  },
  "language_info": {
   "codemirror_mode": {
    "name": "ipython",
    "version": 3
   },
   "file_extension": ".py",
   "mimetype": "text/x-python",
   "name": "python",
   "nbconvert_exporter": "python",
   "pygments_lexer": "ipython3",
   "version": "3.9.5"
  }
 },
 "nbformat": 4,
 "nbformat_minor": 2
}