{
 "metadata": {
  "language_info": {
   "codemirror_mode": {
    "name": "ipython",
    "version": 3
   },
   "file_extension": ".py",
   "mimetype": "text/x-python",
   "name": "python",
   "nbconvert_exporter": "python",
   "pygments_lexer": "ipython3",
   "version": "3.9.5"
  },
  "orig_nbformat": 4,
  "kernelspec": {
   "name": "python3",
   "display_name": "Python 3.9.5 64-bit ('mlenv': conda)"
  },
  "interpreter": {
   "hash": "c8664c37d20d1a667b792eed6f68d26a151ec74784f499ac31579ebbdd16e46a"
  }
 },
 "nbformat": 4,
 "nbformat_minor": 2,
 "cells": [
  {
   "source": [
    "# Purpose:"
   ],
   "cell_type": "markdown",
   "metadata": {}
  },
  {
   "source": [
    "# 1) download datasets"
   ],
   "cell_type": "markdown",
   "metadata": {}
  },
  {
   "cell_type": "code",
   "execution_count": 4,
   "metadata": {},
   "outputs": [],
   "source": [
    "# Initial imports.\n",
    "%run s0_fifa_players_functions.ipynb\n",
    "\n",
    "from pathlib import Path\n",
    "import os"
   ]
  },
  {
   "source": [
    "## ---> Modify the location below to fit your dev environment"
   ],
   "cell_type": "markdown",
   "metadata": {}
  },
  {
   "cell_type": "code",
   "execution_count": 5,
   "metadata": {
    "tags": []
   },
   "outputs": [
    {
     "output_type": "stream",
     "name": "stderr",
     "text": [
      "  % Total    % Received % Xferd  Average Speed   Time    Time     Time  Current\n                                 Dload  Upload   Total   Spent    Left  Speed\n\n  0     0    0     0    0     0      0      0 --:--:-- --:--:-- --:--:--     0\n100 3879k  100 3879k    0     0  4923k      0 --:--:-- --:--:-- --:--:-- 4923k\n"
     ]
    }
   ],
   "source": [
    "os.chdir('E:\\\\data-engineering@ColumbiaUnv\\\\Module-20_final_project\\\\resources')\n",
    "\n",
    "!curl -L https://raw.githubusercontent.com/ponda614/Data-Science-Final-Project-/main/resources/players.csv  -o fifa_players_git.csv\n",
    "\n",
    "os.chdir('E:\\\\data-engineering@ColumbiaUnv\\\\Module-20_final_project\\\\notebooks')"
   ]
  },
  {
   "source": [
    "# 2) build dataframes"
   ],
   "cell_type": "markdown",
   "metadata": {}
  },
  {
   "source": [
    "players_dataset_loc = os.path.join('../resources', 'fifa_players_git.csv')\n",
    "players_df = create_fifa_players_dataframe(players_dataset_loc)\n",
    "#goal_keepers_dataset_loc= os.path.join('../resources', 'fifa_goal_keepers_git.csv')\n",
    "#goal_keepers_df = create_fifa_players_dataframe(goal_keepers_dataset_loc)\n",
    "# display(goal_keepers_df)\n",
    "\n",
    "# convert rating from numerical to categorical values\n",
    "players_df['Rating'] = players_df['Rating'].apply(adjust_rating)\n",
    "\n",
    "# display(players_df)"
   ],
   "cell_type": "code",
   "metadata": {},
   "execution_count": 6,
   "outputs": []
  },
  {
   "source": [
    "# 3) Define the features set"
   ],
   "cell_type": "markdown",
   "metadata": {}
  },
  {
   "cell_type": "code",
   "execution_count": 8,
   "metadata": {},
   "outputs": [
    {
     "output_type": "stream",
     "name": "stderr",
     "text": [
      "C:\\Users\\albat\\anaconda3\\envs\\mlenv\\lib\\site-packages\\sklearn\\utils\\validation.py:63: DataConversionWarning: A column-vector y was passed when a 1d array was expected. Please change the shape of y to (n_samples, ), for example using ravel().\n",
      "  return f(*args, **kwargs)\n",
      "C:\\Users\\albat\\anaconda3\\envs\\mlenv\\lib\\site-packages\\pandas\\core\\generic.py:4153: PerformanceWarning: dropping on a non-lexsorted multi-index without a level parameter may impact performance.\n",
      "  obj = obj._drop_axis(labels, axis, level=level, errors=errors)\n"
     ]
    }
   ],
   "source": [
    "players_stats_df=build_players_stats_dataframe(players_df)\n",
    "\n",
    "players_stats_df = encode_field(players_stats_df, 'rating')\n",
    "\n",
    "players_dataset_loc= os.path.join('../resources', 'fifa_players_encoded.csv')\n",
    "players_stats_df.to_csv(players_dataset_loc, index=False)\n",
    "\n",
    "# display(players_stats_df)\n",
    "X = players_stats_df.copy()\n",
    "X = X.drop([\"rating\"], axis=1)\n",
    "# display(X)\n",
    "\n",
    "Y = players_stats_df['rating'].values\n",
    "\n",
    "# display(array)\n",
    "# # display(players_stats_df)\n",
    "# display(Y)\n",
    "# display(X)"
   ]
  },
  {
   "source": [
    "# Splitting into Train and Test sets."
   ],
   "cell_type": "markdown",
   "metadata": {}
  },
  {
   "cell_type": "code",
   "execution_count": 9,
   "metadata": {},
   "outputs": [],
   "source": [
    "from sklearn.model_selection import train_test_split\n",
    "\n",
    "X_train, X_test, y_train, y_test = train_test_split(X, Y, random_state=78)\n",
    "# y_train = y.train.ravel()\n",
    "# display(X_train)\n",
    "# display(X_test)\n",
    "# display(y_train)\n",
    "# display(y_test)"
   ]
  },
  {
   "cell_type": "code",
   "execution_count": 10,
   "metadata": {},
   "outputs": [],
   "source": [
    "from sklearn.preprocessing import StandardScaler\n",
    "\n",
    "# Creating a StandardScaler instance.\n",
    "scaler = StandardScaler()\n",
    "# Fitting the Standard Scaler with the training data.\n",
    "X_scaler = scaler.fit(X_train)\n",
    "\n",
    "# Scaling the data.\n",
    "X_train_scaled = X_scaler.transform(X_train)\n",
    "X_test_scaled = X_scaler.transform(X_test)\n",
    "# display(y_train)\n",
    "# display(X_train_scaled)\n",
    "# display(X_test_scaled)"
   ]
  },
  {
   "source": [
    "# Fit the Random Forest Model"
   ],
   "cell_type": "markdown",
   "metadata": {}
  },
  {
   "cell_type": "code",
   "execution_count": 13,
   "metadata": {},
   "outputs": [
    {
     "output_type": "display_data",
     "data": {
      "text/plain": "RandomForestClassifier(n_estimators=128, random_state=78)"
     },
     "metadata": {}
    }
   ],
   "source": [
    "from sklearn.ensemble import RandomForestClassifier\n",
    "\n",
    "random_forest_model = RandomForestClassifier(n_estimators=128, random_state=78) \n",
    "# Fitting the model\n",
    "random_forest_model = random_forest_model.fit(X_train_scaled, y_train.ravel())\n",
    "display(random_forest_model)"
   ]
  },
  {
   "source": [
    "# Making predictions using the Test Data"
   ],
   "cell_type": "markdown",
   "metadata": {}
  },
  {
   "cell_type": "code",
   "execution_count": 18,
   "metadata": {},
   "outputs": [
    {
     "output_type": "display_data",
     "data": {
      "text/plain": "array([2, 2, 0, ..., 2, 2, 0])"
     },
     "metadata": {}
    }
   ],
   "source": [
    "predictions = random_forest_model.predict(X_test_scaled)\n",
    "display(predictions)"
   ]
  },
  {
   "source": [
    "# Evaluate the Model"
   ],
   "cell_type": "markdown",
   "metadata": {}
  },
  {
   "cell_type": "code",
   "execution_count": 19,
   "metadata": {},
   "outputs": [
    {
     "output_type": "display_data",
     "data": {
      "text/plain": "          Predicted 1  Predicted 2  Predicted 3\nActual 1         2455            0          142\nActual 2            0           17           11\nActual 3          334            2         1203",
      "text/html": "<div>\n<style scoped>\n    .dataframe tbody tr th:only-of-type {\n        vertical-align: middle;\n    }\n\n    .dataframe tbody tr th {\n        vertical-align: top;\n    }\n\n    .dataframe thead th {\n        text-align: right;\n    }\n</style>\n<table border=\"1\" class=\"dataframe\">\n  <thead>\n    <tr style=\"text-align: right;\">\n      <th></th>\n      <th>Predicted 1</th>\n      <th>Predicted 2</th>\n      <th>Predicted 3</th>\n    </tr>\n  </thead>\n  <tbody>\n    <tr>\n      <th>Actual 1</th>\n      <td>2455</td>\n      <td>0</td>\n      <td>142</td>\n    </tr>\n    <tr>\n      <th>Actual 2</th>\n      <td>0</td>\n      <td>17</td>\n      <td>11</td>\n    </tr>\n    <tr>\n      <th>Actual 3</th>\n      <td>334</td>\n      <td>2</td>\n      <td>1203</td>\n    </tr>\n  </tbody>\n</table>\n</div>"
     },
     "metadata": {}
    }
   ],
   "source": [
    "import pandas\n",
    "from sklearn.metrics import confusion_matrix, accuracy_score, classification_report\n",
    "\n",
    "# Calculating the confusion matrix.\n",
    "cm = confusion_matrix(y_test, predictions)\n",
    "# display(cm)\n",
    "# print(y_test.shape)\n",
    "# print(y_test.shape)\n",
    "y_test\n",
    "predictions\n",
    "\n",
    "# Create a DataFrame from the confusion matrix.\n",
    "cm_df = pandas.DataFrame(cm, index=[\"Actual 1\", \"Actual 2\", \"Actual 3\"], columns=[\"Predicted 1\", \"Predicted 2\", \"Predicted 3\"])\n",
    "\n",
    "display(cm_df)"
   ]
  },
  {
   "source": [
    "# Calculating the accuracy score"
   ],
   "cell_type": "markdown",
   "metadata": {}
  },
  {
   "cell_type": "code",
   "execution_count": 20,
   "metadata": {},
   "outputs": [
    {
     "output_type": "stream",
     "name": "stdout",
     "text": [
      "Confusion Matrix\n"
     ]
    },
    {
     "output_type": "display_data",
     "data": {
      "text/plain": "          Predicted 1  Predicted 2  Predicted 3\nActual 1         2455            0          142\nActual 2            0           17           11\nActual 3          334            2         1203",
      "text/html": "<div>\n<style scoped>\n    .dataframe tbody tr th:only-of-type {\n        vertical-align: middle;\n    }\n\n    .dataframe tbody tr th {\n        vertical-align: top;\n    }\n\n    .dataframe thead th {\n        text-align: right;\n    }\n</style>\n<table border=\"1\" class=\"dataframe\">\n  <thead>\n    <tr style=\"text-align: right;\">\n      <th></th>\n      <th>Predicted 1</th>\n      <th>Predicted 2</th>\n      <th>Predicted 3</th>\n    </tr>\n  </thead>\n  <tbody>\n    <tr>\n      <th>Actual 1</th>\n      <td>2455</td>\n      <td>0</td>\n      <td>142</td>\n    </tr>\n    <tr>\n      <th>Actual 2</th>\n      <td>0</td>\n      <td>17</td>\n      <td>11</td>\n    </tr>\n    <tr>\n      <th>Actual 3</th>\n      <td>334</td>\n      <td>2</td>\n      <td>1203</td>\n    </tr>\n  </tbody>\n</table>\n</div>"
     },
     "metadata": {}
    },
    {
     "output_type": "stream",
     "name": "stdout",
     "text": [
      "Accuracy Score : 0.8825648414985591\nClassification Report\n              precision    recall  f1-score   support\n\n           0       0.88      0.95      0.91      2597\n           1       0.89      0.61      0.72        28\n           2       0.89      0.78      0.83      1539\n\n    accuracy                           0.88      4164\n   macro avg       0.89      0.78      0.82      4164\nweighted avg       0.88      0.88      0.88      4164\n\n"
     ]
    }
   ],
   "source": [
    "acc_score = accuracy_score(y_test, predictions)\n",
    "\n",
    "# Displaying results\n",
    "print(\"Confusion Matrix\")\n",
    "display(cm_df)\n",
    "print(f\"\\nAccuracy Score : {acc_score}\")\n",
    "print(f\"\\nClassification Report\")\n",
    "print(classification_report(y_test, predictions))"
   ]
  },
  {
   "source": [
    "# Rank the features"
   ],
   "cell_type": "markdown",
   "metadata": {}
  },
  {
   "cell_type": "code",
   "execution_count": 21,
   "metadata": {},
   "outputs": [
    {
     "output_type": "execute_result",
     "data": {
      "text/plain": [
       "array([0.01875293, 0.02866747, 0.02587341, 0.07050612, 0.01779059,\n",
       "       0.06911345, 0.01600435, 0.01585225, 0.02949941, 0.09155757,\n",
       "       0.02121931, 0.02189087, 0.0157765 , 0.13121651, 0.01402036,\n",
       "       0.02141166, 0.01611114, 0.01632482, 0.01672684, 0.01788289,\n",
       "       0.01595695, 0.04442765, 0.02732456, 0.03299448, 0.01484165,\n",
       "       0.06298452, 0.03407117, 0.05808484, 0.03311572])"
      ]
     },
     "metadata": {},
     "execution_count": 21
    }
   ],
   "source": [
    "# Calculate feature importance in the Random Forest model.\n",
    "importances = random_forest_model.feature_importances_\n",
    "importances"
   ]
  },
  {
   "cell_type": "code",
   "execution_count": 22,
   "metadata": {},
   "outputs": [
    {
     "output_type": "execute_result",
     "data": {
      "text/plain": [
       "[(0.13121650811489446, ('movement_reactions',)),\n",
       " (0.09155757134515508, ('skill_ball_control',)),\n",
       " (0.07050612004137573, ('attacking_short_passing',)),\n",
       " (0.0691134476782312, ('skill_dribbling',)),\n",
       " (0.06298451765983044, ('mental_composure',)),\n",
       " (0.05808484467143444, ('defending_standing_tackle',)),\n",
       " (0.04442765116238057, ('mental_interceptions',)),\n",
       " (0.03407117425729655, ('defending_marking',)),\n",
       " (0.033115721961332126, ('defending_sliding_tackle',)),\n",
       " (0.03299447905471283, ('mental_vision',)),\n",
       " (0.029499409029997797, ('skill_long_passing',)),\n",
       " (0.02866747329547948, ('attacking_finishing',)),\n",
       " (0.027324557161065802, ('mental_positioning',)),\n",
       " (0.025873409577133837, ('attacking_heading_accuracy',)),\n",
       " (0.021890872461281744, ('movement_sprint_speed',)),\n",
       " (0.021411657888018475, ('power_shot_power',)),\n",
       " (0.021219313445546267, ('movement_acceleration',)),\n",
       " (0.018752925296811253, ('attacking_crossing',)),\n",
       " (0.01788288609744496, ('power_long_shots',)),\n",
       " (0.017790593705748092, ('attacking_volleys',)),\n",
       " (0.01672684132856338, ('power_strength',)),\n",
       " (0.01632482064549732, ('power_stamina',)),\n",
       " (0.016111136937305974, ('power_jumping',)),\n",
       " (0.01600434645098012, ('skill_curve',)),\n",
       " (0.015956953945252258, ('mental_aggression',)),\n",
       " (0.0158522507968255, ('skill_fk_accuracy',)),\n",
       " (0.015776502233909633, ('movement_agility',)),\n",
       " (0.014841654215934577, ('mental_penalties',)),\n",
       " (0.014020359540560197, ('movement_balance',))]"
      ]
     },
     "metadata": {},
     "execution_count": 22
    }
   ],
   "source": [
    "# We can sort the features by their importance.\n",
    "sorted(zip(random_forest_model.feature_importances_, X.columns), reverse=True)"
   ]
  },
  {
   "cell_type": "code",
   "execution_count": null,
   "metadata": {},
   "outputs": [],
   "source": []
  }
 ]
}