{
 "cells": [
  {
   "cell_type": "markdown",
   "metadata": {},
   "source": [
    "# <u>Purspose</u>: Create fifa players datasets\n",
    "## <u>Description</u>:\n",
    "## Create datasets of players by position."
   ]
  },
  {
   "cell_type": "code",
   "execution_count": 1,
   "metadata": {
    "ExecuteTime": {
     "end_time": "2021-07-15T01:08:37.607566Z",
     "start_time": "2021-07-15T01:08:37.482314Z"
    }
   },
   "outputs": [],
   "source": [
    "%run 1st_Functions.ipynb"
   ]
  },
  {
   "cell_type": "code",
   "execution_count": 2,
   "metadata": {
    "ExecuteTime": {
     "end_time": "2021-07-15T01:08:38.530789Z",
     "start_time": "2021-07-15T01:08:38.525413Z"
    }
   },
   "outputs": [],
   "source": [
    "goal_keepers = 'GK'\n",
    "defenders = 'RWB', 'RCB', 'RB', 'LCB', 'CB', 'LWB', 'LB'\n",
    "def_mid_fielders = 'LDM', 'CDM','RDM'\n",
    "mid_fielders = 'CM', 'RCM', 'RM', 'LCM', 'LM'\n",
    "attack_mid_fielders = 'LAM', 'CAM', 'RAM'\n",
    "forwards = 'RF', 'CF','LF', 'LW', 'RW'\n",
    "strikers = 'ST', 'RS', 'LS'"
   ]
  },
  {
   "cell_type": "markdown",
   "metadata": {},
   "source": [
    "## - goalkeepers dataset"
   ]
  },
  {
   "cell_type": "code",
   "execution_count": 3,
   "metadata": {
    "ExecuteTime": {
     "end_time": "2021-07-15T01:08:41.177160Z",
     "start_time": "2021-07-15T01:08:39.980116Z"
    }
   },
   "outputs": [
    {
     "name": "stdout",
     "output_type": "stream",
     "text": [
      "<connection object at 0x000001642B407D00; dsn: 'user=postgres password=xxx dbname=fifa-players-prediction host=fifa-players-prediction.c05nwfquwc6t.us-east-1.rds.amazonaws.com port=5432', closed: 0>\n",
      "Connected!\n",
      "Wall time: 67.5 ms\n"
     ]
    }
   ],
   "source": [
    "# Connect to DB\n",
    "conn, cursor= connect()\n",
    "\n",
    "import pandas\n",
    "# sql = \"\"\" SELECT * from players where field_position in ('GK') \"\"\"\n",
    "sql = f\"SELECT * from players where field_position in ('{goal_keepers}') \"\n",
    "\n",
    "goal_keepers_data = pandas.read_sql(sql, con=conn)\n",
    "# conn.commit()\n",
    "\n",
    "# Disconnect from DB\n",
    "disconnect(conn, cursor)\n",
    "\n",
    "goal_keepers_data = create_players_dataframes(goal_keepers_data, columns_to_keep)\n",
    "# display(goal_keepers_data)\n",
    "goal_keepers_data = create_fifa_players_dataset(goal_keepers_data, './resources/', 'goal_keepers.csv')"
   ]
  },
  {
   "cell_type": "markdown",
   "metadata": {},
   "source": [
    "## defenders"
   ]
  },
  {
   "cell_type": "code",
   "execution_count": 4,
   "metadata": {
    "ExecuteTime": {
     "end_time": "2021-07-15T01:08:44.485733Z",
     "start_time": "2021-07-15T01:08:43.432163Z"
    }
   },
   "outputs": [
    {
     "name": "stdout",
     "output_type": "stream",
     "text": [
      "<connection object at 0x000001642C75E7B0; dsn: 'user=postgres password=xxx dbname=fifa-players-prediction host=fifa-players-prediction.c05nwfquwc6t.us-east-1.rds.amazonaws.com port=5432', closed: 0>\n",
      "Connected!\n",
      "Wall time: 192 ms\n"
     ]
    }
   ],
   "source": [
    "# Connect to DB\n",
    "conn, cursor= connect()\n",
    "\n",
    "import pandas\n",
    "sql = f\"SELECT * from players where field_position in {defenders} \"\n",
    "\n",
    "goal_keepers_data = pandas.read_sql(sql, con=conn)\n",
    "# conn.commit()\n",
    "\n",
    "# Disconnect from DB\n",
    "disconnect(conn, cursor)\n",
    "\n",
    "defenders_data = create_players_dataframes(goal_keepers_data, columns_to_keep)\n",
    "defenders_data = create_fifa_players_dataset(goal_keepers_data, './resources/', 'defenders.csv')"
   ]
  },
  {
   "cell_type": "markdown",
   "metadata": {},
   "source": [
    "## Defensive midfielders"
   ]
  },
  {
   "cell_type": "code",
   "execution_count": 5,
   "metadata": {
    "ExecuteTime": {
     "end_time": "2021-07-15T01:08:45.274236Z",
     "start_time": "2021-07-15T01:08:44.696135Z"
    }
   },
   "outputs": [
    {
     "name": "stdout",
     "output_type": "stream",
     "text": [
      "<connection object at 0x000001642B407D00; dsn: 'user=postgres password=xxx dbname=fifa-players-prediction host=fifa-players-prediction.c05nwfquwc6t.us-east-1.rds.amazonaws.com port=5432', closed: 0>\n",
      "Connected!\n",
      "Wall time: 50 ms\n"
     ]
    }
   ],
   "source": [
    "# Connect to DB\n",
    "conn, cursor= connect()\n",
    "\n",
    "import pandas\n",
    "sql = f\"SELECT * from players where field_position in {def_mid_fielders} \"\n",
    "\n",
    "def_mid_fielders_data = pandas.read_sql(sql, con=conn)\n",
    "# conn.commit()\n",
    "\n",
    "# Disconnect from DB\n",
    "disconnect(conn, cursor)\n",
    "\n",
    "def_mid_fielders_data = create_players_dataframes(def_mid_fielders_data, columns_to_keep)\n",
    "def_mid_fielders_data = create_fifa_players_dataset(def_mid_fielders_data, './resources/', 'def_mid_fielders.csv')\n"
   ]
  },
  {
   "cell_type": "markdown",
   "metadata": {},
   "source": [
    "## Central midfielders"
   ]
  },
  {
   "cell_type": "code",
   "execution_count": 6,
   "metadata": {
    "ExecuteTime": {
     "end_time": "2021-07-15T01:08:46.533639Z",
     "start_time": "2021-07-15T01:08:45.603355Z"
    }
   },
   "outputs": [
    {
     "name": "stdout",
     "output_type": "stream",
     "text": [
      "<connection object at 0x000001642C75EAE0; dsn: 'user=postgres password=xxx dbname=fifa-players-prediction host=fifa-players-prediction.c05nwfquwc6t.us-east-1.rds.amazonaws.com port=5432', closed: 0>\n",
      "Connected!\n",
      "Wall time: 162 ms\n"
     ]
    }
   ],
   "source": [
    "# Connect to DB\n",
    "conn, cursor= connect()\n",
    "\n",
    "import pandas\n",
    "sql = f\"SELECT * from players where field_position in {mid_fielders} \"\n",
    "\n",
    "mid_fielders_data = pandas.read_sql(sql, con=conn)\n",
    "# conn.commit()\n",
    "\n",
    "# Disconnect from DB\n",
    "disconnect(conn, cursor)\n",
    "\n",
    "mid_fielders_data = create_players_dataframes(mid_fielders_data, columns_to_keep)\n",
    "mid_fielders_data = create_fifa_players_dataset(mid_fielders_data, './resources/', 'mid_fielders.csv')"
   ]
  },
  {
   "cell_type": "markdown",
   "metadata": {},
   "source": [
    "## Attacking midfielders"
   ]
  },
  {
   "cell_type": "code",
   "execution_count": 7,
   "metadata": {
    "ExecuteTime": {
     "end_time": "2021-07-15T01:08:47.981914Z",
     "start_time": "2021-07-15T01:08:46.856461Z"
    }
   },
   "outputs": [
    {
     "name": "stdout",
     "output_type": "stream",
     "text": [
      "<connection object at 0x000001642B407D00; dsn: 'user=postgres password=xxx dbname=fifa-players-prediction host=fifa-players-prediction.c05nwfquwc6t.us-east-1.rds.amazonaws.com port=5432', closed: 0>\n",
      "Connected!\n",
      "Wall time: 34.6 ms\n"
     ]
    }
   ],
   "source": [
    "# Connect to DB\n",
    "conn, cursor= connect()\n",
    "\n",
    "import pandas\n",
    "sql = f\"SELECT * from players where field_position in {attack_mid_fielders} \"\n",
    "\n",
    "attack_mid_fielders_data = pandas.read_sql(sql, con=conn)\n",
    "# conn.commit()\n",
    "\n",
    "# Disconnect from DB\n",
    "disconnect(conn, cursor)\n",
    "\n",
    "attack_mid_fielders_data = create_players_dataframes(attack_mid_fielders_data, columns_to_keep)\n",
    "attack_mid_fielders_data = create_fifa_players_dataset(attack_mid_fielders_data, './resources/', 'attack_mid_fielders.csv')"
   ]
  },
  {
   "cell_type": "markdown",
   "metadata": {},
   "source": [
    "## Forwards"
   ]
  },
  {
   "cell_type": "code",
   "execution_count": 8,
   "metadata": {
    "ExecuteTime": {
     "end_time": "2021-07-15T01:08:49.075793Z",
     "start_time": "2021-07-15T01:08:48.413106Z"
    }
   },
   "outputs": [
    {
     "name": "stdout",
     "output_type": "stream",
     "text": [
      "<connection object at 0x000001642C75E7B0; dsn: 'user=postgres password=xxx dbname=fifa-players-prediction host=fifa-players-prediction.c05nwfquwc6t.us-east-1.rds.amazonaws.com port=5432', closed: 0>\n",
      "Connected!\n",
      "Wall time: 51.5 ms\n"
     ]
    }
   ],
   "source": [
    "# Connect to DB\n",
    "conn, cursor= connect()\n",
    "\n",
    "import pandas\n",
    "sql = f\"SELECT * from players where field_position in {forwards} \"\n",
    "\n",
    "forwards_data = pandas.read_sql(sql, con=conn)\n",
    "# conn.commit()\n",
    "\n",
    "# Disconnect from DB\n",
    "disconnect(conn, cursor)\n",
    "\n",
    "forwards_data = create_players_dataframes(forwards_data, columns_to_keep)\n",
    "forwards_data = create_fifa_players_dataset(forwards_data, './resources/', 'forwards.csv')"
   ]
  },
  {
   "cell_type": "markdown",
   "metadata": {},
   "source": [
    "## Strikers"
   ]
  },
  {
   "cell_type": "code",
   "execution_count": 9,
   "metadata": {
    "ExecuteTime": {
     "end_time": "2021-07-15T01:08:50.214978Z",
     "start_time": "2021-07-15T01:08:49.498389Z"
    }
   },
   "outputs": [
    {
     "name": "stdout",
     "output_type": "stream",
     "text": [
      "<connection object at 0x000001642B407D00; dsn: 'user=postgres password=xxx dbname=fifa-players-prediction host=fifa-players-prediction.c05nwfquwc6t.us-east-1.rds.amazonaws.com port=5432', closed: 0>\n",
      "Connected!\n",
      "Wall time: 104 ms\n"
     ]
    }
   ],
   "source": [
    "# Connect to DB\n",
    "conn, cursor= connect()\n",
    "\n",
    "import pandas\n",
    "sql = f\"SELECT * from players where field_position in {strikers} \"\n",
    "\n",
    "strikers_data = pandas.read_sql(sql, con=conn)\n",
    "# conn.commit()\n",
    "\n",
    "# Disconnect from DB\n",
    "disconnect(conn, cursor)\n",
    "\n",
    "strikers_data = create_players_dataframes(strikers_data, columns_to_keep)\n",
    "strikers_data = create_fifa_players_dataset(strikers_data, './resources/', 'strikers.csv')"
   ]
  }
 ],
 "metadata": {
  "interpreter": {
   "hash": "c8664c37d20d1a667b792eed6f68d26a151ec74784f499ac31579ebbdd16e46a"
  },
  "kernelspec": {
   "display_name": "Python 3",
   "language": "python",
   "name": "python3"
  },
  "language_info": {
   "codemirror_mode": {
    "name": "ipython",
    "version": 3
   },
   "file_extension": ".py",
   "mimetype": "text/x-python",
   "name": "python",
   "nbconvert_exporter": "python",
   "pygments_lexer": "ipython3",
   "version": "3.8.5"
  },
  "toc": {
   "base_numbering": "",
   "nav_menu": {},
   "number_sections": false,
   "sideBar": true,
   "skip_h1_title": false,
   "title_cell": "Table of Contents",
   "title_sidebar": "Contents",
   "toc_cell": false,
   "toc_position": {
    "height": "calc(100% - 180px)",
    "left": "10px",
    "top": "150px",
    "width": "307.2px"
   },
   "toc_section_display": true,
   "toc_window_display": false
  },
  "varInspector": {
   "cols": {
    "lenName": 16,
    "lenType": 16,
    "lenVar": 40
   },
   "kernels_config": {
    "python": {
     "delete_cmd_postfix": "",
     "delete_cmd_prefix": "del ",
     "library": "var_list.py",
     "varRefreshCmd": "print(var_dic_list())"
    },
    "r": {
     "delete_cmd_postfix": ") ",
     "delete_cmd_prefix": "rm(",
     "library": "var_list.r",
     "varRefreshCmd": "cat(var_dic_list()) "
    }
   },
   "types_to_exclude": [
    "module",
    "function",
    "builtin_function_or_method",
    "instance",
    "_Feature"
   ],
   "window_display": false
  }
 },
 "nbformat": 4,
 "nbformat_minor": 2
}
