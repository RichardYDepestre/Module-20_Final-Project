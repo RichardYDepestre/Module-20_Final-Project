{
 "metadata": {
  "language_info": {
   "codemirror_mode": {
    "name": "ipython",
    "version": 3
   },
   "file_extension": ".py",
   "mimetype": "text/x-python",
   "name": "python",
   "nbconvert_exporter": "python",
   "pygments_lexer": "ipython3",
   "version": "3.9.5"
  },
  "orig_nbformat": 4,
  "kernelspec": {
   "name": "python3",
   "display_name": "Python 3.9.5 64-bit ('mlenv': conda)"
  },
  "interpreter": {
   "hash": "c8664c37d20d1a667b792eed6f68d26a151ec74784f499ac31579ebbdd16e46a"
  }
 },
 "nbformat": 4,
 "nbformat_minor": 2,
 "cells": [
  {
   "source": [
    "# Purpose:"
   ],
   "cell_type": "markdown",
   "metadata": {}
  },
  {
   "source": [
    "# 1) load encoded datasets"
   ],
   "cell_type": "markdown",
   "metadata": {}
  },
  {
   "cell_type": "code",
   "execution_count": 1,
   "metadata": {},
   "outputs": [],
   "source": [
    "# Initial imports.\n",
    "%run s0_fifa_players_functions.ipynb\n",
    "\n",
    "from pathlib import Path\n",
    "import os"
   ]
  },
  {
   "source": [
    "## ---> Modify the location below to fit your dev environment"
   ],
   "cell_type": "markdown",
   "metadata": {}
  },
  {
   "cell_type": "code",
   "execution_count": 201,
   "metadata": {
    "tags": []
   },
   "outputs": [
    {
     "output_type": "stream",
     "name": "stderr",
     "text": [
      "  % Total    % Received % Xferd  Average Speed   Time    Time     Time  Current\n                                 Dload  Upload   Total   Spent    Left  Speed\n\n  0     0    0     0    0     0      0      0 --:--:-- --:--:-- --:--:--     0\n100  360k  100  360k    0     0  2086k      0 --:--:-- --:--:-- --:--:-- 2086k\n"
     ]
    }
   ],
   "source": [
    "os.chdir('E:\\\\data-engineering@ColumbiaUnv\\\\Module-20_final_project\\\\resources')\n",
    "\n",
    "!curl -L https://raw.githubusercontent.com/ponda614/Data-Science-Final-Project-/main/resources/players.csv  -o fifa_players_git.csv\n",
    "# !curl -L https://raw.githubusercontent.com/ponda614/Data-Science-Final-Project-/main/resources/goal_keepers.csv -o fifa_goal_keepers_git.csv\n",
    "\n",
    "os.chdir('E:\\\\data-engineering@ColumbiaUnv\\\\Module-20_final_project\\\\notebooks')"
   ]
  },
  {
   "source": [
    "# 2) build dataframes"
   ],
   "cell_type": "markdown",
   "metadata": {}
  },
  {
   "source": [
    "# players_dataset_loc = os.path.join('../resources', 'fifa_players_git.csv')\n",
    "# players_df = create_fifa_players_dataframe(players_dataset_loc)\n",
    "players_dataset_loc= os.path.join('../resources', 'fifa_players_encoded.csv')\n",
    "players_df = create_fifa_players_dataframe(players_dataset_loc)\n",
    "\n",
    "display(players_df)\n",
    "\n",
    "import matplotlib.pyplot as plt\n",
    "from sklearn.datasets import make_blobs\n",
    "from collections import Counter\n",
    "\n",
    "X, y = make_blobs(players_df, random_state=1, cluster_std=5)\n",
    "plt.scatter(X[:, 0], X[:, 1], c=y)\n",
    "plt.show()"
   ],
   "cell_type": "code",
   "metadata": {},
   "execution_count": 2,
   "outputs": [
    {
     "output_type": "display_data",
     "data": {
      "text/plain": "       rating  attacking_crossing  attacking_finishing  \\\n0           1                84.0                 95.0   \n1           1                84.0                 94.0   \n2           1                79.0                 87.0   \n3           1                17.0                 13.0   \n4           1                93.0                 82.0   \n...       ...                 ...                  ...   \n16649       0                34.0                 38.0   \n16650       0                23.0                 52.0   \n16651       0                25.0                 40.0   \n16652       0                44.0                 50.0   \n16653       0                41.0                 34.0   \n\n       attacking_heading_accuracy  attacking_short_passing  attacking_volleys  \\\n0                            70.0                     90.0               86.0   \n1                            89.0                     81.0               87.0   \n2                            62.0                     84.0               84.0   \n3                            21.0                     50.0               13.0   \n4                            55.0                     92.0               82.0   \n...                           ...                      ...                ...   \n16649                        40.0                     49.0               25.0   \n16650                        52.0                     43.0               36.0   \n16651                        46.0                     38.0               38.0   \n16652                        39.0                     42.0               40.0   \n16653                        46.0                     48.0               30.0   \n\n       skill_dribbling  skill_curve  skill_fk_accuracy  skill_long_passing  \\\n0                 97.0         93.0               94.0                87.0   \n1                 88.0         81.0               76.0                77.0   \n2                 96.0         88.0               87.0                78.0   \n3                 18.0         21.0               19.0                51.0   \n4                 86.0         85.0               83.0                91.0   \n...                ...          ...                ...                 ...   \n16649             42.0         30.0               34.0                45.0   \n16650             39.0         32.0               20.0                25.0   \n16651             45.0         38.0               27.0                28.0   \n16652             51.0         34.0               32.0                32.0   \n16653             43.0         40.0               34.0                44.0   \n\n       ...  power_long_shots  mental_aggression  mental_interceptions  \\\n0      ...              94.0               48.0                  22.0   \n1      ...              93.0               63.0                  29.0   \n2      ...              82.0               56.0                  36.0   \n3      ...              12.0               38.0                  30.0   \n4      ...              91.0               76.0                  61.0   \n...    ...               ...                ...                   ...   \n16649  ...              38.0               46.0                  46.0   \n16650  ...              42.0               47.0                  16.0   \n16651  ...              45.0               32.0                  15.0   \n16652  ...              34.0               33.0                  22.0   \n16653  ...              32.0               56.0                  42.0   \n\n       mental_positioning  mental_vision  mental_penalties  mental_composure  \\\n0                    94.0           94.0              75.0              96.0   \n1                    95.0           82.0              85.0              95.0   \n2                    89.0           87.0              81.0              94.0   \n3                    12.0           68.0              40.0              68.0   \n4                    87.0           94.0              79.0              88.0   \n...                   ...            ...               ...               ...   \n16649                39.0           52.0              43.0              45.0   \n16650                46.0           33.0              43.0              42.0   \n16651                48.0           43.0              55.0              41.0   \n16652                44.0           47.0              50.0              46.0   \n16653                34.0           49.0              33.0              43.0   \n\n       defending_marking  defending_standing_tackle  defending_sliding_tackle  \n0                   33.0                       28.0                      26.0  \n1                   28.0                       31.0                      23.0  \n2                   27.0                       24.0                      33.0  \n3                   15.0                       21.0                      13.0  \n4                   68.0                       58.0                      51.0  \n...                  ...                        ...                       ...  \n16649               40.0                       48.0                      47.0  \n16650               22.0                       15.0                      19.0  \n16651               32.0                       13.0                      11.0  \n16652               20.0                       25.0                      27.0  \n16653               40.0                       43.0                      50.0  \n\n[16654 rows x 30 columns]",
      "text/html": "<div>\n<style scoped>\n    .dataframe tbody tr th:only-of-type {\n        vertical-align: middle;\n    }\n\n    .dataframe tbody tr th {\n        vertical-align: top;\n    }\n\n    .dataframe thead th {\n        text-align: right;\n    }\n</style>\n<table border=\"1\" class=\"dataframe\">\n  <thead>\n    <tr style=\"text-align: right;\">\n      <th></th>\n      <th>rating</th>\n      <th>attacking_crossing</th>\n      <th>attacking_finishing</th>\n      <th>attacking_heading_accuracy</th>\n      <th>attacking_short_passing</th>\n      <th>attacking_volleys</th>\n      <th>skill_dribbling</th>\n      <th>skill_curve</th>\n      <th>skill_fk_accuracy</th>\n      <th>skill_long_passing</th>\n      <th>...</th>\n      <th>power_long_shots</th>\n      <th>mental_aggression</th>\n      <th>mental_interceptions</th>\n      <th>mental_positioning</th>\n      <th>mental_vision</th>\n      <th>mental_penalties</th>\n      <th>mental_composure</th>\n      <th>defending_marking</th>\n      <th>defending_standing_tackle</th>\n      <th>defending_sliding_tackle</th>\n    </tr>\n  </thead>\n  <tbody>\n    <tr>\n      <th>0</th>\n      <td>1</td>\n      <td>84.0</td>\n      <td>95.0</td>\n      <td>70.0</td>\n      <td>90.0</td>\n      <td>86.0</td>\n      <td>97.0</td>\n      <td>93.0</td>\n      <td>94.0</td>\n      <td>87.0</td>\n      <td>...</td>\n      <td>94.0</td>\n      <td>48.0</td>\n      <td>22.0</td>\n      <td>94.0</td>\n      <td>94.0</td>\n      <td>75.0</td>\n      <td>96.0</td>\n      <td>33.0</td>\n      <td>28.0</td>\n      <td>26.0</td>\n    </tr>\n    <tr>\n      <th>1</th>\n      <td>1</td>\n      <td>84.0</td>\n      <td>94.0</td>\n      <td>89.0</td>\n      <td>81.0</td>\n      <td>87.0</td>\n      <td>88.0</td>\n      <td>81.0</td>\n      <td>76.0</td>\n      <td>77.0</td>\n      <td>...</td>\n      <td>93.0</td>\n      <td>63.0</td>\n      <td>29.0</td>\n      <td>95.0</td>\n      <td>82.0</td>\n      <td>85.0</td>\n      <td>95.0</td>\n      <td>28.0</td>\n      <td>31.0</td>\n      <td>23.0</td>\n    </tr>\n    <tr>\n      <th>2</th>\n      <td>1</td>\n      <td>79.0</td>\n      <td>87.0</td>\n      <td>62.0</td>\n      <td>84.0</td>\n      <td>84.0</td>\n      <td>96.0</td>\n      <td>88.0</td>\n      <td>87.0</td>\n      <td>78.0</td>\n      <td>...</td>\n      <td>82.0</td>\n      <td>56.0</td>\n      <td>36.0</td>\n      <td>89.0</td>\n      <td>87.0</td>\n      <td>81.0</td>\n      <td>94.0</td>\n      <td>27.0</td>\n      <td>24.0</td>\n      <td>33.0</td>\n    </tr>\n    <tr>\n      <th>3</th>\n      <td>1</td>\n      <td>17.0</td>\n      <td>13.0</td>\n      <td>21.0</td>\n      <td>50.0</td>\n      <td>13.0</td>\n      <td>18.0</td>\n      <td>21.0</td>\n      <td>19.0</td>\n      <td>51.0</td>\n      <td>...</td>\n      <td>12.0</td>\n      <td>38.0</td>\n      <td>30.0</td>\n      <td>12.0</td>\n      <td>68.0</td>\n      <td>40.0</td>\n      <td>68.0</td>\n      <td>15.0</td>\n      <td>21.0</td>\n      <td>13.0</td>\n    </tr>\n    <tr>\n      <th>4</th>\n      <td>1</td>\n      <td>93.0</td>\n      <td>82.0</td>\n      <td>55.0</td>\n      <td>92.0</td>\n      <td>82.0</td>\n      <td>86.0</td>\n      <td>85.0</td>\n      <td>83.0</td>\n      <td>91.0</td>\n      <td>...</td>\n      <td>91.0</td>\n      <td>76.0</td>\n      <td>61.0</td>\n      <td>87.0</td>\n      <td>94.0</td>\n      <td>79.0</td>\n      <td>88.0</td>\n      <td>68.0</td>\n      <td>58.0</td>\n      <td>51.0</td>\n    </tr>\n    <tr>\n      <th>...</th>\n      <td>...</td>\n      <td>...</td>\n      <td>...</td>\n      <td>...</td>\n      <td>...</td>\n      <td>...</td>\n      <td>...</td>\n      <td>...</td>\n      <td>...</td>\n      <td>...</td>\n      <td>...</td>\n      <td>...</td>\n      <td>...</td>\n      <td>...</td>\n      <td>...</td>\n      <td>...</td>\n      <td>...</td>\n      <td>...</td>\n      <td>...</td>\n      <td>...</td>\n      <td>...</td>\n    </tr>\n    <tr>\n      <th>16649</th>\n      <td>0</td>\n      <td>34.0</td>\n      <td>38.0</td>\n      <td>40.0</td>\n      <td>49.0</td>\n      <td>25.0</td>\n      <td>42.0</td>\n      <td>30.0</td>\n      <td>34.0</td>\n      <td>45.0</td>\n      <td>...</td>\n      <td>38.0</td>\n      <td>46.0</td>\n      <td>46.0</td>\n      <td>39.0</td>\n      <td>52.0</td>\n      <td>43.0</td>\n      <td>45.0</td>\n      <td>40.0</td>\n      <td>48.0</td>\n      <td>47.0</td>\n    </tr>\n    <tr>\n      <th>16650</th>\n      <td>0</td>\n      <td>23.0</td>\n      <td>52.0</td>\n      <td>52.0</td>\n      <td>43.0</td>\n      <td>36.0</td>\n      <td>39.0</td>\n      <td>32.0</td>\n      <td>20.0</td>\n      <td>25.0</td>\n      <td>...</td>\n      <td>42.0</td>\n      <td>47.0</td>\n      <td>16.0</td>\n      <td>46.0</td>\n      <td>33.0</td>\n      <td>43.0</td>\n      <td>42.0</td>\n      <td>22.0</td>\n      <td>15.0</td>\n      <td>19.0</td>\n    </tr>\n    <tr>\n      <th>16651</th>\n      <td>0</td>\n      <td>25.0</td>\n      <td>40.0</td>\n      <td>46.0</td>\n      <td>38.0</td>\n      <td>38.0</td>\n      <td>45.0</td>\n      <td>38.0</td>\n      <td>27.0</td>\n      <td>28.0</td>\n      <td>...</td>\n      <td>45.0</td>\n      <td>32.0</td>\n      <td>15.0</td>\n      <td>48.0</td>\n      <td>43.0</td>\n      <td>55.0</td>\n      <td>41.0</td>\n      <td>32.0</td>\n      <td>13.0</td>\n      <td>11.0</td>\n    </tr>\n    <tr>\n      <th>16652</th>\n      <td>0</td>\n      <td>44.0</td>\n      <td>50.0</td>\n      <td>39.0</td>\n      <td>42.0</td>\n      <td>40.0</td>\n      <td>51.0</td>\n      <td>34.0</td>\n      <td>32.0</td>\n      <td>32.0</td>\n      <td>...</td>\n      <td>34.0</td>\n      <td>33.0</td>\n      <td>22.0</td>\n      <td>44.0</td>\n      <td>47.0</td>\n      <td>50.0</td>\n      <td>46.0</td>\n      <td>20.0</td>\n      <td>25.0</td>\n      <td>27.0</td>\n    </tr>\n    <tr>\n      <th>16653</th>\n      <td>0</td>\n      <td>41.0</td>\n      <td>34.0</td>\n      <td>46.0</td>\n      <td>48.0</td>\n      <td>30.0</td>\n      <td>43.0</td>\n      <td>40.0</td>\n      <td>34.0</td>\n      <td>44.0</td>\n      <td>...</td>\n      <td>32.0</td>\n      <td>56.0</td>\n      <td>42.0</td>\n      <td>34.0</td>\n      <td>49.0</td>\n      <td>33.0</td>\n      <td>43.0</td>\n      <td>40.0</td>\n      <td>43.0</td>\n      <td>50.0</td>\n    </tr>\n  </tbody>\n</table>\n<p>16654 rows × 30 columns</p>\n</div>"
     },
     "metadata": {}
    },
    {
     "output_type": "error",
     "ename": "TypeError",
     "evalue": "'str' object cannot be interpreted as an integer",
     "traceback": [
      "\u001b[1;31m---------------------------------------------------------------------------\u001b[0m",
      "\u001b[1;31mTypeError\u001b[0m                                 Traceback (most recent call last)",
      "\u001b[1;32m<ipython-input-2-57936a7d90f9>\u001b[0m in \u001b[0;36m<module>\u001b[1;34m\u001b[0m\n\u001b[0;32m     10\u001b[0m \u001b[1;32mfrom\u001b[0m \u001b[0mcollections\u001b[0m \u001b[1;32mimport\u001b[0m \u001b[0mCounter\u001b[0m\u001b[1;33m\u001b[0m\u001b[1;33m\u001b[0m\u001b[0m\n\u001b[0;32m     11\u001b[0m \u001b[1;33m\u001b[0m\u001b[0m\n\u001b[1;32m---> 12\u001b[1;33m \u001b[0mX\u001b[0m\u001b[1;33m,\u001b[0m \u001b[0my\u001b[0m \u001b[1;33m=\u001b[0m \u001b[0mmake_blobs\u001b[0m\u001b[1;33m(\u001b[0m\u001b[0mplayers_df\u001b[0m\u001b[1;33m,\u001b[0m \u001b[0mrandom_state\u001b[0m\u001b[1;33m=\u001b[0m\u001b[1;36m1\u001b[0m\u001b[1;33m,\u001b[0m \u001b[0mcluster_std\u001b[0m\u001b[1;33m=\u001b[0m\u001b[1;36m5\u001b[0m\u001b[1;33m)\u001b[0m\u001b[1;33m\u001b[0m\u001b[1;33m\u001b[0m\u001b[0m\n\u001b[0m\u001b[0;32m     13\u001b[0m \u001b[0mplt\u001b[0m\u001b[1;33m.\u001b[0m\u001b[0mscatter\u001b[0m\u001b[1;33m(\u001b[0m\u001b[0mX\u001b[0m\u001b[1;33m[\u001b[0m\u001b[1;33m:\u001b[0m\u001b[1;33m,\u001b[0m \u001b[1;36m0\u001b[0m\u001b[1;33m]\u001b[0m\u001b[1;33m,\u001b[0m \u001b[0mX\u001b[0m\u001b[1;33m[\u001b[0m\u001b[1;33m:\u001b[0m\u001b[1;33m,\u001b[0m \u001b[1;36m1\u001b[0m\u001b[1;33m]\u001b[0m\u001b[1;33m,\u001b[0m \u001b[0mc\u001b[0m\u001b[1;33m=\u001b[0m\u001b[0my\u001b[0m\u001b[1;33m)\u001b[0m\u001b[1;33m\u001b[0m\u001b[1;33m\u001b[0m\u001b[0m\n\u001b[0;32m     14\u001b[0m \u001b[0mplt\u001b[0m\u001b[1;33m.\u001b[0m\u001b[0mshow\u001b[0m\u001b[1;33m(\u001b[0m\u001b[1;33m)\u001b[0m\u001b[1;33m\u001b[0m\u001b[1;33m\u001b[0m\u001b[0m\n",
      "\u001b[1;32m~\\anaconda3\\envs\\mlenv\\lib\\site-packages\\sklearn\\utils\\validation.py\u001b[0m in \u001b[0;36minner_f\u001b[1;34m(*args, **kwargs)\u001b[0m\n\u001b[0;32m     61\u001b[0m             \u001b[0mextra_args\u001b[0m \u001b[1;33m=\u001b[0m \u001b[0mlen\u001b[0m\u001b[1;33m(\u001b[0m\u001b[0margs\u001b[0m\u001b[1;33m)\u001b[0m \u001b[1;33m-\u001b[0m \u001b[0mlen\u001b[0m\u001b[1;33m(\u001b[0m\u001b[0mall_args\u001b[0m\u001b[1;33m)\u001b[0m\u001b[1;33m\u001b[0m\u001b[1;33m\u001b[0m\u001b[0m\n\u001b[0;32m     62\u001b[0m             \u001b[1;32mif\u001b[0m \u001b[0mextra_args\u001b[0m \u001b[1;33m<=\u001b[0m \u001b[1;36m0\u001b[0m\u001b[1;33m:\u001b[0m\u001b[1;33m\u001b[0m\u001b[1;33m\u001b[0m\u001b[0m\n\u001b[1;32m---> 63\u001b[1;33m                 \u001b[1;32mreturn\u001b[0m \u001b[0mf\u001b[0m\u001b[1;33m(\u001b[0m\u001b[1;33m*\u001b[0m\u001b[0margs\u001b[0m\u001b[1;33m,\u001b[0m \u001b[1;33m**\u001b[0m\u001b[0mkwargs\u001b[0m\u001b[1;33m)\u001b[0m\u001b[1;33m\u001b[0m\u001b[1;33m\u001b[0m\u001b[0m\n\u001b[0m\u001b[0;32m     64\u001b[0m \u001b[1;33m\u001b[0m\u001b[0m\n\u001b[0;32m     65\u001b[0m             \u001b[1;31m# extra_args > 0\u001b[0m\u001b[1;33m\u001b[0m\u001b[1;33m\u001b[0m\u001b[1;33m\u001b[0m\u001b[0m\n",
      "\u001b[1;32m~\\anaconda3\\envs\\mlenv\\lib\\site-packages\\sklearn\\datasets\\_samples_generator.py\u001b[0m in \u001b[0;36mmake_blobs\u001b[1;34m(n_samples, n_features, centers, cluster_std, center_box, shuffle, random_state, return_centers)\u001b[0m\n\u001b[0;32m    887\u001b[0m \u001b[1;33m\u001b[0m\u001b[0m\n\u001b[0;32m    888\u001b[0m     \u001b[1;32mfor\u001b[0m \u001b[0mi\u001b[0m\u001b[1;33m,\u001b[0m \u001b[1;33m(\u001b[0m\u001b[0mn\u001b[0m\u001b[1;33m,\u001b[0m \u001b[0mstd\u001b[0m\u001b[1;33m)\u001b[0m \u001b[1;32min\u001b[0m \u001b[0menumerate\u001b[0m\u001b[1;33m(\u001b[0m\u001b[0mzip\u001b[0m\u001b[1;33m(\u001b[0m\u001b[0mn_samples_per_center\u001b[0m\u001b[1;33m,\u001b[0m \u001b[0mcluster_std\u001b[0m\u001b[1;33m)\u001b[0m\u001b[1;33m)\u001b[0m\u001b[1;33m:\u001b[0m\u001b[1;33m\u001b[0m\u001b[1;33m\u001b[0m\u001b[0m\n\u001b[1;32m--> 889\u001b[1;33m         X.append(generator.normal(loc=centers[i], scale=std,\n\u001b[0m\u001b[0;32m    890\u001b[0m                                   size=(n, n_features)))\n\u001b[0;32m    891\u001b[0m         \u001b[0my\u001b[0m \u001b[1;33m+=\u001b[0m \u001b[1;33m[\u001b[0m\u001b[0mi\u001b[0m\u001b[1;33m]\u001b[0m \u001b[1;33m*\u001b[0m \u001b[0mn\u001b[0m\u001b[1;33m\u001b[0m\u001b[1;33m\u001b[0m\u001b[0m\n",
      "\u001b[1;32mmtrand.pyx\u001b[0m in \u001b[0;36mnumpy.random.mtrand.RandomState.normal\u001b[1;34m()\u001b[0m\n",
      "\u001b[1;32m_common.pyx\u001b[0m in \u001b[0;36mnumpy.random._common.cont\u001b[1;34m()\u001b[0m\n",
      "\u001b[1;32m_common.pyx\u001b[0m in \u001b[0;36mnumpy.random._common.cont_broadcast_2\u001b[1;34m()\u001b[0m\n",
      "\u001b[1;31mTypeError\u001b[0m: 'str' object cannot be interpreted as an integer"
     ]
    }
   ]
  },
  {
   "cell_type": "code",
   "execution_count": 203,
   "metadata": {},
   "outputs": [],
   "source": [
    "goalkeepers_columns = [\n",
    "    'rating'\n",
    "    , 'movement_agility', 'movement_reactions', 'movement_balance'  #, 'movement_acceleration', 'movement_sprint_speed'\n",
    "    , 'power_shot_power', 'power_jumping', 'power_stamina', 'power_strength', 'power_long_shots'\n",
    "    , 'mental_aggression', 'mental_interceptions', 'mental_vision', 'mental_penalties', 'mental_composure' #, 'mental_reflexes'\n",
    "    , 'defending_diving', 'defending_handling', 'defending_positioning'\n",
    "]\n",
    "\n",
    "import pandas\n",
    "goalkeepers_stats_df = pandas.DataFrame(columns=[goalkeepers_columns])\n",
    "\n",
    "goalkeepers_stats_df['rating'] = goal_keepers_df['Rating']\n",
    "goalkeepers_stats_df['movement_agility'] = goal_keepers_df['Agility']\n",
    "goalkeepers_stats_df['movement_reactions'] = goal_keepers_df['Reactions']\n",
    "goalkeepers_stats_df['movement_balance'] = goal_keepers_df['Balance']\n",
    "goalkeepers_stats_df['power_shot_power'] = goal_keepers_df['ShotPower']\n",
    "goalkeepers_stats_df['power_jumping'] = goal_keepers_df['Jumping']\n",
    "goalkeepers_stats_df['power_stamina'] = goal_keepers_df['Stamina']\n",
    "goalkeepers_stats_df['power_strength'] = goal_keepers_df['Strength']\n",
    "goalkeepers_stats_df['power_long_shots'] = goal_keepers_df['LongShots']\n",
    "goalkeepers_stats_df['mental_aggression'] = goal_keepers_df['Aggression']\n",
    "goalkeepers_stats_df['mental_interceptions'] = goal_keepers_df['Interceptions']\n",
    "goalkeepers_stats_df['mental_vision'] = goal_keepers_df['Vision']\n",
    "goalkeepers_stats_df['mental_penalties'] = goal_keepers_df['Penalties']\n",
    "goalkeepers_stats_df['mental_composure'] = goal_keepers_df['Composure']\n",
    "goalkeepers_stats_df['defending_diving'] = goal_keepers_df['GKDiving']\n",
    "goalkeepers_stats_df['defending_handling'] = goal_keepers_df['GKHandling']\n",
    "goalkeepers_stats_df['defending_positioning'] = goal_keepers_df['GKPositioning']\n",
    "goalkeepers_stats_df['defending_reflexes'] = goal_keepers_df['GKReflexes']"
   ]
  },
  {
   "source": [
    "# 3) Separate features from target"
   ],
   "cell_type": "markdown",
   "metadata": {}
  },
  {
   "cell_type": "code",
   "execution_count": 3,
   "metadata": {},
   "outputs": [],
   "source": [
    "# goalkeepers_stats_df = encode_field(goalkeepers_stats_df, 'rating')\n",
    "# goal_keepers_dataset_loc= os.path.join('../resources', 'fifa_goal_keepers_encoded.csv')\n",
    "# goalkeepers_stats_df.to_csv(goal_keepers_dataset_loc, index=False)\n",
    "# display(goalkeepers_stats_df)\n",
    "X = players_df.copy()\n",
    "X = X.drop([\"rating\"], axis=1)\n",
    "\n",
    "Y = players_df['rating'].values\n",
    "\n",
    "# display(array)\n",
    "# # display(goalkeepers_stats_df)\n",
    "# display(Y)\n",
    "# display(X)"
   ]
  },
  {
   "source": [
    "# Splitting into Train and Test sets."
   ],
   "cell_type": "markdown",
   "metadata": {}
  },
  {
   "cell_type": "code",
   "execution_count": 4,
   "metadata": {},
   "outputs": [],
   "source": [
    "from sklearn.model_selection import train_test_split\n",
    "\n",
    "X_train, X_test, y_train, y_test = train_test_split(X, Y, random_state=1)\n",
    "# y_train = y.train.ravel()\n",
    "# display(X_train)\n",
    "# display(X_test)\n",
    "# display(y_train)\n",
    "# display(y_test)"
   ]
  },
  {
   "cell_type": "code",
   "execution_count": 5,
   "metadata": {},
   "outputs": [],
   "source": [
    "from sklearn.preprocessing import StandardScaler\n",
    "\n",
    "# Creating a StandardScaler instance.\n",
    "scaler = StandardScaler()\n",
    "# Fitting the Standard Scaler with the training data.\n",
    "X_scaler = scaler.fit(X_train)\n",
    "\n",
    "# Scaling the data.\n",
    "X_train_scaled = X_scaler.transform(X_train)\n",
    "X_test_scaled = X_scaler.transform(X_test)\n",
    "# display(y_train)\n",
    "# display(X_train_scaled)\n",
    "# display(X_test_scaled)"
   ]
  },
  {
   "source": [
    "# Identify the learning rate that yields the best performance"
   ],
   "cell_type": "markdown",
   "metadata": {}
  },
  {
   "cell_type": "code",
   "execution_count": 15,
   "metadata": {},
   "outputs": [
    {
     "output_type": "display_data",
     "data": {
      "text/plain": "GradientBoostingClassifier(learning_rate=1, max_depth=5, max_features=12,\n                           n_estimators=20, random_state=5)"
     },
     "metadata": {}
    }
   ],
   "source": [
    "from sklearn.ensemble import GradientBoostingClassifier\n",
    "\n",
    "learning_rates = [0.05, 0.1, 0.25, 0.5, 0.75, 1]\n",
    "for learning_rate in learning_rates:\n",
    "   classifier = GradientBoostingClassifier(n_estimators=20,\n",
    "   learning_rate=learning_rate,\n",
    "   max_features=12,\n",
    "   max_depth=5,\n",
    "   random_state=5)\n",
    "   classifier.fit(X_train_scaled, y_train)\n",
    "\n",
    "display(classifier)"
   ]
  },
  {
   "source": [
    "# Making predictions using the Test Data"
   ],
   "cell_type": "markdown",
   "metadata": {}
  },
  {
   "cell_type": "code",
   "execution_count": 14,
   "metadata": {},
   "outputs": [
    {
     "output_type": "stream",
     "name": "stdout",
     "text": [
      "Learning rate:  1\nAccuracy score (training): 0.925\nAccuracy score (validation): 0.869\n"
     ]
    }
   ],
   "source": [
    "print(\"Learning rate: \", learning_rate)\n",
    "print(\"Accuracy score (training): {0:.3f}\".format(\n",
    "       classifier.score(\n",
    "           X_train_scaled,\n",
    "           y_train)))\n",
    "print(\"Accuracy score (validation): {0:.3f}\".format(\n",
    "       classifier.score(\n",
    "           X_test_scaled,\n",
    "           y_test)))"
   ]
  },
  {
   "source": [
    "# Evaluate the Model and Calculate the accuracy score"
   ],
   "cell_type": "markdown",
   "metadata": {}
  },
  {
   "cell_type": "code",
   "execution_count": 8,
   "metadata": {},
   "outputs": [
    {
     "output_type": "stream",
     "name": "stdout",
     "text": [
      "Accuracy Score : 0.8782420749279539\n"
     ]
    }
   ],
   "source": [
    "classifier = GradientBoostingClassifier(n_estimators=20,\n",
    "   learning_rate=0.5, max_features=5, max_depth=3, random_state=0)\n",
    "\n",
    "classifier.fit(X_train_scaled, y_train)\n",
    "predictions = classifier.predict(X_test_scaled)\n",
    "\n",
    "from sklearn.metrics import confusion_matrix\n",
    "from sklearn.metrics import accuracy_score\n",
    "from sklearn.metrics import classification_report\n",
    "acc_score = accuracy_score(y_test, predictions)\n",
    "print(f\"Accuracy Score : {acc_score}\")"
   ]
  },
  {
   "source": [
    "# Generate confusion matrix"
   ],
   "cell_type": "markdown",
   "metadata": {}
  },
  {
   "cell_type": "code",
   "execution_count": 31,
   "metadata": {},
   "outputs": [
    {
     "output_type": "display_data",
     "data": {
      "text/plain": "          Predicted 0  Predicted 1  Predicted 2\nActual 0          336            0           18\nActual 1            0            4            0\nActual 2           28            3          109",
      "text/html": "<div>\n<style scoped>\n    .dataframe tbody tr th:only-of-type {\n        vertical-align: middle;\n    }\n\n    .dataframe tbody tr th {\n        vertical-align: top;\n    }\n\n    .dataframe thead th {\n        text-align: right;\n    }\n</style>\n<table border=\"1\" class=\"dataframe\">\n  <thead>\n    <tr style=\"text-align: right;\">\n      <th></th>\n      <th>Predicted 0</th>\n      <th>Predicted 1</th>\n      <th>Predicted 2</th>\n    </tr>\n  </thead>\n  <tbody>\n    <tr>\n      <th>Actual 0</th>\n      <td>336</td>\n      <td>0</td>\n      <td>18</td>\n    </tr>\n    <tr>\n      <th>Actual 1</th>\n      <td>0</td>\n      <td>4</td>\n      <td>0</td>\n    </tr>\n    <tr>\n      <th>Actual 2</th>\n      <td>28</td>\n      <td>3</td>\n      <td>109</td>\n    </tr>\n  </tbody>\n</table>\n</div>"
     },
     "metadata": {}
    }
   ],
   "source": [
    "import pandas \n",
    "cm = confusion_matrix(y_test, predictions)\n",
    "cm_df = pandas.DataFrame(\n",
    "   cm, index=[\"Actual 0\", \"Actual 1\", \"Actual 2\"],\n",
    "   columns=[\"Predicted 0\", \"Predicted 1\", \"Predicted 2\"]\n",
    ")\n",
    "display(cm_df)"
   ]
  },
  {
   "source": [
    "# Create Classification report"
   ],
   "cell_type": "markdown",
   "metadata": {}
  },
  {
   "cell_type": "code",
   "execution_count": 32,
   "metadata": {},
   "outputs": [
    {
     "output_type": "stream",
     "name": "stdout",
     "text": [
      "Classification Report\n              precision    recall  f1-score   support\n\n           0       0.92      0.95      0.94       354\n           1       0.57      1.00      0.73         4\n           2       0.86      0.78      0.82       140\n\n    accuracy                           0.90       498\n   macro avg       0.78      0.91      0.83       498\nweighted avg       0.90      0.90      0.90       498\n\n"
     ]
    }
   ],
   "source": [
    "print(\"Classification Report\")\n",
    "print(classification_report(y_test, predictions))"
   ]
  }
 ]
}