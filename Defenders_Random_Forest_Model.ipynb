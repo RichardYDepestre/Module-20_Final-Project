{
 "cells": [
  {
   "cell_type": "code",
   "execution_count": 1,
   "metadata": {
    "ExecuteTime": {
     "end_time": "2021-07-20T01:19:46.660423Z",
     "start_time": "2021-07-20T01:19:43.875478Z"
    }
   },
   "outputs": [],
   "source": [
    "import pandas as pd\n",
    "import matplotlib as mpl\n",
    "import matplotlib.pyplot as plt\n",
    "from matplotlib import style\n",
    "from sklearn.model_selection import train_test_split\n",
    "from sklearn.linear_model import LinearRegression\n",
    "from sklearn.metrics import mean_squared_error\n",
    "import statsmodels.api as sm\n",
    "import numpy as np\n",
    "from sklearn.preprocessing import StandardScaler\n",
    "from sklearn.model_selection import train_test_split\n",
    "from sklearn.metrics import confusion_matrix, accuracy_score, classification_report\n",
    "# Dependencies\n",
    "import pandas as pd\n",
    "import numpy as np\n",
    "from sklearn.model_selection import train_test_split, GridSearchCV\n",
    "from sklearn.preprocessing import MinMaxScaler\n",
    "from sklearn.ensemble import RandomForestClassifier\n",
    "from sklearn.metrics import classification_report\n",
    "from sklearn.preprocessing import LabelEncoder\n"
   ]
  },
  {
   "cell_type": "code",
   "execution_count": 2,
   "metadata": {
    "ExecuteTime": {
     "end_time": "2021-07-20T01:19:46.701673Z",
     "start_time": "2021-07-20T01:19:46.666573Z"
    }
   },
   "outputs": [],
   "source": [
    "\n",
    "file_path ='resources/defenders.csv'\n",
    "defenders_df = pd.read_csv(file_path)\n",
    "# defenders_df['rating'] = (defenders_df['potential'].astype(int) + defenders_df['overall'].astype(int))/2\n",
    "# defenders_df['rating'] = defenders_df['rating'].apply(np.int64)\n"
   ]
  },
  {
   "cell_type": "code",
   "execution_count": 3,
   "metadata": {
    "ExecuteTime": {
     "end_time": "2021-07-20T01:19:46.759788Z",
     "start_time": "2021-07-20T01:19:46.713176Z"
    },
    "scrolled": true
   },
   "outputs": [
    {
     "data": {
      "text/plain": [
       "Index(['overall', 'potential', 'work_rate', 'field_position', 'height',\n",
       "       'weight', 'crossing', 'finishing', 'heading_accuracy', 'short_passing',\n",
       "       'volleys', 'dribbling', 'curve', 'fk_accuracy', 'long_passing',\n",
       "       'ball_control', 'acceleration', 'sprint_speed', 'agility', 'reactions',\n",
       "       'balance', 'shot_power', 'jumping', 'stamina', 'strength', 'long_shots',\n",
       "       'aggression', 'interceptions', 'positioning', 'vision', 'penalties',\n",
       "       'composure', 'marking', 'standing_tackle', 'sliding_tackle',\n",
       "       'gk_diving', 'gk_handling', 'gk_kicking', 'gk_positioning',\n",
       "       'gk_reflexes'],\n",
       "      dtype='object')"
      ]
     },
     "execution_count": 3,
     "metadata": {},
     "output_type": "execute_result"
    }
   ],
   "source": [
    "defenders_df.columns\n"
   ]
  },
  {
   "cell_type": "code",
   "execution_count": 4,
   "metadata": {
    "ExecuteTime": {
     "end_time": "2021-07-20T01:19:46.790826Z",
     "start_time": "2021-07-20T01:19:46.774794Z"
    }
   },
   "outputs": [],
   "source": [
    "le = LabelEncoder()\n",
    "defenders_df['work_rate'] = le.fit_transform(defenders_df['work_rate'])"
   ]
  },
  {
   "cell_type": "code",
   "execution_count": 5,
   "metadata": {
    "ExecuteTime": {
     "end_time": "2021-07-20T01:19:46.839386Z",
     "start_time": "2021-07-20T01:19:46.793329Z"
    }
   },
   "outputs": [],
   "source": [
    "#height Column\n",
    "def clean_height(x):\n",
    "    l=[]\n",
    "    s=1\n",
    "    if isinstance(x,str):\n",
    "        l=x.split(\"'\")\n",
    "        i=int(l[0])\n",
    "        j=int(l[1])\n",
    "        s=((i*12)+j)/12\n",
    "    return(s)\n",
    "\n",
    "\n",
    "defenders_df['height'] = defenders_df['height'].apply(clean_height)\n",
    "defenders_df['height'].fillna((defenders_df['height'].mean()), inplace = True)"
   ]
  },
  {
   "cell_type": "code",
   "execution_count": 6,
   "metadata": {
    "ExecuteTime": {
     "end_time": "2021-07-20T01:19:46.862482Z",
     "start_time": "2021-07-20T01:19:46.844870Z"
    }
   },
   "outputs": [],
   "source": [
    "#weight Column\n",
    "def clean_weight(x):\n",
    "    \n",
    "    if isinstance(x,str):\n",
    "        return(x.replace('lbs', ''))\n",
    "    return(x)\n",
    "\n",
    "defenders_df['weight'] = defenders_df['weight'].apply(clean_weight).astype('float')\n",
    "defenders_df['weight'].fillna((defenders_df['weight'].mean()), inplace = True)"
   ]
  },
  {
   "cell_type": "code",
   "execution_count": 7,
   "metadata": {
    "ExecuteTime": {
     "end_time": "2021-07-20T01:19:46.894520Z",
     "start_time": "2021-07-20T01:19:46.877511Z"
    }
   },
   "outputs": [
    {
     "name": "stdout",
     "output_type": "stream",
     "text": [
      "(3913, 39) (3913,)\n"
     ]
    }
   ],
   "source": [
    "# Set features. This will also be used as x values.\n",
    "X = defenders_df.drop(['field_position'], axis=1)\n",
    "y = defenders_df[\"field_position\"]\n",
    "print(X.shape, y.shape)"
   ]
  },
  {
   "cell_type": "code",
   "execution_count": 8,
   "metadata": {
    "ExecuteTime": {
     "end_time": "2021-07-20T01:19:46.920448Z",
     "start_time": "2021-07-20T01:19:46.897506Z"
    }
   },
   "outputs": [],
   "source": [
    "# Split data into training and testing groups and scale data \n",
    "X_train, X_test, y_train, y_test = train_test_split(X, y, test_size = .33)\n"
   ]
  },
  {
   "cell_type": "code",
   "execution_count": 9,
   "metadata": {
    "ExecuteTime": {
     "end_time": "2021-07-20T01:19:49.608475Z",
     "start_time": "2021-07-20T01:19:46.923949Z"
    }
   },
   "outputs": [
    {
     "data": {
      "text/plain": [
       "RandomForestClassifier(n_estimators=250, random_state=24)"
      ]
     },
     "execution_count": 9,
     "metadata": {},
     "output_type": "execute_result"
    }
   ],
   "source": [
    "# Fit the data into model\n",
    "rfm = RandomForestClassifier(n_estimators=250, random_state=24)\n",
    "rfm.fit(X_train, y_train)"
   ]
  },
  {
   "cell_type": "code",
   "execution_count": 10,
   "metadata": {
    "ExecuteTime": {
     "end_time": "2021-07-20T01:19:49.658895Z",
     "start_time": "2021-07-20T01:19:49.610445Z"
    }
   },
   "outputs": [
    {
     "data": {
      "text/plain": [
       "[(0.10304017363994607, 'crossing'),\n",
       " (0.06395453771814856, 'positioning'),\n",
       " (0.05976696850345857, 'dribbling'),\n",
       " (0.05320482694027893, 'acceleration'),\n",
       " (0.044533585077856055, 'height'),\n",
       " (0.04003627963506997, 'strength'),\n",
       " (0.038598792869611605, 'heading_accuracy'),\n",
       " (0.035762574071705126, 'agility'),\n",
       " (0.033716062363874755, 'sprint_speed'),\n",
       " (0.031144798990752794, 'balance'),\n",
       " (0.02979607999241739, 'curve'),\n",
       " (0.023249264409661616, 'stamina'),\n",
       " (0.021200007086016524, 'jumping'),\n",
       " (0.020485895374227486, 'weight'),\n",
       " (0.019807017657525836, 'overall'),\n",
       " (0.01924439115668877, 'ball_control'),\n",
       " (0.018438028805746676, 'long_shots'),\n",
       " (0.018384701342664032, 'composure'),\n",
       " (0.0182681989903931, 'vision'),\n",
       " (0.018159490127575107, 'long_passing'),\n",
       " (0.01777830138014874, 'interceptions'),\n",
       " (0.01775905203203624, 'penalties'),\n",
       " (0.017743847073569186, 'finishing'),\n",
       " (0.017586483650979104, 'aggression'),\n",
       " (0.01741743164759251, 'fk_accuracy'),\n",
       " (0.017352404571157096, 'potential'),\n",
       " (0.017272687645070943, 'standing_tackle'),\n",
       " (0.01700792266968418, 'shot_power'),\n",
       " (0.016664807134817355, 'marking'),\n",
       " (0.016639363598387472, 'volleys'),\n",
       " (0.01591785850811309, 'reactions'),\n",
       " (0.015502274272574874, 'sliding_tackle'),\n",
       " (0.0148292524083053, 'short_passing'),\n",
       " (0.012862914660302824, 'gk_handling'),\n",
       " (0.012409741785315596, 'gk_diving'),\n",
       " (0.011854262994751738, 'gk_positioning'),\n",
       " (0.011678933007185272, 'gk_reflexes'),\n",
       " (0.01156694980319672, 'gk_kicking'),\n",
       " (0.009363836403192466, 'work_rate')]"
      ]
     },
     "execution_count": 10,
     "metadata": {},
     "output_type": "execute_result"
    }
   ],
   "source": [
    "sorted(zip(rfm.feature_importances_, X.columns), reverse=True)\n"
   ]
  },
  {
   "cell_type": "code",
   "execution_count": 11,
   "metadata": {
    "ExecuteTime": {
     "end_time": "2021-07-20T01:19:50.417334Z",
     "start_time": "2021-07-20T01:19:49.661888Z"
    }
   },
   "outputs": [
    {
     "name": "stdout",
     "output_type": "stream",
     "text": [
      "Training Data Score: 1.0\n",
      "Testing Data Score: 0.7262512768130746\n"
     ]
    }
   ],
   "source": [
    "predictions = rfm.predict(X_test)\n",
    "base_train_accuracy = round(rfm.score(X_train, y_train))#*100,3)\n",
    "base_test_accuracy = round(rfm.score(X_test, y_test))#*100,3)\n",
    "print(f\"Training Data Score: {rfm.score(X_train, y_train)}\")\n",
    "print(f\"Testing Data Score: {rfm.score(X_test, y_test)}\")"
   ]
  },
  {
   "cell_type": "code",
   "execution_count": 12,
   "metadata": {
    "ExecuteTime": {
     "end_time": "2021-07-20T01:19:50.465764Z",
     "start_time": "2021-07-20T01:19:50.419346Z"
    }
   },
   "outputs": [
    {
     "name": "stdout",
     "output_type": "stream",
     "text": [
      "              precision    recall  f1-score   support\n",
      "\n",
      "          CB       0.71      0.92      0.80       440\n",
      "          LB       0.76      0.93      0.84       321\n",
      "         LCB       0.59      0.06      0.10       174\n",
      "         LWB       0.00      0.00      0.00        20\n",
      "         RWB       0.00      0.00      0.00        24\n",
      "\n",
      "    accuracy                           0.73       979\n",
      "   macro avg       0.41      0.38      0.35       979\n",
      "weighted avg       0.67      0.73      0.65       979\n",
      "\n"
     ]
    },
    {
     "name": "stderr",
     "output_type": "stream",
     "text": [
      "C:\\Users\\alexv\\anaconda3\\envs\\PythonData\\lib\\site-packages\\sklearn\\metrics\\_classification.py:1248: UndefinedMetricWarning: Precision and F-score are ill-defined and being set to 0.0 in labels with no predicted samples. Use `zero_division` parameter to control this behavior.\n",
      "  _warn_prf(average, modifier, msg_start, len(result))\n",
      "C:\\Users\\alexv\\anaconda3\\envs\\PythonData\\lib\\site-packages\\sklearn\\metrics\\_classification.py:1248: UndefinedMetricWarning: Precision and F-score are ill-defined and being set to 0.0 in labels with no predicted samples. Use `zero_division` parameter to control this behavior.\n",
      "  _warn_prf(average, modifier, msg_start, len(result))\n",
      "C:\\Users\\alexv\\anaconda3\\envs\\PythonData\\lib\\site-packages\\sklearn\\metrics\\_classification.py:1248: UndefinedMetricWarning: Precision and F-score are ill-defined and being set to 0.0 in labels with no predicted samples. Use `zero_division` parameter to control this behavior.\n",
      "  _warn_prf(average, modifier, msg_start, len(result))\n"
     ]
    }
   ],
   "source": [
    "print(classification_report(y_test, predictions))\n"
   ]
  },
  {
   "cell_type": "code",
   "execution_count": 13,
   "metadata": {
    "ExecuteTime": {
     "end_time": "2021-07-20T01:19:50.492787Z",
     "start_time": "2021-07-20T01:19:50.467267Z"
    }
   },
   "outputs": [
    {
     "data": {
      "text/html": [
       "<div>\n",
       "<style scoped>\n",
       "    .dataframe tbody tr th:only-of-type {\n",
       "        vertical-align: middle;\n",
       "    }\n",
       "\n",
       "    .dataframe tbody tr th {\n",
       "        vertical-align: top;\n",
       "    }\n",
       "\n",
       "    .dataframe thead th {\n",
       "        text-align: right;\n",
       "    }\n",
       "</style>\n",
       "<table border=\"1\" class=\"dataframe\">\n",
       "  <thead>\n",
       "    <tr style=\"text-align: right;\">\n",
       "      <th></th>\n",
       "      <th>Predicted 1</th>\n",
       "      <th>Predicted 2</th>\n",
       "      <th>Predicted 3</th>\n",
       "      <th>Predicted 4</th>\n",
       "      <th>Predicted 5</th>\n",
       "    </tr>\n",
       "  </thead>\n",
       "  <tbody>\n",
       "    <tr>\n",
       "      <th>Actual 1</th>\n",
       "      <td>404</td>\n",
       "      <td>30</td>\n",
       "      <td>6</td>\n",
       "      <td>0</td>\n",
       "      <td>0</td>\n",
       "    </tr>\n",
       "    <tr>\n",
       "      <th>Actual 2</th>\n",
       "      <td>23</td>\n",
       "      <td>297</td>\n",
       "      <td>1</td>\n",
       "      <td>0</td>\n",
       "      <td>0</td>\n",
       "    </tr>\n",
       "    <tr>\n",
       "      <th>Actual 3</th>\n",
       "      <td>143</td>\n",
       "      <td>21</td>\n",
       "      <td>10</td>\n",
       "      <td>0</td>\n",
       "      <td>0</td>\n",
       "    </tr>\n",
       "    <tr>\n",
       "      <th>Actual 4</th>\n",
       "      <td>0</td>\n",
       "      <td>20</td>\n",
       "      <td>0</td>\n",
       "      <td>0</td>\n",
       "      <td>0</td>\n",
       "    </tr>\n",
       "    <tr>\n",
       "      <th>Actual 5</th>\n",
       "      <td>2</td>\n",
       "      <td>22</td>\n",
       "      <td>0</td>\n",
       "      <td>0</td>\n",
       "      <td>0</td>\n",
       "    </tr>\n",
       "  </tbody>\n",
       "</table>\n",
       "</div>"
      ],
      "text/plain": [
       "          Predicted 1  Predicted 2  Predicted 3  Predicted 4  Predicted 5\n",
       "Actual 1          404           30            6            0            0\n",
       "Actual 2           23          297            1            0            0\n",
       "Actual 3          143           21           10            0            0\n",
       "Actual 4            0           20            0            0            0\n",
       "Actual 5            2           22            0            0            0"
      ]
     },
     "metadata": {},
     "output_type": "display_data"
    }
   ],
   "source": [
    "from sklearn.metrics import confusion_matrix, accuracy_score, classification_report\n",
    "\n",
    "# Calculating the confusion matrix.\n",
    "cm = confusion_matrix(y_test, predictions)\n",
    "# display(cm)\n",
    "# print(y_test.shape)\n",
    "# print(y_test.shape)\n",
    "y_test\n",
    "predictions\n",
    "\n",
    "# Create a DataFrame from the confusion matrix.\n",
    "cm_df = pd.DataFrame(cm, index=[\"Actual 1\", \"Actual 2\", \"Actual 3\", \n",
    "                                \"Actual 4\", \"Actual 5\"], \n",
    "                     columns=[\"Predicted 1\", \"Predicted 2\", \"Predicted 3\", \n",
    "                                \"Predicted 4\", \"Predicted 5\"])\n",
    "display(cm_df)"
   ]
  },
  {
   "cell_type": "code",
   "execution_count": 14,
   "metadata": {
    "ExecuteTime": {
     "end_time": "2021-07-20T01:19:50.582500Z",
     "start_time": "2021-07-20T01:19:50.495295Z"
    }
   },
   "outputs": [
    {
     "name": "stdout",
     "output_type": "stream",
     "text": [
      "Confusion Matrix\n"
     ]
    },
    {
     "data": {
      "text/html": [
       "<div>\n",
       "<style scoped>\n",
       "    .dataframe tbody tr th:only-of-type {\n",
       "        vertical-align: middle;\n",
       "    }\n",
       "\n",
       "    .dataframe tbody tr th {\n",
       "        vertical-align: top;\n",
       "    }\n",
       "\n",
       "    .dataframe thead th {\n",
       "        text-align: right;\n",
       "    }\n",
       "</style>\n",
       "<table border=\"1\" class=\"dataframe\">\n",
       "  <thead>\n",
       "    <tr style=\"text-align: right;\">\n",
       "      <th></th>\n",
       "      <th>Predicted 1</th>\n",
       "      <th>Predicted 2</th>\n",
       "      <th>Predicted 3</th>\n",
       "      <th>Predicted 4</th>\n",
       "      <th>Predicted 5</th>\n",
       "    </tr>\n",
       "  </thead>\n",
       "  <tbody>\n",
       "    <tr>\n",
       "      <th>Actual 1</th>\n",
       "      <td>404</td>\n",
       "      <td>30</td>\n",
       "      <td>6</td>\n",
       "      <td>0</td>\n",
       "      <td>0</td>\n",
       "    </tr>\n",
       "    <tr>\n",
       "      <th>Actual 2</th>\n",
       "      <td>23</td>\n",
       "      <td>297</td>\n",
       "      <td>1</td>\n",
       "      <td>0</td>\n",
       "      <td>0</td>\n",
       "    </tr>\n",
       "    <tr>\n",
       "      <th>Actual 3</th>\n",
       "      <td>143</td>\n",
       "      <td>21</td>\n",
       "      <td>10</td>\n",
       "      <td>0</td>\n",
       "      <td>0</td>\n",
       "    </tr>\n",
       "    <tr>\n",
       "      <th>Actual 4</th>\n",
       "      <td>0</td>\n",
       "      <td>20</td>\n",
       "      <td>0</td>\n",
       "      <td>0</td>\n",
       "      <td>0</td>\n",
       "    </tr>\n",
       "    <tr>\n",
       "      <th>Actual 5</th>\n",
       "      <td>2</td>\n",
       "      <td>22</td>\n",
       "      <td>0</td>\n",
       "      <td>0</td>\n",
       "      <td>0</td>\n",
       "    </tr>\n",
       "  </tbody>\n",
       "</table>\n",
       "</div>"
      ],
      "text/plain": [
       "          Predicted 1  Predicted 2  Predicted 3  Predicted 4  Predicted 5\n",
       "Actual 1          404           30            6            0            0\n",
       "Actual 2           23          297            1            0            0\n",
       "Actual 3          143           21           10            0            0\n",
       "Actual 4            0           20            0            0            0\n",
       "Actual 5            2           22            0            0            0"
      ]
     },
     "metadata": {},
     "output_type": "display_data"
    },
    {
     "name": "stdout",
     "output_type": "stream",
     "text": [
      "Accuracy Score : 0.7262512768130746\n",
      "Classification Report\n",
      "              precision    recall  f1-score   support\n",
      "\n",
      "          CB       0.71      0.92      0.80       440\n",
      "          LB       0.76      0.93      0.84       321\n",
      "         LCB       0.59      0.06      0.10       174\n",
      "         LWB       0.00      0.00      0.00        20\n",
      "         RWB       0.00      0.00      0.00        24\n",
      "\n",
      "    accuracy                           0.73       979\n",
      "   macro avg       0.41      0.38      0.35       979\n",
      "weighted avg       0.67      0.73      0.65       979\n",
      "\n"
     ]
    },
    {
     "name": "stderr",
     "output_type": "stream",
     "text": [
      "C:\\Users\\alexv\\anaconda3\\envs\\PythonData\\lib\\site-packages\\sklearn\\metrics\\_classification.py:1248: UndefinedMetricWarning: Precision and F-score are ill-defined and being set to 0.0 in labels with no predicted samples. Use `zero_division` parameter to control this behavior.\n",
      "  _warn_prf(average, modifier, msg_start, len(result))\n",
      "C:\\Users\\alexv\\anaconda3\\envs\\PythonData\\lib\\site-packages\\sklearn\\metrics\\_classification.py:1248: UndefinedMetricWarning: Precision and F-score are ill-defined and being set to 0.0 in labels with no predicted samples. Use `zero_division` parameter to control this behavior.\n",
      "  _warn_prf(average, modifier, msg_start, len(result))\n",
      "C:\\Users\\alexv\\anaconda3\\envs\\PythonData\\lib\\site-packages\\sklearn\\metrics\\_classification.py:1248: UndefinedMetricWarning: Precision and F-score are ill-defined and being set to 0.0 in labels with no predicted samples. Use `zero_division` parameter to control this behavior.\n",
      "  _warn_prf(average, modifier, msg_start, len(result))\n"
     ]
    }
   ],
   "source": [
    "acc_score = accuracy_score(y_test, predictions)\n",
    "\n",
    "# Displaying results\n",
    "print(\"Confusion Matrix\")\n",
    "display(cm_df)\n",
    "print(f\"Accuracy Score : {acc_score}\")\n",
    "print(\"Classification Report\")\n",
    "print(classification_report(y_test, predictions))"
   ]
  },
  {
   "cell_type": "code",
   "execution_count": null,
   "metadata": {},
   "outputs": [],
   "source": []
  },
  {
   "cell_type": "code",
   "execution_count": null,
   "metadata": {},
   "outputs": [],
   "source": []
  },
  {
   "cell_type": "code",
   "execution_count": null,
   "metadata": {},
   "outputs": [],
   "source": []
  }
 ],
 "metadata": {
  "kernelspec": {
   "display_name": "Python [conda env:PythonData] *",
   "language": "python",
   "name": "conda-env-PythonData-py"
  },
  "language_info": {
   "codemirror_mode": {
    "name": "ipython",
    "version": 3
   },
   "file_extension": ".py",
   "mimetype": "text/x-python",
   "name": "python",
   "nbconvert_exporter": "python",
   "pygments_lexer": "ipython3",
   "version": "3.8.5"
  },
  "toc": {
   "base_numbering": 1,
   "nav_menu": {},
   "number_sections": true,
   "sideBar": true,
   "skip_h1_title": false,
   "title_cell": "Table of Contents",
   "title_sidebar": "Contents",
   "toc_cell": false,
   "toc_position": {},
   "toc_section_display": true,
   "toc_window_display": false
  },
  "varInspector": {
   "cols": {
    "lenName": 16,
    "lenType": 16,
    "lenVar": 40
   },
   "kernels_config": {
    "python": {
     "delete_cmd_postfix": "",
     "delete_cmd_prefix": "del ",
     "library": "var_list.py",
     "varRefreshCmd": "print(var_dic_list())"
    },
    "r": {
     "delete_cmd_postfix": ") ",
     "delete_cmd_prefix": "rm(",
     "library": "var_list.r",
     "varRefreshCmd": "cat(var_dic_list()) "
    }
   },
   "types_to_exclude": [
    "module",
    "function",
    "builtin_function_or_method",
    "instance",
    "_Feature"
   ],
   "window_display": false
  }
 },
 "nbformat": 4,
 "nbformat_minor": 4
}
