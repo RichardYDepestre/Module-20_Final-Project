{
 "cells": [
  {
   "cell_type": "code",
   "execution_count": 1,
   "metadata": {
    "ExecuteTime": {
     "end_time": "2021-07-19T01:11:09.401919Z",
     "start_time": "2021-07-19T01:11:06.759822Z"
    }
   },
   "outputs": [],
   "source": [
    "import pandas as pd\n",
    "import matplotlib as mpl\n",
    "import matplotlib.pyplot as plt\n",
    "from matplotlib import style\n",
    "from sklearn.model_selection import train_test_split\n",
    "from sklearn.linear_model import LinearRegression\n",
    "from sklearn.metrics import mean_squared_error\n",
    "import statsmodels.api as sm\n",
    "import numpy as np\n",
    "from sklearn.preprocessing import StandardScaler\n",
    "from sklearn.model_selection import train_test_split\n",
    "from sklearn.metrics import confusion_matrix, accuracy_score, classification_report\n",
    "# Dependencies\n",
    "import pandas as pd\n",
    "import numpy as np\n",
    "from sklearn.model_selection import train_test_split, GridSearchCV\n",
    "from sklearn.preprocessing import MinMaxScaler\n",
    "from sklearn.ensemble import RandomForestClassifier\n",
    "from sklearn.metrics import classification_report\n",
    "from sklearn.preprocessing import LabelEncoder\n"
   ]
  },
  {
   "cell_type": "code",
   "execution_count": 2,
   "metadata": {
    "ExecuteTime": {
     "end_time": "2021-07-19T01:11:09.456768Z",
     "start_time": "2021-07-19T01:11:09.404906Z"
    }
   },
   "outputs": [],
   "source": [
    "\n",
    "file_path ='resources/defenders.csv'\n",
    "defenders_df = pd.read_csv(file_path)\n",
    "defenders_df['rating'] = (defenders_df['potential'].astype(int) + defenders_df['overall'].astype(int))/2\n",
    "defenders_df['rating'] = defenders_df['rating'].apply(np.int64)\n"
   ]
  },
  {
   "cell_type": "code",
   "execution_count": 3,
   "metadata": {
    "ExecuteTime": {
     "end_time": "2021-07-19T01:11:09.466740Z",
     "start_time": "2021-07-19T01:11:09.458765Z"
    },
    "scrolled": true
   },
   "outputs": [
    {
     "data": {
      "text/plain": [
       "Index(['overall', 'potential', 'work_rate', 'field_position', 'height',\n",
       "       'weight', 'crossing', 'finishing', 'heading_accuracy', 'short_passing',\n",
       "       'volleys', 'dribbling', 'curve', 'fk_accuracy', 'long_passing',\n",
       "       'ball_control', 'acceleration', 'sprint_speed', 'agility', 'reactions',\n",
       "       'balance', 'shot_power', 'jumping', 'stamina', 'strength', 'long_shots',\n",
       "       'aggression', 'interceptions', 'positioning', 'vision', 'penalties',\n",
       "       'composure', 'marking', 'standing_tackle', 'sliding_tackle',\n",
       "       'gk_diving', 'gk_handling', 'gk_kicking', 'gk_positioning',\n",
       "       'gk_reflexes', 'rating'],\n",
       "      dtype='object')"
      ]
     },
     "execution_count": 3,
     "metadata": {},
     "output_type": "execute_result"
    }
   ],
   "source": [
    "defenders_df.columns\n"
   ]
  },
  {
   "cell_type": "code",
   "execution_count": 5,
   "metadata": {
    "ExecuteTime": {
     "end_time": "2021-07-19T01:11:33.361685Z",
     "start_time": "2021-07-19T01:11:33.354705Z"
    }
   },
   "outputs": [],
   "source": [
    "le = LabelEncoder()\n",
    "defenders_df['work_rate'] = le.fit_transform(defenders_df['work_rate'])"
   ]
  },
  {
   "cell_type": "code",
   "execution_count": 6,
   "metadata": {
    "ExecuteTime": {
     "end_time": "2021-07-19T01:11:59.609343Z",
     "start_time": "2021-07-19T01:11:59.593351Z"
    }
   },
   "outputs": [],
   "source": [
    "#height Column\n",
    "def clean_height(x):\n",
    "    l=[]\n",
    "    s=1\n",
    "    if isinstance(x,str):\n",
    "        l=x.split(\"'\")\n",
    "        i=int(l[0])\n",
    "        j=int(l[1])\n",
    "        s=((i*12)+j)/12\n",
    "    return(s)\n",
    "\n",
    "\n",
    "defenders_df['height'] = defenders_df['height'].apply(clean_height)\n",
    "defenders_df['height'].fillna((defenders_df['height'].mean()), inplace = True)"
   ]
  },
  {
   "cell_type": "code",
   "execution_count": 7,
   "metadata": {
    "ExecuteTime": {
     "end_time": "2021-07-19T01:12:00.401583Z",
     "start_time": "2021-07-19T01:12:00.392606Z"
    }
   },
   "outputs": [],
   "source": [
    "#weight Column\n",
    "def clean_weight(x):\n",
    "    \n",
    "    if isinstance(x,str):\n",
    "        return(x.replace('lbs', ''))\n",
    "    return(x)\n",
    "\n",
    "defenders_df['weight'] = defenders_df['weight'].apply(clean_weight).astype('float')\n",
    "defenders_df['weight'].fillna((defenders_df['weight'].mean()), inplace = True)"
   ]
  },
  {
   "cell_type": "code",
   "execution_count": 8,
   "metadata": {
    "ExecuteTime": {
     "end_time": "2021-07-19T01:12:01.978415Z",
     "start_time": "2021-07-19T01:12:01.970418Z"
    }
   },
   "outputs": [
    {
     "name": "stdout",
     "output_type": "stream",
     "text": [
      "(3913, 40) (3913,)\n"
     ]
    }
   ],
   "source": [
    "# Set features. This will also be used as x values.\n",
    "X = defenders_df.drop(['field_position'], axis=1)\n",
    "y = defenders_df[\"field_position\"]\n",
    "print(X.shape, y.shape)"
   ]
  },
  {
   "cell_type": "code",
   "execution_count": 9,
   "metadata": {
    "ExecuteTime": {
     "end_time": "2021-07-19T01:12:02.671058Z",
     "start_time": "2021-07-19T01:12:02.663078Z"
    }
   },
   "outputs": [],
   "source": [
    "# Split data into training and testing groups and scale data \n",
    "X_train, X_test, y_train, y_test = train_test_split(X, y, test_size = .25)\n"
   ]
  },
  {
   "cell_type": "code",
   "execution_count": 10,
   "metadata": {
    "ExecuteTime": {
     "end_time": "2021-07-19T01:12:05.304892Z",
     "start_time": "2021-07-19T01:12:03.149778Z"
    }
   },
   "outputs": [
    {
     "data": {
      "text/plain": [
       "RandomForestClassifier(n_estimators=250, random_state=24)"
      ]
     },
     "execution_count": 10,
     "metadata": {},
     "output_type": "execute_result"
    }
   ],
   "source": [
    "# Fit the data into model\n",
    "rfm = RandomForestClassifier(n_estimators=250, random_state=24)\n",
    "rfm.fit(X_train, y_train)"
   ]
  },
  {
   "cell_type": "code",
   "execution_count": 11,
   "metadata": {
    "ExecuteTime": {
     "end_time": "2021-07-19T01:12:05.585640Z",
     "start_time": "2021-07-19T01:12:05.549736Z"
    }
   },
   "outputs": [
    {
     "data": {
      "text/plain": [
       "[(0.10244506364998689, 'crossing'),\n",
       " (0.0655324242139546, 'positioning'),\n",
       " (0.061506205865902226, 'dribbling'),\n",
       " (0.053623391371630226, 'acceleration'),\n",
       " (0.042936822685530916, 'strength'),\n",
       " (0.040934019205349115, 'heading_accuracy'),\n",
       " (0.03974752816378696, 'agility'),\n",
       " (0.03259601042842198, 'height'),\n",
       " (0.03256819784617125, 'sprint_speed'),\n",
       " (0.025912343689659417, 'balance'),\n",
       " (0.025697671884937857, 'stamina'),\n",
       " (0.02526720261550117, 'curve'),\n",
       " (0.021252743451256474, 'ball_control'),\n",
       " (0.02063690836986336, 'jumping'),\n",
       " (0.019663191878550153, 'weight'),\n",
       " (0.018494742289768752, 'interceptions'),\n",
       " (0.01825607832143649, 'vision'),\n",
       " (0.018026676515504672, 'finishing'),\n",
       " (0.01791614592136922, 'overall'),\n",
       " (0.017584324002415514, 'penalties'),\n",
       " (0.017581741113618904, 'fk_accuracy'),\n",
       " (0.017491685044373966, 'aggression'),\n",
       " (0.017415664577819064, 'composure'),\n",
       " (0.01733680414928043, 'marking'),\n",
       " (0.016756662960408234, 'long_shots'),\n",
       " (0.016481724406211016, 'volleys'),\n",
       " (0.01643328231332577, 'shot_power'),\n",
       " (0.016257023866328664, 'standing_tackle'),\n",
       " (0.016242111316209538, 'long_passing'),\n",
       " (0.016035781028578198, 'short_passing'),\n",
       " (0.015627654396629616, 'reactions'),\n",
       " (0.015287100059439963, 'rating'),\n",
       " (0.015000023557617377, 'potential'),\n",
       " (0.01482141996637044, 'sliding_tackle'),\n",
       " (0.012873148047508836, 'gk_handling'),\n",
       " (0.012810146501879876, 'gk_diving'),\n",
       " (0.012324175749753882, 'gk_reflexes'),\n",
       " (0.012281132520534283, 'gk_kicking'),\n",
       " (0.011803729110621254, 'gk_positioning'),\n",
       " (0.008541296942493361, 'work_rate')]"
      ]
     },
     "execution_count": 11,
     "metadata": {},
     "output_type": "execute_result"
    }
   ],
   "source": [
    "sorted(zip(rfm.feature_importances_, X.columns), reverse=True)\n"
   ]
  },
  {
   "cell_type": "code",
   "execution_count": 12,
   "metadata": {
    "ExecuteTime": {
     "end_time": "2021-07-19T01:12:06.410398Z",
     "start_time": "2021-07-19T01:12:05.804506Z"
    }
   },
   "outputs": [
    {
     "name": "stdout",
     "output_type": "stream",
     "text": [
      "Training Data Score: 1.0\n",
      "Testing Data Score: 0.7405515832482125\n"
     ]
    }
   ],
   "source": [
    "predictions = rfm.predict(X_test)\n",
    "base_train_accuracy = round(rfm.score(X_train, y_train))#*100,3)\n",
    "base_test_accuracy = round(rfm.score(X_test, y_test))#*100,3)\n",
    "print(f\"Training Data Score: {rfm.score(X_train, y_train)}\")\n",
    "print(f\"Testing Data Score: {rfm.score(X_test, y_test)}\")"
   ]
  },
  {
   "cell_type": "code",
   "execution_count": 13,
   "metadata": {
    "ExecuteTime": {
     "end_time": "2021-07-19T01:12:06.686659Z",
     "start_time": "2021-07-19T01:12:06.650755Z"
    }
   },
   "outputs": [
    {
     "name": "stdout",
     "output_type": "stream",
     "text": [
      "              precision    recall  f1-score   support\n",
      "\n",
      "          CB       0.70      0.95      0.80       438\n",
      "          LB       0.81      0.91      0.86       333\n",
      "         LCB       0.73      0.05      0.09       172\n",
      "         LWB       0.00      0.00      0.00        15\n",
      "         RWB       0.00      0.00      0.00        21\n",
      "\n",
      "    accuracy                           0.74       979\n",
      "   macro avg       0.45      0.38      0.35       979\n",
      "weighted avg       0.72      0.74      0.67       979\n",
      "\n"
     ]
    },
    {
     "name": "stderr",
     "output_type": "stream",
     "text": [
      "C:\\Users\\alexv\\anaconda3\\envs\\PythonData\\lib\\site-packages\\sklearn\\metrics\\_classification.py:1248: UndefinedMetricWarning: Precision and F-score are ill-defined and being set to 0.0 in labels with no predicted samples. Use `zero_division` parameter to control this behavior.\n",
      "  _warn_prf(average, modifier, msg_start, len(result))\n",
      "C:\\Users\\alexv\\anaconda3\\envs\\PythonData\\lib\\site-packages\\sklearn\\metrics\\_classification.py:1248: UndefinedMetricWarning: Precision and F-score are ill-defined and being set to 0.0 in labels with no predicted samples. Use `zero_division` parameter to control this behavior.\n",
      "  _warn_prf(average, modifier, msg_start, len(result))\n",
      "C:\\Users\\alexv\\anaconda3\\envs\\PythonData\\lib\\site-packages\\sklearn\\metrics\\_classification.py:1248: UndefinedMetricWarning: Precision and F-score are ill-defined and being set to 0.0 in labels with no predicted samples. Use `zero_division` parameter to control this behavior.\n",
      "  _warn_prf(average, modifier, msg_start, len(result))\n"
     ]
    }
   ],
   "source": [
    "print(classification_report(y_test, predictions))\n"
   ]
  },
  {
   "cell_type": "code",
   "execution_count": 14,
   "metadata": {
    "ExecuteTime": {
     "end_time": "2021-07-19T01:12:06.955938Z",
     "start_time": "2021-07-19T01:12:06.937987Z"
    }
   },
   "outputs": [
    {
     "data": {
      "text/html": [
       "<div>\n",
       "<style scoped>\n",
       "    .dataframe tbody tr th:only-of-type {\n",
       "        vertical-align: middle;\n",
       "    }\n",
       "\n",
       "    .dataframe tbody tr th {\n",
       "        vertical-align: top;\n",
       "    }\n",
       "\n",
       "    .dataframe thead th {\n",
       "        text-align: right;\n",
       "    }\n",
       "</style>\n",
       "<table border=\"1\" class=\"dataframe\">\n",
       "  <thead>\n",
       "    <tr style=\"text-align: right;\">\n",
       "      <th></th>\n",
       "      <th>Predicted 1</th>\n",
       "      <th>Predicted 2</th>\n",
       "      <th>Predicted 3</th>\n",
       "      <th>Predicted 4</th>\n",
       "      <th>Predicted 5</th>\n",
       "    </tr>\n",
       "  </thead>\n",
       "  <tbody>\n",
       "    <tr>\n",
       "      <th>Actual 1</th>\n",
       "      <td>414</td>\n",
       "      <td>21</td>\n",
       "      <td>3</td>\n",
       "      <td>0</td>\n",
       "      <td>0</td>\n",
       "    </tr>\n",
       "    <tr>\n",
       "      <th>Actual 2</th>\n",
       "      <td>30</td>\n",
       "      <td>303</td>\n",
       "      <td>0</td>\n",
       "      <td>0</td>\n",
       "      <td>0</td>\n",
       "    </tr>\n",
       "    <tr>\n",
       "      <th>Actual 3</th>\n",
       "      <td>147</td>\n",
       "      <td>17</td>\n",
       "      <td>8</td>\n",
       "      <td>0</td>\n",
       "      <td>0</td>\n",
       "    </tr>\n",
       "    <tr>\n",
       "      <th>Actual 4</th>\n",
       "      <td>0</td>\n",
       "      <td>15</td>\n",
       "      <td>0</td>\n",
       "      <td>0</td>\n",
       "      <td>0</td>\n",
       "    </tr>\n",
       "    <tr>\n",
       "      <th>Actual 5</th>\n",
       "      <td>3</td>\n",
       "      <td>18</td>\n",
       "      <td>0</td>\n",
       "      <td>0</td>\n",
       "      <td>0</td>\n",
       "    </tr>\n",
       "  </tbody>\n",
       "</table>\n",
       "</div>"
      ],
      "text/plain": [
       "          Predicted 1  Predicted 2  Predicted 3  Predicted 4  Predicted 5\n",
       "Actual 1          414           21            3            0            0\n",
       "Actual 2           30          303            0            0            0\n",
       "Actual 3          147           17            8            0            0\n",
       "Actual 4            0           15            0            0            0\n",
       "Actual 5            3           18            0            0            0"
      ]
     },
     "metadata": {},
     "output_type": "display_data"
    }
   ],
   "source": [
    "from sklearn.metrics import confusion_matrix, accuracy_score, classification_report\n",
    "\n",
    "# Calculating the confusion matrix.\n",
    "cm = confusion_matrix(y_test, predictions)\n",
    "# display(cm)\n",
    "# print(y_test.shape)\n",
    "# print(y_test.shape)\n",
    "y_test\n",
    "predictions\n",
    "\n",
    "# Create a DataFrame from the confusion matrix.\n",
    "cm_df = pd.DataFrame(cm, index=[\"Actual 1\", \"Actual 2\", \"Actual 3\", \n",
    "                                \"Actual 4\", \"Actual 5\"], \n",
    "                     columns=[\"Predicted 1\", \"Predicted 2\", \"Predicted 3\", \n",
    "                                \"Predicted 4\", \"Predicted 5\"])\n",
    "display(cm_df)"
   ]
  },
  {
   "cell_type": "code",
   "execution_count": 15,
   "metadata": {
    "ExecuteTime": {
     "end_time": "2021-07-19T01:12:07.238457Z",
     "start_time": "2021-07-19T01:12:07.198564Z"
    }
   },
   "outputs": [
    {
     "name": "stdout",
     "output_type": "stream",
     "text": [
      "Confusion Matrix\n"
     ]
    },
    {
     "data": {
      "text/html": [
       "<div>\n",
       "<style scoped>\n",
       "    .dataframe tbody tr th:only-of-type {\n",
       "        vertical-align: middle;\n",
       "    }\n",
       "\n",
       "    .dataframe tbody tr th {\n",
       "        vertical-align: top;\n",
       "    }\n",
       "\n",
       "    .dataframe thead th {\n",
       "        text-align: right;\n",
       "    }\n",
       "</style>\n",
       "<table border=\"1\" class=\"dataframe\">\n",
       "  <thead>\n",
       "    <tr style=\"text-align: right;\">\n",
       "      <th></th>\n",
       "      <th>Predicted 1</th>\n",
       "      <th>Predicted 2</th>\n",
       "      <th>Predicted 3</th>\n",
       "      <th>Predicted 4</th>\n",
       "      <th>Predicted 5</th>\n",
       "    </tr>\n",
       "  </thead>\n",
       "  <tbody>\n",
       "    <tr>\n",
       "      <th>Actual 1</th>\n",
       "      <td>414</td>\n",
       "      <td>21</td>\n",
       "      <td>3</td>\n",
       "      <td>0</td>\n",
       "      <td>0</td>\n",
       "    </tr>\n",
       "    <tr>\n",
       "      <th>Actual 2</th>\n",
       "      <td>30</td>\n",
       "      <td>303</td>\n",
       "      <td>0</td>\n",
       "      <td>0</td>\n",
       "      <td>0</td>\n",
       "    </tr>\n",
       "    <tr>\n",
       "      <th>Actual 3</th>\n",
       "      <td>147</td>\n",
       "      <td>17</td>\n",
       "      <td>8</td>\n",
       "      <td>0</td>\n",
       "      <td>0</td>\n",
       "    </tr>\n",
       "    <tr>\n",
       "      <th>Actual 4</th>\n",
       "      <td>0</td>\n",
       "      <td>15</td>\n",
       "      <td>0</td>\n",
       "      <td>0</td>\n",
       "      <td>0</td>\n",
       "    </tr>\n",
       "    <tr>\n",
       "      <th>Actual 5</th>\n",
       "      <td>3</td>\n",
       "      <td>18</td>\n",
       "      <td>0</td>\n",
       "      <td>0</td>\n",
       "      <td>0</td>\n",
       "    </tr>\n",
       "  </tbody>\n",
       "</table>\n",
       "</div>"
      ],
      "text/plain": [
       "          Predicted 1  Predicted 2  Predicted 3  Predicted 4  Predicted 5\n",
       "Actual 1          414           21            3            0            0\n",
       "Actual 2           30          303            0            0            0\n",
       "Actual 3          147           17            8            0            0\n",
       "Actual 4            0           15            0            0            0\n",
       "Actual 5            3           18            0            0            0"
      ]
     },
     "metadata": {},
     "output_type": "display_data"
    },
    {
     "name": "stdout",
     "output_type": "stream",
     "text": [
      "Accuracy Score : 0.7405515832482125\n",
      "Classification Report\n",
      "              precision    recall  f1-score   support\n",
      "\n",
      "          CB       0.70      0.95      0.80       438\n",
      "          LB       0.81      0.91      0.86       333\n",
      "         LCB       0.73      0.05      0.09       172\n",
      "         LWB       0.00      0.00      0.00        15\n",
      "         RWB       0.00      0.00      0.00        21\n",
      "\n",
      "    accuracy                           0.74       979\n",
      "   macro avg       0.45      0.38      0.35       979\n",
      "weighted avg       0.72      0.74      0.67       979\n",
      "\n"
     ]
    },
    {
     "name": "stderr",
     "output_type": "stream",
     "text": [
      "C:\\Users\\alexv\\anaconda3\\envs\\PythonData\\lib\\site-packages\\sklearn\\metrics\\_classification.py:1248: UndefinedMetricWarning: Precision and F-score are ill-defined and being set to 0.0 in labels with no predicted samples. Use `zero_division` parameter to control this behavior.\n",
      "  _warn_prf(average, modifier, msg_start, len(result))\n",
      "C:\\Users\\alexv\\anaconda3\\envs\\PythonData\\lib\\site-packages\\sklearn\\metrics\\_classification.py:1248: UndefinedMetricWarning: Precision and F-score are ill-defined and being set to 0.0 in labels with no predicted samples. Use `zero_division` parameter to control this behavior.\n",
      "  _warn_prf(average, modifier, msg_start, len(result))\n",
      "C:\\Users\\alexv\\anaconda3\\envs\\PythonData\\lib\\site-packages\\sklearn\\metrics\\_classification.py:1248: UndefinedMetricWarning: Precision and F-score are ill-defined and being set to 0.0 in labels with no predicted samples. Use `zero_division` parameter to control this behavior.\n",
      "  _warn_prf(average, modifier, msg_start, len(result))\n"
     ]
    }
   ],
   "source": [
    "acc_score = accuracy_score(y_test, predictions)\n",
    "\n",
    "# Displaying results\n",
    "print(\"Confusion Matrix\")\n",
    "display(cm_df)\n",
    "print(f\"Accuracy Score : {acc_score}\")\n",
    "print(\"Classification Report\")\n",
    "print(classification_report(y_test, predictions))"
   ]
  },
  {
   "cell_type": "code",
   "execution_count": null,
   "metadata": {},
   "outputs": [],
   "source": []
  },
  {
   "cell_type": "code",
   "execution_count": null,
   "metadata": {},
   "outputs": [],
   "source": []
  },
  {
   "cell_type": "code",
   "execution_count": null,
   "metadata": {},
   "outputs": [],
   "source": []
  }
 ],
 "metadata": {
  "kernelspec": {
   "display_name": "Python [conda env:PythonData] *",
   "language": "python",
   "name": "conda-env-PythonData-py"
  },
  "language_info": {
   "codemirror_mode": {
    "name": "ipython",
    "version": 3
   },
   "file_extension": ".py",
   "mimetype": "text/x-python",
   "name": "python",
   "nbconvert_exporter": "python",
   "pygments_lexer": "ipython3",
   "version": "3.8.5"
  },
  "toc": {
   "base_numbering": 1,
   "nav_menu": {},
   "number_sections": true,
   "sideBar": true,
   "skip_h1_title": false,
   "title_cell": "Table of Contents",
   "title_sidebar": "Contents",
   "toc_cell": false,
   "toc_position": {},
   "toc_section_display": true,
   "toc_window_display": false
  },
  "varInspector": {
   "cols": {
    "lenName": 16,
    "lenType": 16,
    "lenVar": 40
   },
   "kernels_config": {
    "python": {
     "delete_cmd_postfix": "",
     "delete_cmd_prefix": "del ",
     "library": "var_list.py",
     "varRefreshCmd": "print(var_dic_list())"
    },
    "r": {
     "delete_cmd_postfix": ") ",
     "delete_cmd_prefix": "rm(",
     "library": "var_list.r",
     "varRefreshCmd": "cat(var_dic_list()) "
    }
   },
   "types_to_exclude": [
    "module",
    "function",
    "builtin_function_or_method",
    "instance",
    "_Feature"
   ],
   "window_display": false
  }
 },
 "nbformat": 4,
 "nbformat_minor": 4
}
