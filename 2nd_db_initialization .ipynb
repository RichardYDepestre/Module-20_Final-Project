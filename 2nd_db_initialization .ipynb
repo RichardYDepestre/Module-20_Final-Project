{
 "cells": [
  {
   "cell_type": "code",
   "execution_count": 1,
   "metadata": {
    "ExecuteTime": {
     "end_time": "2021-07-18T02:21:34.442655Z",
     "start_time": "2021-07-18T02:21:34.295536Z"
    }
   },
   "outputs": [],
   "source": [
    "%run 1st_Functions.ipynb "
   ]
  },
  {
   "cell_type": "code",
   "execution_count": 2,
   "metadata": {
    "ExecuteTime": {
     "end_time": "2021-07-18T02:21:34.451632Z",
     "start_time": "2021-07-18T02:21:34.444650Z"
    }
   },
   "outputs": [],
   "source": [
    "# SQL command to create players table\n",
    "create_table = \"\"\"\n",
    "    DROP TABLE IF EXISTS players;\n",
    "    CREATE TABLE players \n",
    "    (\n",
    "        Player_ID int NOT NULL, \n",
    "        Player_Name VARCHAR(70) NOT NULL, \n",
    "        Age FLOAT NOT NULL, \n",
    "        Photo varchar(50) NULL, \n",
    "        Nationality VARCHAR(50) NOT NULL,\n",
    "        Country_Flag VARCHAR(50) NOT NULL,\n",
    "        Overall VARCHAR(50) NOT NULL,\n",
    "        Potential VARCHAR(50) NOT NULL,\n",
    "        Club VARCHAR(50) NULL,\n",
    "        Club_Logo VARCHAR(50) NULL,\n",
    "        Contract_Value VARCHAR(50) NULL,\n",
    "        Wage VARCHAR(50) NULL,\n",
    "        Special VARCHAR(50) NOT NULL,\n",
    "        Preferred_Foot VARCHAR(50) NULL,\n",
    "        International_Reputation VARCHAR(50) NULL,\n",
    "        Weak_Foot VARCHAR(50) NULL,\n",
    "        Skills_Moves VARCHAR(50) NULL,\n",
    "        Work_Rate VARCHAR(50) NULL,\n",
    "        Body_Type VARCHAR(50) NULL,\n",
    "        Real_Face VARCHAR(50) NULL,\n",
    "        Field_Position VARCHAR(50)  NULL,\n",
    "        Jersey_Number VARCHAR(50) NULL,\n",
    "        Joined VARCHAR(50) NULL,\n",
    "        Loaned_From VARCHAR(50) NULL,\n",
    "        Contract_Valid_Until VARCHAR(50) NULL,\n",
    "        Height VARCHAR(50) NULL,\n",
    "        Weight VARCHAR(50) NULL,\n",
    "        LS VARCHAR(5) NULL,ST VARCHAR(5) NULL\t,RS VARCHAR(5) NULL\t,LW VARCHAR(5) NULL\t,LF\t VARCHAR(5) NULL,CF\t VARCHAR(5) NULL,RF\t VARCHAR(5) NULL,\n",
    "        RW VARCHAR(5) NULL\t,LAM VARCHAR(5) NULL,\tCAM VARCHAR(5) NULL,\tRAM VARCHAR(5) NULL,\tLM VARCHAR(5) NULL,\tLCM VARCHAR(5) NULL,\tCM VARCHAR(5) NULL,\n",
    "        RCM VARCHAR(5) NULL,\tRM VARCHAR(5) NULL,\tLWB VARCHAR(5) NULL,\tLDM VARCHAR(5) NULL,\tCDM VARCHAR(5) NULL,\tRDM VARCHAR(5) NULL,\n",
    "        RWB VARCHAR(5) NULL,\tLB VARCHAR(5) NULL,\tLCB VARCHAR(5) NULL,\tCB VARCHAR(5) NULL,\tRCB VARCHAR(5) NULL,\tRB VARCHAR(5) NULL,\n",
    "        Crossing VARCHAR(5) DEFAULT 0,\n",
    "        Finishing  VARCHAR(5) DEFAULT 0,\n",
    "        Heading_Accuracy VARCHAR(5) DEFAULT 0,\n",
    "        Short_Passing VARCHAR(5) DEFAULT 0,\n",
    "        Volleys VARCHAR(5) DEFAULT 0,\n",
    "        Dribbling VARCHAR(5) DEFAULT 0,\n",
    "        Curve VARCHAR(5) DEFAULT 0,\n",
    "        FK_Accuracy VARCHAR(5) DEFAULT 0,\n",
    "        Long_Passing VARCHAR(5) DEFAULT 0,\n",
    "        Ball_Control VARCHAR(5) DEFAULT 0,\n",
    "        Acceleration VARCHAR(5) DEFAULT 0,\n",
    "        Sprint_Speed VARCHAR(5) DEFAULT 0,\n",
    "        Agility VARCHAR(5) DEFAULT 0,\n",
    "        Reactions VARCHAR(5) DEFAULT 0,\n",
    "        Balance VARCHAR(5) DEFAULT 0,\n",
    "        Shot_Power VARCHAR(5) DEFAULT 0,\n",
    "        Jumping VARCHAR(5) DEFAULT 0,\n",
    "        Stamina VARCHAR(5) DEFAULT 0,\n",
    "        Strength VARCHAR(5) DEFAULT 0,\n",
    "        Long_Shots VARCHAR(5) DEFAULT 0,\n",
    "        Aggression VARCHAR(5) DEFAULT 0,\n",
    "        Interceptions VARCHAR(5) DEFAULT 0,\n",
    "        Positioning VARCHAR(5) DEFAULT 0,\n",
    "        Vision VARCHAR(5) DEFAULT 0,\n",
    "        Penalties VARCHAR(5) DEFAULT 0,\n",
    "        Composure VARCHAR(5) DEFAULT 0,\n",
    "        Marking VARCHAR(5) DEFAULT 0,\n",
    "        Standing_Tackle VARCHAR(5) DEFAULT 0,\n",
    "        Sliding_Tackle VARCHAR(5) DEFAULT 0,\n",
    "        GK_Diving VARCHAR(5) DEFAULT 0,\t\n",
    "        GK_Handling VARCHAR(5) DEFAULT 0,\n",
    "        GK_Kicking VARCHAR(5) DEFAULT 0,\n",
    "        GK_Positioning VARCHAR(5) DEFAULT 0,\n",
    "        GK_Reflexes VARCHAR(5) DEFAULT 0,\n",
    "        Release_Clause VARCHAR(50) NULL,\n",
    "        PRIMARY KEY (Player_ID)\n",
    "    );\n",
    "    \"\"\""
   ]
  },
  {
   "cell_type": "code",
   "execution_count": 3,
   "metadata": {
    "ExecuteTime": {
     "end_time": "2021-07-18T02:21:34.468587Z",
     "start_time": "2021-07-18T02:21:34.454624Z"
    }
   },
   "outputs": [],
   "source": [
    "# Test data loading\n",
    "def data_load(cursor):\n",
    "    import pandas\n",
    "\n",
    "    sql = \"\"\" SELECT * from players\"\"\"\n",
    "    df = pandas.read_sql(sql, con=conn)\n",
    "    return df"
   ]
  },
  {
   "cell_type": "code",
   "execution_count": 4,
   "metadata": {
    "ExecuteTime": {
     "end_time": "2021-07-18T02:21:41.727358Z",
     "start_time": "2021-07-18T02:21:34.470582Z"
    }
   },
   "outputs": [
    {
     "name": "stdout",
     "output_type": "stream",
     "text": [
      "<connection object at 0x0000025AF8EA58C0; dsn: 'user=postgres password=xxx dbname=fifa-players-prediction host=fifa-players-prediction.c05nwfquwc6t.us-east-1.rds.amazonaws.com port=5432', closed: 0>\n",
      "Connected!\n"
     ]
    }
   ],
   "source": [
    "conn, cursor= connect()\n",
    "\n",
    "# Execute SQL Command and commit to DB\n",
    "cursor.execute(create_table)\n",
    "\n",
    "# Load csv raw data onto database\n",
    "load_data_onto_db(cursor)\n",
    "conn.commit()\n",
    "\n",
    "# all_fifa_data_df = data_load(cursor)\n",
    "# %store all_fifa_data_df\n",
    "\n",
    "# Disconnect from DB\n",
    "disconnect(conn, cursor)"
   ]
  },
  {
   "cell_type": "code",
   "execution_count": null,
   "metadata": {},
   "outputs": [],
   "source": []
  },
  {
   "cell_type": "code",
   "execution_count": null,
   "metadata": {},
   "outputs": [],
   "source": []
  }
 ],
 "metadata": {
  "interpreter": {
   "hash": "c8664c37d20d1a667b792eed6f68d26a151ec74784f499ac31579ebbdd16e46a"
  },
  "kernelspec": {
   "display_name": "Python 3",
   "language": "python",
   "name": "python3"
  },
  "language_info": {
   "codemirror_mode": {
    "name": "ipython",
    "version": 3
   },
   "file_extension": ".py",
   "mimetype": "text/x-python",
   "name": "python",
   "nbconvert_exporter": "python",
   "pygments_lexer": "ipython3",
   "version": "3.8.5"
  },
  "toc": {
   "base_numbering": 1,
   "nav_menu": {},
   "number_sections": true,
   "sideBar": true,
   "skip_h1_title": false,
   "title_cell": "Table of Contents",
   "title_sidebar": "Contents",
   "toc_cell": false,
   "toc_position": {},
   "toc_section_display": true,
   "toc_window_display": false
  },
  "varInspector": {
   "cols": {
    "lenName": 16,
    "lenType": 16,
    "lenVar": 40
   },
   "kernels_config": {
    "python": {
     "delete_cmd_postfix": "",
     "delete_cmd_prefix": "del ",
     "library": "var_list.py",
     "varRefreshCmd": "print(var_dic_list())"
    },
    "r": {
     "delete_cmd_postfix": ") ",
     "delete_cmd_prefix": "rm(",
     "library": "var_list.r",
     "varRefreshCmd": "cat(var_dic_list()) "
    }
   },
   "types_to_exclude": [
    "module",
    "function",
    "builtin_function_or_method",
    "instance",
    "_Feature"
   ],
   "window_display": false
  }
 },
 "nbformat": 4,
 "nbformat_minor": 2
}
