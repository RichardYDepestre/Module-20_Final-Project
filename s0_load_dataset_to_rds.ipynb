{
 "metadata": {
  "language_info": {
   "codemirror_mode": {
    "name": "ipython",
    "version": 3
   },
   "file_extension": ".py",
   "mimetype": "text/x-python",
   "name": "python",
   "nbconvert_exporter": "python",
   "pygments_lexer": "ipython3",
   "version": "3.9.5"
  },
  "orig_nbformat": 4,
  "kernelspec": {
   "name": "python3",
   "display_name": "Python 3.9.5 64-bit ('mlenv': conda)"
  },
  "interpreter": {
   "hash": "c8664c37d20d1a667b792eed6f68d26a151ec74784f499ac31579ebbdd16e46a"
  }
 },
 "nbformat": 4,
 "nbformat_minor": 2,
 "cells": [
  {
   "cell_type": "code",
   "execution_count": 1,
   "metadata": {},
   "outputs": [],
   "source": [
    "%run s0_fifa_players_functions.ipynb"
   ]
  },
  {
   "cell_type": "code",
   "execution_count": 2,
   "metadata": {},
   "outputs": [],
   "source": [
    "# SQL command to create players table\n",
    "create_table = \"\"\"\n",
    "    DROP TABLE IF EXISTS players;\n",
    "    CREATE TABLE players \n",
    "    (\n",
    "        Player_ID int NOT NULL, Player_Name VARCHAR(70) NOT NULL, Age FLOAT NOT NULL, Photo varchar(50) NULL, Nationality VARCHAR(50) NOT NULL,\n",
    "        Country_Flag VARCHAR(50) NOT NULL,Overall VARCHAR(50) NOT NULL,Potential VARCHAR(50) NOT NULL,Club VARCHAR(50) NULL,Club_Logo VARCHAR(50) NULL,\n",
    "        Contract_Value VARCHAR(50) NULL,Wage VARCHAR(50) NULL,Special VARCHAR(50) NOT NULL,Preferred_Foot VARCHAR(50) NULL,International_Reputation VARCHAR(50) NULL,\n",
    "        Weak_Foot VARCHAR(50) NULL,Skills_Moves VARCHAR(50) NULL,Work_Rate VARCHAR(50) NULL,Body_Type VARCHAR(50) NULL,Real_Face VARCHAR(50) NULL,\n",
    "        Field_Position VARCHAR(50)  NULL,Jersey_Number VARCHAR(50) NULL,Joined VARCHAR(50) NULL,Loaned_From VARCHAR(50) NULL,Contract_Valid_Until VARCHAR(50) NULL,\n",
    "        Height VARCHAR(50) NULL,Weight VARCHAR(50) NULL,Crossing FLOAT NULL,Finishing FLOAT  NULL,Heading_Accuracy FLOAT  NULL,Short_Passing FLOAT NULL,\n",
    "        Volleys FLOAT NULL,Dribbling FLOAT NULL,Curve FLOAT NULL,FK_Accuracy FLOAT NULL,Long_Passing FLOAT NULL,Ball_Control FLOAT NULL,Acceleration FLOAT NULL,\n",
    "        Sprint_Speed FLOAT NULL,Agility FLOAT NULL,Reactions FLOAT NULL,Balance FLOAT NULL,Shot_Power FLOAT NULL,Jumping FLOAT NULL,Stamina FLOAT NULL,\n",
    "        Strength FLOAT NULL,Long_Shots FLOAT NULL,Aggression FLOAT NULL,Interceptions FLOAT NULL,Positioning FLOAT NULL,Vision FLOAT NULL,Penalties FLOAT NULL,\n",
    "        Composure FLOAT NULL,Marking FLOAT NULL,Standing_Tackle FLOAT NULL,Sliding_Tackle FLOAT NULL,GK_Diving FLOAT NULL,--Rating FLOAT NULL, \t\n",
    "        GK_Handling FLOAT NULL,\tGK_Kicking FLOAT NULL,\tGK_Positioning FLOAT NULL,\tGK_Reflexes FLOAT NULL,\n",
    "        PRIMARY KEY (Player_ID)\n",
    "    );\n",
    "    \"\"\""
   ]
  },
  {
   "cell_type": "code",
   "execution_count": 3,
   "metadata": {},
   "outputs": [],
   "source": [
    "# import psycopg2\n",
    "# import config as creds\n",
    "\n",
    "# def connect():    \n",
    "#     # Set up a connection to the postgres server.\n",
    "#     conn_string = \"host=\"+ creds.pg_rds_endpoint +\" port=\"+ \"5432\" +\" dbname=\"+ creds.pg_db_name +\" user=\" + creds.pg_user \\\n",
    "#                   +\" password=\"+ creds.pg_pwd\n",
    "    \n",
    "#     conn = psycopg2.connect(conn_string)\n",
    "#     print(\"Connected!\")\n",
    "\n",
    "#     # Create a cursor object\n",
    "#     cursor = conn.cursor()\n",
    "    \n",
    "#     return conn, cursor\n",
    "\n",
    "# def disconnect(conn, cursor):\n",
    "#     cursor.close()\n",
    "#     conn.close()\n",
    "      \n",
    "def load_data_onto_db(cursor):\n",
    "    with open('../resources/fifa_world_players_clean.csv', 'r', encoding=\"UTF8\") as row:\n",
    "        next(row) # Skip the header row.\n",
    "        cursor.copy_from(row, 'players', sep=',')\n"
   ]
  },
  {
   "cell_type": "code",
   "execution_count": 4,
   "metadata": {},
   "outputs": [
    {
     "output_type": "stream",
     "name": "stdout",
     "text": [
      "Connected!\n",
      "Wall time: 9.58 s\n"
     ]
    }
   ],
   "source": [
    "conn, cursor= connect()\n",
    "\n",
    "# Execute SQL Command and commit to DB\n",
    "cursor.execute(create_table)\n",
    "\n",
    "# Load csv raw data onto database\n",
    "%time load_data_onto_db(cursor)\n",
    "conn.commit()\n",
    "\n",
    "\n",
    "# test_data_load(cursor)\n",
    "# %time test_keepers_load(cursor)\n",
    "\n",
    "# Disconnect from DB\n",
    "disconnect(conn, cursor)"
   ]
  },
  {
   "cell_type": "code",
   "execution_count": 120,
   "metadata": {},
   "outputs": [],
   "source": [
    "# Test data loading\n",
    "def test_data_load(cursor):\n",
    "    import pandas\n",
    "\n",
    "    sql = \"\"\" SELECT * from players\"\"\"\n",
    "    df = pandas.read_sql(sql, con=conn)\n",
    "    display(df)\n",
    "    \n",
    "# Test data loading\n",
    "def test_keepers_load(cursor):\n",
    "    import pandas\n",
    "\n",
    "    sql = \"\"\" SELECT * from players where field_position = 'GK' \"\"\"\n",
    "    df = pandas.read_sql(sql, con=conn)\n",
    "    display(df)"
   ]
  },
  {
   "cell_type": "code",
   "execution_count": 121,
   "metadata": {},
   "outputs": [],
   "source": [
    "# --command \" \"\\\\copy public.players (player_id, name, age, nationality, flag, overall, potential, club, club_logo, value, wage, special, preferred_foot, international_reputation, weak_foot, skills_moves, work_rate, body_type, real_face, \\\"position\\\", jersey_number, joined, loaned_from, contract_valid_until, height, weight, crossing, finishing, heading_accuracy, short_passing, volleys, dribbling, curve, fk_accuracy, long_passing, ball_control, acceleration, sprint_speed, agility, reactions, balance, shot_power, jumping, stamina, strength, long_shots, aggression, interceptions, positioning, vision, penalties, composure, marking, standing_tackle, sliding_tackle, gk_diving, rating, gk_handling, gk_kicking, gk_positioning, gk_reflexes, release_clause) FROM 'E:/DATA-E~1/MOCA0B~1/RESOUR~1/FIFA_W~1.CSV' DELIMITER ',' CSV HEADER ENCODING 'UTF8' QUOTE '\\\"' ESCAPE '''';\"\""
   ]
  }
 ]
}